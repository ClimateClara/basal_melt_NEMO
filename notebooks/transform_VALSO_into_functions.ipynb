{
 "cells": [
  {
   "cell_type": "code",
   "execution_count": null,
   "id": "0d1d63f5-4aa0-4a0f-9099-d768f7923d10",
   "metadata": {},
   "outputs": [],
   "source": [
    "\"\"\"\n",
    "Created on Thu Jan 16 14:55 2023\n",
    "\n",
    "Trying to do overview plots like Pierre\n",
    "\n",
    "Author: @claraburgard\n",
    "\"\"\""
   ]
  },
  {
   "cell_type": "code",
   "execution_count": 1,
   "id": "ff120c24-66b8-4552-a25c-4709d5935b45",
   "metadata": {},
   "outputs": [],
   "source": [
    "import xarray as xr\n",
    "import numpy as np\n",
    "\n",
    "import matplotlib.pyplot as plt\n",
    "import matplotlib as mpl\n",
    "import cmocean\n",
    "\n",
    "import cartopy.crs as ccrs\n",
    "import cartopy.feature\n",
    "from cartopy.util import add_cyclic_point\n",
    "import seaborn as sns\n",
    "import cartopy\n",
    "import matplotlib.colors as colors\n",
    "from matplotlib.colors import Normalize\n",
    "from cartopy.feature import LAND\n",
    "\n",
    "import gsw\n",
    "\n",
    "import basal_melt_NEMO.metrics_functions as mf\n",
    "\n",
    "from basal_melt_NEMO.constants import *\n",
    "import basal_melt_NEMO.figure_functions as figf\n",
    "import basal_melt_NEMO.useful_functions as uf"
   ]
  },
  {
   "cell_type": "code",
   "execution_count": 2,
   "id": "23fdcde6-7460-419d-a430-26298e7ecf18",
   "metadata": {},
   "outputs": [],
   "source": [
    "sns.set_context('paper')"
   ]
  },
  {
   "cell_type": "code",
   "execution_count": 3,
   "id": "0ee91924-85f9-4a9e-9d2c-ae16df0276cf",
   "metadata": {},
   "outputs": [
    {
     "name": "stderr",
     "output_type": "stream",
     "text": [
      "QStandardPaths: error creating runtime directory '/run/user/2784' (Permission denied)\n"
     ]
    }
   ],
   "source": [
    "%matplotlib qt5"
   ]
  },
  {
   "cell_type": "markdown",
   "id": "bfdce31b-0f0a-4328-868d-8ed49d375f47",
   "metadata": {},
   "source": [
    "READ IN DATA"
   ]
  },
  {
   "cell_type": "code",
   "execution_count": 4,
   "id": "41e2ef0a-5667-45b5-bb3e-5d8ea3477628",
   "metadata": {},
   "outputs": [],
   "source": [
    "inputpath_closed='/data/cdelaver/n42tm21/'\n",
    "inputpath_open='/data/cdelaver/n42openc/'\n",
    "clara_path='/data/cburgard/CASIMIR_SIMU/interim/XR_PROCESSED/'\n",
    "plot_path = '/data/cburgard/PLOTS/first_plots/'\n",
    "mask_path = '/data/cburgard/TOOLS/'"
   ]
  },
  {
   "cell_type": "code",
   "execution_count": 5,
   "id": "674cbcff-85f4-4bd0-bd19-4cb0aa90d440",
   "metadata": {},
   "outputs": [],
   "source": [
    "### FILE T PREPARATION"
   ]
  },
  {
   "cell_type": "code",
   "execution_count": 6,
   "id": "c6cfda4b-47f9-407a-a473-35550078a970",
   "metadata": {},
   "outputs": [],
   "source": [
    "file_open_list = []\n",
    "file_closed_list = []\n",
    "\n",
    "for yy in range(9):\n",
    "    yy1=yy+1\n",
    "    file_open = xr.open_mfdataset(inputpath_open + 'n42openc_00'+str(yy)+'10101_00'+str(yy1)+'01231_1Y_grid_T.nc')\n",
    "    file_closed = xr.open_mfdataset(inputpath_closed + 'n42tm21_00'+str(yy)+'10101_00'+str(yy1)+'01231_1Y_grid_T.nc')\n",
    "    file_open_list.append(file_open)\n",
    "    file_closed_list.append(file_closed)\n",
    "file_T_open_all = xr.concat(file_open_list, dim='time_counter')\n",
    "file_T_closed_all = xr.concat(file_closed_list, dim='time_counter')\n"
   ]
  },
  {
   "cell_type": "code",
   "execution_count": 7,
   "id": "a1541a47-1f44-4d0c-a5e7-1dc17eb2554f",
   "metadata": {},
   "outputs": [],
   "source": [
    "file_T_open_all = file_T_open_all.rename({'time_counter':'time'}) \n",
    "file_T_open_all['time'] = file_T_open_all['time'].dt.year\n",
    "file_T_open_all = file_T_open_all.where(file_T_open_all['so'] > 0)\n",
    "\n",
    "file_T_closed_all = file_T_closed_all.rename({'time_counter':'time'}) \n",
    "file_T_closed_all['time'] = file_T_closed_all['time'].dt.year"
   ]
  },
  {
   "cell_type": "code",
   "execution_count": 8,
   "id": "27390288-83aa-437f-aa23-60c82a129d83",
   "metadata": {},
   "outputs": [],
   "source": [
    "mask_land_closed = file_T_closed_all['so'].isel(time=0,deptht=0)\n",
    "mask_land_open = file_T_open_all['so'].isel(time=0)"
   ]
  },
  {
   "cell_type": "code",
   "execution_count": 9,
   "id": "bfe1331a-0888-4cdc-8165-8e0f8cbf5421",
   "metadata": {},
   "outputs": [],
   "source": [
    "cellarea_open = file_T_open_all['area'].isel(time=0).where(mask_land_open > 0).drop('time')\n",
    "cellarea_closed = file_T_closed_all['area'].isel(time=0).where(mask_land_closed > 0).drop('time')"
   ]
  },
  {
   "cell_type": "code",
   "execution_count": 10,
   "id": "4a1dfa0d-1ca5-49de-83c0-7cdcdeff43bb",
   "metadata": {},
   "outputs": [],
   "source": [
    "### FILE U PREPARATION"
   ]
  },
  {
   "cell_type": "code",
   "execution_count": 11,
   "id": "a39a748f-a04e-4268-a7c4-38f741ba1ae6",
   "metadata": {},
   "outputs": [],
   "source": [
    "file_open_list = []\n",
    "file_closed_list = []\n",
    "\n",
    "for yy in range(9):\n",
    "    yy1=yy+1\n",
    "\n",
    "    file_open = xr.open_mfdataset(inputpath_open + 'n42openc_00'+str(yy)+'10101_00'+str(yy1)+'01231_1Y_grid_U.nc')\n",
    "    file_closed = xr.open_mfdataset(inputpath_closed + 'n42tm21_00'+str(yy)+'10101_00'+str(yy1)+'01231_1Y_grid_U.nc')\n",
    "    file_open_list.append(file_open)\n",
    "    file_closed_list.append(file_closed)\n",
    "    \n",
    "file_U_open_all = xr.concat(file_open_list, dim='time_counter')\n",
    "file_U_closed_all = xr.concat(file_closed_list, dim='time_counter')\n",
    "\n",
    "file_U_open_all = file_U_open_all.rename({'time_counter':'time'}) \n",
    "file_U_open_all['time'] = file_U_open_all['time'].dt.year\n",
    "\n",
    "file_U_closed_all = file_U_closed_all.rename({'time_counter':'time'}) \n",
    "file_U_closed_all['time'] = file_U_closed_all['time'].dt.year"
   ]
  },
  {
   "cell_type": "code",
   "execution_count": 12,
   "id": "8f337a85-5e90-442f-8a2e-8829935090f4",
   "metadata": {},
   "outputs": [],
   "source": [
    "u_vertsum_open = (file_U_open_all['uocetr_eff'] * (mask_land_open.rename({'deptht':'depthu'}) > 0)).sum('depthu')\n",
    "u_vertsum_closed = (file_U_closed_all['uocetr_eff'] * (mask_land_closed.rename({'deptht':'depthu'}) > 0)).sum('depthu')"
   ]
  },
  {
   "cell_type": "code",
   "execution_count": 13,
   "id": "5fbad79d-a661-40f4-a53d-3592c778a984",
   "metadata": {},
   "outputs": [],
   "source": [
    "### FILE V PREPARATION"
   ]
  },
  {
   "cell_type": "code",
   "execution_count": 14,
   "id": "1ffd7cf4-2735-4e5f-8eb0-21707d6131ec",
   "metadata": {},
   "outputs": [],
   "source": [
    "file_open_list = []\n",
    "file_closed_list = []\n",
    "\n",
    "for yy in range(9):\n",
    "    yy1=yy+1\n",
    "\n",
    "    file_open = xr.open_mfdataset(inputpath_open + 'n42openc_00'+str(yy)+'10101_00'+str(yy1)+'01231_1Y_grid_V.nc')\n",
    "    file_closed = xr.open_mfdataset(inputpath_closed + 'n42tm21_00'+str(yy)+'10101_00'+str(yy1)+'01231_1Y_grid_V.nc')\n",
    "    file_open_list.append(file_open)\n",
    "    file_closed_list.append(file_closed)\n",
    "    \n",
    "file_V_open_all = xr.concat(file_open_list, dim='time_counter')\n",
    "file_V_closed_all = xr.concat(file_closed_list, dim='time_counter')\n",
    "\n",
    "file_V_open_all = file_V_open_all.rename({'time_counter':'time'}) \n",
    "file_V_open_all['time'] = file_V_open_all['time'].dt.year\n",
    "\n",
    "file_V_closed_all = file_V_closed_all.rename({'time_counter':'time'}) \n",
    "file_V_closed_all['time'] = file_V_closed_all['time'].dt.year"
   ]
  },
  {
   "cell_type": "code",
   "execution_count": 15,
   "id": "cdf775c8-1e91-425c-a2b3-bc5f1ab0850b",
   "metadata": {},
   "outputs": [],
   "source": [
    "### SEA ICE FILE PREPARATION"
   ]
  },
  {
   "cell_type": "code",
   "execution_count": 16,
   "id": "bf34d31d-e9b6-41df-9f5c-bd3d889130a5",
   "metadata": {},
   "outputs": [],
   "source": [
    "file_open_list = []\n",
    "file_closed_list = []\n",
    "\n",
    "for yy in range(9):\n",
    "\n",
    "    file_open = xr.open_mfdataset(inputpath_open+'/n42openc_00'+str(yy)+'10101_00'+str(yy+1)+'01231_1M_icemod.nc')\n",
    "    file_closed = xr.open_mfdataset(inputpath_closed+'/n42tm21_00'+str(yy)+'10101_00'+str(yy+1)+'01231_1M_icemod.nc')\n",
    "    file_open_list.append(file_open)\n",
    "    file_closed_list.append(file_closed)\n",
    "\n",
    "file_ice_open_all = xr.concat(file_open_list, dim='time_counter')\n",
    "file_ice_closed_all = xr.concat(file_closed_list, dim='time_counter')\n"
   ]
  },
  {
   "cell_type": "code",
   "execution_count": 17,
   "id": "ffc1f2e6-0654-482b-bc52-6c77cc321514",
   "metadata": {},
   "outputs": [],
   "source": [
    "### MASK FILE"
   ]
  },
  {
   "cell_type": "code",
   "execution_count": 18,
   "id": "47f240e5-31eb-4d57-a604-ab074c24c1b2",
   "metadata": {},
   "outputs": [],
   "source": [
    "ocean_masks = xr.open_dataset(mask_path + 'basin_masks_orca1_nemo4p2.nc')"
   ]
  },
  {
   "cell_type": "code",
   "execution_count": 19,
   "id": "c23e61bd-7256-46b3-99e4-4d8df7736366",
   "metadata": {},
   "outputs": [],
   "source": [
    "### VAR LIST"
   ]
  },
  {
   "cell_type": "code",
   "execution_count": 20,
   "id": "7ca50efd-6893-4bc7-98e7-a57963a77f30",
   "metadata": {},
   "outputs": [],
   "source": [
    "var_ocean_list_in = ['global_SST', 'wed_gyre','ross_gyre','ACC',\n",
    "            #'FRIS_melt','Ross_melt','LarsenC_melt','total_melt',\n",
    "            'Sbot_WWED','Sbot_EWED','Sbot_WROSS','Sbot_EROSS','Sbot_AMU',\n",
    "            'Tbot_WWED','Tbot_EWED','Tbot_WROSS','Tbot_EROSS','Tbot_AMU',\n",
    "            'OHC_tot','OHC_700','OHC_2000',\n",
    "            'AMOC_26N','AMOC_30S']\n",
    "\n",
    "var_seaice_list_in = ['mar_sie_arc','sep_sie_arc','feb_sie_ant','sep_sie_ant',\n",
    "                      'mar_sia_arc','sep_sia_arc','feb_sia_ant','sep_sia_ant',\n",
    "                     'mar_siv_arc','sep_siv_arc','feb_siv_ant','sep_siv_ant']"
   ]
  },
  {
   "cell_type": "code",
   "execution_count": 21,
   "id": "1fc5d469-2a20-42f7-a72e-8e7769aa9f3d",
   "metadata": {},
   "outputs": [
    {
     "name": "stdout",
     "output_type": "stream",
     "text": [
      "USING CELL AREA FROM RUN NUMBER 1 IN THE LIST\n",
      "closed_isf\n",
      "Computing global SST\n",
      "Computing ACC\n",
      "Computing gyres\n",
      "Computing bottom properties\n",
      "Computing ocean heat content\n",
      "open_isf\n",
      "Computing global SST\n",
      "Computing ACC\n",
      "Computing gyres\n",
      "Computing bottom properties\n",
      "Computing ocean heat content\n"
     ]
    },
    {
     "name": "stderr",
     "output_type": "stream",
     "text": [
      "libGL error: No matching fbConfigs or visuals found\n",
      "libGL error: failed to load driver: swrast\n"
     ]
    }
   ],
   "source": [
    "var_ds_all = mf.compute_VALSO_ocean_metrics(var_ocean_list_in, \n",
    "                                       ['closed_isf','open_isf'], \n",
    "                                      [file_T_closed_all, file_T_open_all], \n",
    "                                      [file_U_closed_all, file_U_open_all], \n",
    "                                      [file_V_closed_all, file_V_open_all], \n",
    "                                      [cellarea_closed, cellarea_open], \n",
    "                                         ocean_masks, \n",
    "                                         smallest_domain=True)\n",
    "\n",
    "f = mf.VALSO_plot_ocean_comparison(var_ocean_list_in, \n",
    "                        var_ds_all,\n",
    "                      ['closed_isf','open_isf'], \n",
    "                      ['deepskyblue','royalblue'])\n",
    "f.show()"
   ]
  },
  {
   "cell_type": "code",
   "execution_count": null,
   "id": "74c20690-d104-41eb-ab8a-e244b9ebd8e2",
   "metadata": {},
   "outputs": [
    {
     "name": "stdout",
     "output_type": "stream",
     "text": [
      "USING CELL AREA FROM RUN NUMBER 1 IN THE LIST\n",
      "closed_isf\n",
      "Computing sea-ice extent\n",
      "Computing sea-ice area\n"
     ]
    }
   ],
   "source": [
    "var_ds_seaice = mf.compute_VALSO_seaice_metrics(var_seaice_list_in, \n",
    "                                        ['closed_isf','open_isf'], \n",
    "                                        [file_T_closed_all, file_T_open_all], \n",
    "                                        [file_ice_closed_all, file_ice_open_all], \n",
    "                                        [cellarea_closed, cellarea_open], \n",
    "                                        ['deepskyblue','royalblue'],\n",
    "                                        smallest_domain=True)\n",
    "\n",
    "f_seaice = mf.VALSO_plot_seaice_comparison(var_seaice_list_in, \n",
    "                                        var_ds_seaice, \n",
    "                                        ['closed_isf','open_isf'],  \n",
    "                                        ['deepskyblue','royalblue'])"
   ]
  },
  {
   "cell_type": "code",
   "execution_count": null,
   "id": "8f2fb969-4ec2-4529-a77e-04943f7389d7",
   "metadata": {},
   "outputs": [],
   "source": [
    "print('OK done')"
   ]
  },
  {
   "cell_type": "code",
   "execution_count": null,
   "id": "e6933139-eabb-427d-b70f-51a49c46d36b",
   "metadata": {},
   "outputs": [],
   "source": [
    "def var_obs_mean_std(var_list_in):\n",
    "\n",
    "    var_list = ['global_SST','wed_gyre','ross_gyre','ACC',\n",
    "                'FRIS_melt','Ross_melt','LarsenC_melt','total_melt',\n",
    "                'mar_sie_arc','sep_sie_arc','feb_sie_ant','sep_sie_ant',\n",
    "                'mar_sia_arc','sep_sia_arc','feb_sia_ant','sep_sia_ant',\n",
    "                'mar_siv_arc','sep_siv_arc','feb_siv_ant','sep_siv_ant',\n",
    "                'Sbot_WWED','Sbot_EWED','Sbot_WROSS','Sbot_EROSS','Sbot_AMU',\n",
    "                'Tbot_WWED','Tbot_EWED','Tbot_WROSS','Tbot_EROSS','Tbot_AMU',\n",
    "               'AMOC_26N','AMOC_30S','OHC_tot','OHC_700','OHC_2000']\n",
    "    \n",
    "    var_obs_mean = xr.DataArray(data=np.array([\n",
    "                20., 56.0, 20.0, 136.7, \n",
    "               155.4, 47.7, 20.7, 1500,\n",
    "               15.3, 6.3, 3.3, 19.8, \n",
    "               14.4, 6.0, 2.25, 15.0,\n",
    "               27., 9., 2.5, 20.,\n",
    "               34.9, np.nan, 35.0, np.nan, np.nan, \n",
    "               np.nan, -1.95, -1.9, -1.7, np.nan,\n",
    "               17.0, np.nan, np.nan, np.nan, np.nan]), dims='var').assign_coords({'var': var_list})\n",
    "\n",
    "    var_obs_std = xr.DataArray(data=np.array([\n",
    "                  np.nan, 8.0, 5.0, 7.8, \n",
    "                  45.0, 34.0, 67.0, 237,\n",
    "                  1.0, 1.0, 0.5, 0.5, \n",
    "                  1.29, 1.49, 0.25, 0.4,\n",
    "                  3, 3, 2, 5,\n",
    "                  0.0, np.nan, 0.0, np.nan, np.nan,\n",
    "                  np.nan, 0.2, 0.4, 0.4, np.nan,\n",
    "                  10.0, np.nan, np.nan, np.nan, np.nan]), dims='var').assign_coords({'var': var_list})\n",
    "\n",
    "    return var_obs_mean.sel(var=var_list_in), var_obs_std.sel(var=var_list_in)"
   ]
  },
  {
   "cell_type": "code",
   "execution_count": null,
   "id": "edfeb03b-a577-4bcd-a027-90580110bbaa",
   "metadata": {},
   "outputs": [],
   "source": [
    "def bottom_prop_reg(var,reg,bottom_cell):\n",
    "\n",
    "    # mask regions for bottom properties\n",
    "    mask_regions = xr.Dataset()\n",
    "    mask_regions['AMU'] = (lon >= -109.64) & (lon <= -102.23) & (lat >= -75.80) & (lat <= -71.66)\n",
    "    mask_regions['WROSS'] = (lon >= 157.100) & (lon <= 173.333) & (lat >= -78.130) & (lat <= -74.040)\n",
    "    mask_regions['EROSS'] = (lon >= -176.790) & (lon <= -157.820) & (lat >= -78.870) & (lat <= -77.520)\n",
    "    mask_regions['WWED'] = (lon >= -65.130) & (lon <= -53.020) & (lat >= -75.950) & (lat <= -72.340)\n",
    "    mask_regions['EWED'] = (lon >= -45.647) & (lon <= -32.253) & (lat >= -78.632) & (lat <= -76.899)\n",
    "    \n",
    "    return var.isel(deptht=bottom_cell).where(mask_regions[reg], drop=True)"
   ]
  },
  {
   "cell_type": "code",
   "execution_count": null,
   "id": "19e81245-b0f0-41c7-ae24-7cfaabcb09c6",
   "metadata": {},
   "outputs": [],
   "source": [
    "def compute_VALSO_ocean_metrics(var_list_in, run_name_list, vector_T_list, vector_U_list, vector_V_list, cellarea_list, ocean_masks, smallest_domain=True):\n",
    "\n",
    "    var_ds_list = []\n",
    "\n",
    "    if smallest_domain:\n",
    "        cc_prev = 10**23\n",
    "        for n,cc in enumerate(cellarea_list):\n",
    "            if cc.sum() < cc_prev:\n",
    "                cc_prev = cc.sum().load()\n",
    "                n_small = n\n",
    "                \n",
    "        cell_area = cellarea_list[n_small]\n",
    "        print('USING CELL AREA FROM RUN NUMBER '+str(n)+' IN THE LIST')\n",
    "    else:\n",
    "        print('USING CELL AREA FROM EACH RUN SEPARATELY')\n",
    "        \n",
    "    for n,rrun in enumerate(run_name_list):\n",
    "        print(run_name_list[n])\n",
    "        \n",
    "        var_to_plot = xr.Dataset()\n",
    "\n",
    "        file_T_n = vector_T_list[n]\n",
    "        file_U_n = vector_U_list[n]\n",
    "        file_V_n = vector_V_list[n]\n",
    "\n",
    "        #### format cell_area\n",
    "        if not smallest_domain:\n",
    "            cell_area = cellarea_list[n]\n",
    "\n",
    "        if 'deptht' in cell_area.dims:\n",
    "            cell_area_here = cell_area.isel(deptht=0)\n",
    "        else:\n",
    "            cell_area_here = cell_area\n",
    "\n",
    "        mask_land = file_T_n['so'].isel(time=0,deptht=0).squeeze().drop('time')\n",
    "\n",
    "        lon = file_T_n.nav_lon\n",
    "        lat = file_T_n.nav_lat\n",
    "\n",
    "\n",
    "        ### prepare integrated horizontal mass transport\n",
    "        if ('ACC' in var_list_in) or ('wed_gyre' in var_list_in) or ('ross_gyre' in var_list_in):\n",
    "            \n",
    "            u_vertsum = (file_U_n['uocetr_eff'] * (mask_land.rename({'deptht':'depthu'}) > 0)).sum('depthu').load()\n",
    "\n",
    "        #######\n",
    "        if 'global_SST' in var_list_in:\n",
    "            print('Computing global SST')\n",
    "            if 'deptht' in cell_area.dims:\n",
    "                cell_area_here = cell_area.isel(deptht=0)\n",
    "            else:\n",
    "                cell_area_here = cell_area\n",
    "                \n",
    "            var_to_plot['global_SST'] = uf.weighted_mean(file_T_n['thetao'].isel(deptht=0),['x','y'],cell_area_here)\n",
    "        \n",
    "        #######\n",
    "        if 'ACC' in var_list_in:\n",
    "            print('Computing ACC')\n",
    "            var_to_plot['ACC'] = u_vertsum.sel(x=220,y=range(79,107)).sum('y')\n",
    "            var_to_plot['ACC'] = var_to_plot['ACC']/10**6\n",
    "\n",
    "\n",
    "        ########\n",
    "        print('Computing gyres')\n",
    "        if 'wed_gyre' in var_list_in:\n",
    "            uocetr_Wed = u_vertsum.where(uf.in_range(cell_area_here.nav_lat,[-66.50,-60.40]) & uf.in_range(cell_area_here.nav_lon,[-31.25,37.50]), drop=True)\n",
    "\n",
    "            var_to_plot['wed_gyre'] = uocetr_Wed.cumsum('y').max(['y','x'])/10**6\n",
    "        \n",
    "        ########\n",
    "        if 'ross_gyre' in var_list_in:\n",
    "            uocetr_Ross = u_vertsum.where(uf.in_range(cell_area_here.nav_lat,[-72.650,-61.600]) & ((cell_area_here.nav_lon <= -135.75) | (cell_area_here.nav_lon >= 360-168.500)), drop=True)\n",
    "            \n",
    "            var_to_plot['ross_gyre'] = uocetr_Ross.cumsum('y').max(['y','x'])/10**6\n",
    "\n",
    "        ########\n",
    "        print('Computing bottom properties')\n",
    "        mask_cells = (file_T_n['so'] > 0).isel(time=0).drop('time').drop('time_centered').load()\n",
    "        bottom_cell = mask_cells.sum('deptht') - 1\n",
    "\n",
    "        if 'Tbot_AMU' in var_list_in:\n",
    "            reg = 'AMU'\n",
    "            var_to_plot['Tbot_'+reg] = bottom_prop_reg(file_T_n['thetao'],reg,bottom_cell).mean(['x','y'])\n",
    "            var_to_plot['Sbot_'+reg] = bottom_prop_reg(file_T_n['so'],reg,bottom_cell).mean(['x','y'])\n",
    "\n",
    "        if 'Tbot_WROSS' in var_list_in:\n",
    "            reg = 'WROSS'\n",
    "            var_to_plot['Tbot_'+reg] = bottom_prop_reg(file_T_n['thetao'],reg,bottom_cell).mean(['x','y'])\n",
    "            var_to_plot['Sbot_'+reg] = bottom_prop_reg(file_T_n['so'],reg,bottom_cell).mean(['x','y'])\n",
    "\n",
    "        if 'Tbot_EROSS' in var_list_in:\n",
    "            reg = 'EROSS'\n",
    "            var_to_plot['Tbot_'+reg] = bottom_prop_reg(file_T_n['thetao'],reg,bottom_cell).mean(['x','y'])\n",
    "            var_to_plot['Sbot_'+reg] = bottom_prop_reg(file_T_n['so'],reg,bottom_cell).mean(['x','y'])\n",
    "\n",
    "        if 'Tbot_WWED' in var_list_in:\n",
    "            reg = 'WWED'\n",
    "            var_to_plot['Tbot_'+reg] = bottom_prop_reg(file_T_n['thetao'],reg,bottom_cell).mean(['x','y'])\n",
    "            var_to_plot['Sbot_'+reg] = bottom_prop_reg(file_T_n['so'],reg,bottom_cell).mean(['x','y'])\n",
    "\n",
    "        if 'Tbot_EWED' in var_list_in:\n",
    "            reg = 'EWED'\n",
    "            var_to_plot['Tbot_'+reg] = bottom_prop_reg(file_T_n['thetao'],reg,bottom_cell).mean(['x','y'])\n",
    "            var_to_plot['Sbot_'+reg] = bottom_prop_reg(file_T_n['so'],reg,bottom_cell).mean(['x','y'])\n",
    "\n",
    "        ########\n",
    "        print('Computing ocean heat content')\n",
    "        \n",
    "        rho0 = 1020.\n",
    "        c_p = 4000.\n",
    "        \n",
    "        if 'OHC_tot' in var_list_in:\n",
    "            \n",
    "            var_to_plot['OHC_tot'] = rho0 * c_p * (file_T_n['thetao'] * cell_area_here * file_T_n['e3t']).sum(['x','y','deptht']) /10**22\n",
    "\n",
    "        if 'OHC_700' in var_list_in:\n",
    "            \n",
    "            deptht_700 = (file_T_n.deptht <= 700).sum()\n",
    "\n",
    "            var_to_plot['OHC_700'] = rho0 * c_p * (file_T_n['thetao'] * cell_area_here* file_T_n['e3t']).isel(deptht = np.arange(deptht_700)).sum(['x','y','deptht']) /10**22\n",
    "\n",
    "        if 'OHC_2000' in var_list_in:\n",
    "            \n",
    "            deptht_2000 = (file_T_n.deptht <= 2000).sum()\n",
    "\n",
    "            var_to_plot['OHC_2000'] = rho0 * c_p * (file_T_n['thetao'] * cell_area_here * file_T_n['e3t']).isel(deptht = np.arange(deptht_2000)).sum(['x','y','deptht']) /10**22\n",
    "\n",
    "        if 'AMOC_26N' in var_list_in:\n",
    "            \n",
    "            Atl_26N_mask = (lat<=26.5) & (lat>=25.5) & np.isfinite(ocean_masks['atlantic'])\n",
    "            v_atlsum_26N = file_V_n['vocetr_eff'].where(Atl_26N_mask,drop=True).sum('x')\n",
    "            var_to_plot['AMOC_26N'] = (v_atlsum_26N.assign_coords({'depthv': -1*file_V_n['vocetr_eff'].depthv}).cumsum('depthv') / 10**6).max(['depthv','y'])\n",
    "\n",
    "\n",
    "        if 'AMOC_30S' in var_list_in:\n",
    "\n",
    "            Atl_30S_mask = (lat<=-29.5) & (lat>=-30.5) & np.isfinite(ocean_masks['atlantic'])\n",
    "            v_atlsum_30S = file_V_n['vocetr_eff'].where(Atl_30S_mask,drop=True).sum('x')\n",
    "            var_to_plot['AMOC_30S'] = (v_atlsum_30S.assign_coords({'depthv': -1*file_V_n['vocetr_eff'].depthv}).cumsum('depthv') / 10**6).min(['depthv','y'])\n",
    "\n",
    "        \n",
    "        var_ds_list.append(var_to_plot.assign_coords({'run': rrun}))\n",
    "\n",
    "    var_ds_all = xr.concat(var_ds_list, dim='run')\n",
    "    return var_ds_all"
   ]
  },
  {
   "cell_type": "code",
   "execution_count": null,
   "id": "3e697949-3c50-44e4-a3c8-6894808d1f8b",
   "metadata": {},
   "outputs": [],
   "source": [
    "def VALSO_plot_ocean_comparison(var_list_in, var_ds_all, run_name_list, color_list):\n",
    "    \n",
    "    var_obs_mean, var_obs_std = var_obs_mean_std(var_list_in)\n",
    "\n",
    "    var_to_plot = var_ds_all.load()\n",
    "    \n",
    "    f = plt.figure()\n",
    "    f.set_size_inches(8.25*2, 8.25*2.2)\n",
    "    \n",
    "    ax={}\n",
    "    \n",
    "    leg_hdl = []\n",
    "    \n",
    "    i = 0\n",
    "    \n",
    "    for vv in var_list_in:\n",
    "        \n",
    "        ax[i] = f.add_subplot(5,6,i+1)\n",
    "    \n",
    "        if vv in list(var_to_plot.keys()):\n",
    "            for n,nname in enumerate(run_name_list):\n",
    "                ax[i].plot(var_to_plot[vv].sel(run=nname), color=color_list[n])\n",
    "        \n",
    "        ax[i].axhline(y=var_obs_mean.sel(var=vv), color='black', linewidth=2)\n",
    "        ax[i].fill_between(x=np.arange(0,100),y1=var_obs_mean.sel(var=vv)-var_obs_std.sel(var=vv), y2=var_obs_mean.sel(var=vv)+var_obs_std.sel(var=vv), color='grey',alpha=0.2)\n",
    "    \n",
    "        if vv[0:3] == 'OHC':\n",
    "            ax[i].set_title(vv+' x 10$^{22}$ J')\n",
    "        else:\n",
    "            ax[i].set_title(vv)\n",
    "    \n",
    "        i = i+1\n",
    "    #f.legend()\n",
    "    #f.subplots_adjust(bottom=0.05, wspace=0.1)\n",
    "    \n",
    "    f.tight_layout()\n",
    "    sns.despine()\n",
    "\n",
    "    return f\n"
   ]
  },
  {
   "cell_type": "code",
   "execution_count": null,
   "id": "2aeb659c-3dd8-4a91-be20-8d9a30c49e69",
   "metadata": {},
   "outputs": [],
   "source": [
    "var_ds_all = compute_VALSO_ocean_metrics(var_ocean_list_in, \n",
    "                                       ['closed_isf','open_isf'], \n",
    "                                      [file_T_closed_all, file_T_open_all], \n",
    "                                      [file_U_closed_all, file_U_open_all], \n",
    "                                      [file_V_closed_all, file_V_open_all], \n",
    "                                      [cellarea_closed, cellarea_open], \n",
    "                                         ocean_masks, \n",
    "                                         smallest_domain=True)\n",
    "\n",
    "f = VALSO_plot_ocean_comparison(var_ocean_list_in, \n",
    "                        var_ds_all,\n",
    "                      ['closed_isf','open_isf'], \n",
    "                      ['deepskyblue','royalblue'])\n",
    "f.show()"
   ]
  },
  {
   "cell_type": "code",
   "execution_count": null,
   "id": "12509052-7576-45d6-979a-033ab91c87e3",
   "metadata": {},
   "outputs": [],
   "source": [
    "def compute_VALSO_seaice_metrics(var_seaice_list_in, run_name_list, vector_T_list, vector_seaice_list, cellarea_list, ocean_masks, smallest_domain=True):\n",
    "\n",
    "    var_ds_list = []\n",
    "\n",
    "    if smallest_domain:\n",
    "        cc_prev = 10**23\n",
    "        for n,cc in enumerate(cellarea_list):\n",
    "            if cc.sum() < cc_prev:\n",
    "                cc_prev = cc.sum().load()\n",
    "                n_small = n\n",
    "                \n",
    "        cell_area = cellarea_list[n_small]\n",
    "        print('USING CELL AREA FROM RUN NUMBER '+str(n)+' IN THE LIST')\n",
    "    else:\n",
    "        print('USING CELL AREA FROM EACH RUN SEPARATELY')\n",
    "        \n",
    "    for n,rrun in enumerate(run_name_list):\n",
    "        print(run_name_list[n])\n",
    "        \n",
    "        var_to_plot = xr.Dataset()\n",
    "\n",
    "        file_T_n = vector_T_list[n]\n",
    "        file_seaice_n = vector_seaice_list[n]\n",
    "\n",
    "\n",
    "        #### format cell_area\n",
    "        if not smallest_domain:\n",
    "            cell_area = cellarea_list[n]\n",
    "    \n",
    "        if 'deptht' in cell_area.dims:\n",
    "            cell_area_here = cell_area.isel(deptht=0).drop('deptht').load()\n",
    "        else:\n",
    "            cell_area_here = cell_area.load()\n",
    "\n",
    "        mask_land = file_T_n['so'].isel(time=0,deptht=0).squeeze().drop('time')\n",
    "\n",
    "        ########\n",
    "        \n",
    "        lon = cell_area_here.nav_lon\n",
    "        lat = cell_area_here.nav_lat\n",
    "        \n",
    "        mask_Arc = (lat >= 50) \n",
    "        mask_Ant = (lat <= -50) \n",
    "        \n",
    "        ########\n",
    "\n",
    "        if ('mar_sie_arc' in var_seaice_list_in) or ('sep_sie_arc' in var_seaice_list_in) or ('feb_sie_ant' in var_seaice_list_in) or ('sep_sie_ant' in var_seaice_list_in):\n",
    "            print('Computing sea-ice extent')\n",
    "            \n",
    "            file_ice_15 = file_seaice_n['siconc'] > 0.15\n",
    "\n",
    "            sie_Ant = (file_ice_15.where(mask_Ant) * cell_area_here).sum(['x','y']).rename({'time_counter':'time'}).load()\n",
    "            sie_Arc = (file_ice_15.where(mask_Arc) * cell_area_here).sum(['x','y']).rename({'time_counter':'time'}).load()\n",
    "\n",
    "        if 'mar_sie_arc' in var_seaice_list_in:\n",
    "            vvar = sie_Arc.where(sie_Arc['time.month'] == 3, drop=True).squeeze()/10**12\n",
    "            var_to_plot['mar_sie_arc'] = vvar.assign_coords({'time': vvar['time.year']})\n",
    "            \n",
    "        if 'sep_sie_arc' in var_seaice_list_in:\n",
    "            vvar = sie_Arc.where(sie_Arc['time.month'] == 9, drop=True).squeeze()/10**12\n",
    "            var_to_plot['sep_sie_arc'] = vvar.assign_coords({'time': vvar['time.year']})\n",
    "\n",
    "        if 'feb_sie_ant' in var_seaice_list_in:\n",
    "            vvar = sie_Ant.where(sie_Ant['time.month'] == 2, drop=True).squeeze()/10**12\n",
    "            var_to_plot['feb_sie_ant'] = vvar.assign_coords({'time': vvar['time.year']})\n",
    "\n",
    "        if 'sep_sie_ant' in var_seaice_list_in:\n",
    "            vvar = sie_Ant.where(sie_Ant['time.month'] == 9, drop=True).squeeze()/10**12\n",
    "            var_to_plot['sep_sie_ant'] = vvar.assign_coords({'time': vvar['time.year']})\n",
    "\n",
    "        ########\n",
    "\n",
    "        sia_Ant = (file_seaice_n['siconc'].where(mask_Ant) * cell_area_here).sum(['x','y']).rename({'time_counter':'time'}).load()\n",
    "        sia_Arc = (file_seaice_n['siconc'].where(mask_Arc) * cell_area_here).sum(['x','y']).rename({'time_counter':'time'}).load()\n",
    "\n",
    "        print('Computing sea-ice area')\n",
    "        \n",
    "        if 'mar_sia_arc' in var_seaice_list_in:\n",
    "            vvar = sia_Arc.where(sia_Arc['time.month'] == 3, drop=True).squeeze()/10**12\n",
    "            var_to_plot['mar_sia_arc'] = vvar.assign_coords({'time': vvar['time.year']})\n",
    "\n",
    "        if 'sep_sia_arc' in var_seaice_list_in:\n",
    "            vvar = sia_Arc.where(sia_Arc['time.month'] == 9, drop=True).squeeze()/10**12\n",
    "            var_to_plot['sep_sia_arc'] = vvar.assign_coords({'time': vvar['time.year']})\n",
    "\n",
    "        if 'feb_sia_ant' in var_seaice_list_in:\n",
    "            vvar = sia_Ant.where(sia_Ant['time.month'] == 2, drop=True).squeeze()/10**12\n",
    "            var_to_plot['feb_sia_ant'] = vvar.assign_coords({'time': vvar['time.year']})\n",
    "\n",
    "\n",
    "        if 'sep_sia_ant' in var_seaice_list_in:\n",
    "            vvar = sia_Ant.where(sia_Ant['time.month'] == 9, drop=True).squeeze()/10**12\n",
    "            var_to_plot['sep_sia_ant'] = vvar.assign_coords({'time': vvar['time.year']})\n",
    "\n",
    "        ########\n",
    "\n",
    "        siv_Ant = (file_seaice_n['sivolu'].where(mask_Ant) * cell_area_here).sum(['x','y']).rename({'time_counter':'time'}).load()\n",
    "        siv_Arc = (file_seaice_n['sivolu'].where(mask_Arc) * cell_area_here).sum(['x','y']).rename({'time_counter':'time'}).load()\n",
    "\n",
    "        print('Computing sea-ice volume')\n",
    "        \n",
    "        if 'mar_siv_arc' in var_seaice_list_in:\n",
    "            vvar = siv_Arc.where(siv_Arc['time.month'] == 3, drop=True).squeeze()/10**12\n",
    "            var_to_plot['mar_siv_arc'] = vvar.assign_coords({'time': vvar['time.year']})\n",
    "\n",
    "        if 'sep_siv_arc' in var_seaice_list_in:\n",
    "            vvar = siv_Arc.where(siv_Arc['time.month'] == 9, drop=True).squeeze()/10**12\n",
    "            var_to_plot['sep_siv_arc'] = vvar.assign_coords({'time': vvar['time.year']})\n",
    "\n",
    "        if 'feb_siv_ant' in var_seaice_list_in:\n",
    "            vvar = siv_Ant.where(siv_Ant['time.month'] == 2, drop=True).squeeze()/10**12\n",
    "            var_to_plot['feb_siv_ant'] = vvar.assign_coords({'time': vvar['time.year']})\n",
    "            \n",
    "        if 'sep_siv_ant' in var_seaice_list_in:\n",
    "            vvar = siv_Ant.where(siv_Ant['time.month'] == 9, drop=True).squeeze()/10**12\n",
    "            var_to_plot['sep_siv_ant'] = vvar.assign_coords({'time': vvar['time.year']})\n",
    "            \n",
    "        ########\n",
    "        \n",
    "        var_ds_list.append(var_to_plot.assign_coords({'run': rrun}))\n",
    "\n",
    "    var_ds_all = xr.concat(var_ds_list, dim='run')\n",
    "    return var_ds_all"
   ]
  },
  {
   "cell_type": "code",
   "execution_count": null,
   "id": "4ff87f5d-8f07-4486-b95a-cd7bb4e035b0",
   "metadata": {},
   "outputs": [],
   "source": [
    "def VALSO_plot_seaice_comparison(var_list_in, var_ds_all, run_name_list, color_list):\n",
    "    \n",
    "    var_obs_mean, var_obs_std = var_obs_mean_std(var_list_in)\n",
    "\n",
    "    #return var_ds_all\n",
    "    var_to_plot = var_ds_all.load()\n",
    "    \n",
    "    f = plt.figure()\n",
    "    f.set_size_inches(8.25*2, 8.25*2.2)\n",
    "    \n",
    "    ax={}\n",
    "    \n",
    "    leg_hdl = []\n",
    "    \n",
    "    i = 0\n",
    "    \n",
    "    for vv in var_list_in:\n",
    "        \n",
    "        ax[i] = f.add_subplot(5,6,i+1)\n",
    "    \n",
    "        if vv in list(var_to_plot.keys()):\n",
    "            for n,nname in enumerate(run_name_list):\n",
    "                ax[i].plot(var_to_plot[vv].sel(run=nname), color=color_list[n])\n",
    "        \n",
    "        ax[i].axhline(y=var_obs_mean.sel(var=vv), color='black', linewidth=2)\n",
    "        ax[i].fill_between(x=np.arange(0,100),y1=var_obs_mean.sel(var=vv)-var_obs_std.sel(var=vv), y2=var_obs_mean.sel(var=vv)+var_obs_std.sel(var=vv), color='grey',alpha=0.2)\n",
    "    \n",
    "        if vv[0:3] == 'OHC':\n",
    "            ax[i].set_title(vv+' x 10$^22$ J')\n",
    "        else:\n",
    "            ax[i].set_title(vv)\n",
    "    \n",
    "        i = i+1\n",
    "    #f.legend()\n",
    "    #f.subplots_adjust(bottom=0.05, wspace=0.1)\n",
    "    \n",
    "    f.tight_layout()\n",
    "    sns.despine()\n",
    "\n",
    "    return f, var_ds_all\n"
   ]
  },
  {
   "cell_type": "code",
   "execution_count": null,
   "id": "4a128618-56b0-4a97-a8dd-99cc3e025f2d",
   "metadata": {},
   "outputs": [],
   "source": [
    "var_ds_seaice = compute_VALSO_seaice_metrics(var_seaice_list_in, \n",
    "                                        ['closed_isf','open_isf'], \n",
    "                                        [file_T_closed_all, file_T_open_all], \n",
    "                                        [file_ice_closed_all, file_ice_open_all], \n",
    "                                        [cellarea_closed, cellarea_open], \n",
    "                                        ['deepskyblue','royalblue'],\n",
    "                                        smallest_domain=True)\n",
    "\n",
    "f_seaice = VALSO_plot_seaice_comparison(var_seaice_list_in, \n",
    "                                        var_ds_seaice, \n",
    "                                        ['closed_isf','open_isf'],  \n",
    "                                        ['deepskyblue','royalblue'])"
   ]
  },
  {
   "cell_type": "code",
   "execution_count": null,
   "id": "f3de9488-9b07-4992-bb94-0700ca8b5091",
   "metadata": {},
   "outputs": [],
   "source": []
  },
  {
   "cell_type": "code",
   "execution_count": null,
   "id": "87498485-3e61-4111-875e-b97d62ad3b25",
   "metadata": {},
   "outputs": [],
   "source": []
  },
  {
   "cell_type": "code",
   "execution_count": null,
   "id": "46e42f62-ba27-46fb-805d-1781be73dde7",
   "metadata": {},
   "outputs": [],
   "source": []
  },
  {
   "cell_type": "code",
   "execution_count": null,
   "id": "f7ac4375-11a2-4a90-933d-65e31d8ee969",
   "metadata": {},
   "outputs": [],
   "source": []
  },
  {
   "cell_type": "code",
   "execution_count": null,
   "id": "3dd961d3-40b9-4856-ac30-f5efca7a8fcb",
   "metadata": {},
   "outputs": [],
   "source": [
    "var_to_plot = xr.Dataset()"
   ]
  },
  {
   "cell_type": "code",
   "execution_count": null,
   "id": "2f3201c6-6e88-496b-8a76-2820b6a0ae3e",
   "metadata": {},
   "outputs": [],
   "source": [
    "### ICE SHELF MELT\n",
    "T_grid_vars_open = xr.open_dataset('/data/cburgard/CASIMIR_SIMU/interim/CDO_PROCESSED/n42openc/n42openc_0-100_1Y_grid_isfvars.nc')\n",
    "\n",
    "lon = T_grid_vars_open.nav_lon\n",
    "lat = T_grid_vars_open.nav_lat\n",
    "\n",
    "T_grid_vars_open = T_grid_vars_open.rename({'time_counter':'time'}) \n",
    "T_grid_vars_open['time'] = T_grid_vars_open['time'].dt.year\n",
    "\n",
    "mask_FRIS = (lon <= -30) & (lon >= -80.) & (lat >= -84.) & (lat <= -74.)\n",
    "mask_Ross = ((lon <= -120) | (lon >= 150)) & (lat >= -87.) & (lat <= -65.)\n",
    "mask_LarsenC = (lon <= -58) & (lon >= -66) & (lat >= -71.) & (lat <= -64.)"
   ]
  },
  {
   "cell_type": "code",
   "execution_count": null,
   "id": "95429f13-9105-4c42-a34d-54ffe26fdd51",
   "metadata": {},
   "outputs": [],
   "source": [
    "melt_all = (T_grid_vars_open['iceshelf_cav'] * cellarea_open.max('deptht') * yearinsec *10**(-12))\n",
    "FRIS_melt= melt_all.where(mask_FRIS).sum(['x','y'])\n",
    "Ross_melt = melt_all.where(mask_Ross).sum(['x','y'])\n",
    "LarsenC_melt = melt_all.where(mask_LarsenC).sum(['x','y'])\n",
    "\n",
    "var_to_plot['FRIS_melt'] = xr.concat([FRIS_melt.assign_coords({'cav':'open'}), FRIS_melt.assign_coords({'cav':'closed'}) * np.nan], dim='cav')\n",
    "var_to_plot['Ross_melt'] = xr.concat([Ross_melt.assign_coords({'cav':'open'}), Ross_melt.assign_coords({'cav':'closed'}) * np.nan], dim='cav')\n",
    "var_to_plot['LarsenC_melt'] = xr.concat([LarsenC_melt.assign_coords({'cav':'open'}), LarsenC_melt.assign_coords({'cav':'closed'}) * np.nan], dim='cav')\n",
    "\n",
    "var_to_plot['total_melt'] = var_to_plot['FRIS_melt'] + var_to_plot['Ross_melt'] + var_to_plot['LarsenC_melt'] + (T_grid_vars_open['iceshelf'] * cellarea_open.max('deptht') * yearinsec * 10**(-12)).sum(['x','y'])\n"
   ]
  },
  {
   "cell_type": "code",
   "execution_count": null,
   "id": "812b67ed-32d9-4935-9f57-d59bbf9865a1",
   "metadata": {},
   "outputs": [],
   "source": [
    "### AMOC (density binned)\n"
   ]
  },
  {
   "cell_type": "code",
   "execution_count": null,
   "id": "1f753ddf-a588-43d0-a383-96bef093c0df",
   "metadata": {},
   "outputs": [],
   "source": [
    "def compute_sigma2(da):\n",
    "    S = da['so']\n",
    "    T = da['thetao']\n",
    "    return gsw.density.sigma2(S, T)"
   ]
  },
  {
   "cell_type": "code",
   "execution_count": null,
   "id": "2630a5d6-88dc-404b-88b5-1b096a476637",
   "metadata": {},
   "outputs": [],
   "source": [
    "sigma2_closed = compute_sigma2(file_T_closed_all)\n",
    "sigma2_open = compute_sigma2(file_T_open_all)\n",
    "\n",
    "sigma2_closed_v = ((sigma2_closed + sigma2_closed.shift(deptht=1)) * 0.5).bfill('deptht').rename({'deptht':'depthv'})\n",
    "sigma2_open_v = ((sigma2_open + sigma2_open.shift(deptht=1)) * 0.5).bfill('deptht').rename({'deptht':'depthv'})"
   ]
  },
  {
   "cell_type": "code",
   "execution_count": null,
   "id": "499d3367-0f1c-44f4-b49a-c4303cdf9b23",
   "metadata": {},
   "outputs": [],
   "source": [
    "vocetr_eff_closed = file_V_closed_all['vocetr_eff']\n",
    "vocetr_eff_open = file_V_open_all['vocetr_eff']"
   ]
  },
  {
   "cell_type": "code",
   "execution_count": null,
   "id": "643041df-17a1-421d-8d92-a09c8f2ec0b1",
   "metadata": {},
   "outputs": [],
   "source": [
    "cellvol_closed = file_V_closed_all['e3v'] * cellarea_closed\n",
    "cellvol_open = file_V_open_all['e3v'] * cellarea_open"
   ]
  },
  {
   "cell_type": "code",
   "execution_count": null,
   "id": "c7691a3a-35ee-4ff7-99df-4513ccf8391a",
   "metadata": {},
   "outputs": [],
   "source": [
    "celldep_closed = "
   ]
  },
  {
   "cell_type": "code",
   "execution_count": null,
   "id": "a59443db-e8da-4e9e-b12d-ae481fbfe91f",
   "metadata": {},
   "outputs": [],
   "source": [
    "cellvol_closed.isel(time=0).sum().load()"
   ]
  },
  {
   "cell_type": "code",
   "execution_count": null,
   "id": "fed54457-92df-4dfc-af28-4654e8b0e278",
   "metadata": {},
   "outputs": [],
   "source": [
    "var_to_plot = var_to_plot.load()"
   ]
  },
  {
   "cell_type": "code",
   "execution_count": null,
   "id": "47914bec-9b61-427d-9ce5-d57ad1bd26c8",
   "metadata": {},
   "outputs": [],
   "source": [
    "f = plt.figure()\n",
    "f.set_size_inches(8.25*2, 8.25*2.2)\n",
    "\n",
    "ax={}\n",
    "\n",
    "leg_hdl = []\n",
    "\n",
    "i = 0\n",
    "\n",
    "\n",
    "for vv in var_list:\n",
    "    \n",
    "    ax[i] = f.add_subplot(5,6,i+1)\n",
    "\n",
    "    if vv in list(var_to_plot.keys()):\n",
    "        ax[i].plot(var_to_plot[vv].sel(cav='open'), color='deepskyblue')\n",
    "        ax[i].plot(var_to_plot[vv].sel(cav='closed'), color='royalblue')\n",
    "    \n",
    "    ax[i].axhline(y=var_obs_mean.sel(var=vv), color='black', linewidth=2)\n",
    "    ax[i].fill_between(x=np.arange(0,100),y1=var_obs_mean.sel(var=vv)-var_obs_std.sel(var=vv), y2=var_obs_mean.sel(var=vv)+var_obs_std.sel(var=vv), color='grey',alpha=0.2)\n",
    "\n",
    "    if vv[0:3] == 'OHC':\n",
    "        ax[i].set_title(vv+' x 10$^22$ J')\n",
    "    else:\n",
    "        ax[i].set_title(vv)\n",
    "\n",
    "    i = i+1\n",
    "#f.legend()\n",
    "#f.subplots_adjust(bottom=0.05, wspace=0.1)\n",
    "\n",
    "f.tight_layout()\n",
    "sns.despine()\n",
    "plt.savefig(plot_path + 'VALSO_comparison_plot.pdf')\n"
   ]
  },
  {
   "cell_type": "code",
   "execution_count": null,
   "id": "c5c80583-24b0-4e9c-9df6-f2617379dcd3",
   "metadata": {},
   "outputs": [],
   "source": [
    "T_grid_vars_closed['thetao'].isel(deptht=bottom_closed).isel(time_counter=0).plot()"
   ]
  },
  {
   "cell_type": "code",
   "execution_count": null,
   "id": "b9f62453-98a7-4e57-b339-655e48b6f481",
   "metadata": {},
   "outputs": [],
   "source": [
    "uocetr_Ross_open = u_open['uocetr_eff'].where(uf.in_range(u_open.nav_lat,[-72.650,-61.600]) & ((u_open.nav_lon <= -135.75) | (u_open.nav_lon >= 360-168.500)), drop=True)\n"
   ]
  },
  {
   "cell_type": "code",
   "execution_count": null,
   "id": "9c6a44ab-2567-4318-b90f-2830577c8c2d",
   "metadata": {},
   "outputs": [],
   "source": [
    "uocetr_Ross_open.nav_lat.max()"
   ]
  },
  {
   "cell_type": "markdown",
   "id": "ed6f6197-5d90-4c21-a682-d4b8bbb0e54d",
   "metadata": {},
   "source": [
    "CHECK THAT I AM LOOKING AT THE RIGHT REGIONS FOR THE GYRES"
   ]
  },
  {
   "cell_type": "code",
   "execution_count": null,
   "id": "2c2796bd-7c87-4828-b118-88267eb9086e",
   "metadata": {},
   "outputs": [],
   "source": [
    "ref = uocetr_Ross_open.isel(time_counter=0)\n",
    "\n",
    "lon = ref.nav_lon\n",
    "lat = ref.nav_lat\n",
    "\n",
    "proj = ccrs.SouthPolarStereo(central_longitude=0)\n",
    "wrap_ref, wrap_lon = ref, lon #add_cyclic_point(ref.values,coord=lon,axis=1)\n",
    "\n",
    "theta = np.linspace(0, 2*np.pi, 100)\n",
    "center, radius = [0.5, 0.5], 0.5\n",
    "verts = np.vstack([np.sin(theta), np.cos(theta)]).T\n",
    "circle = mpl.path.Path(verts * radius + center)   \n",
    "\n",
    "ax1 = plt.subplot(1, 1, 1, projection=proj)\n",
    "abso0 = ax1.pcolormesh(wrap_lon,lat,wrap_ref,transform=ccrs.PlateCarree(),rasterized=True)\n",
    "ax1.coastlines(resolution='110m', linewidth=0.5)\n",
    "ax1.set_extent([-180, 180, -90, -50], crs=ccrs.PlateCarree())\n",
    "ax1.set_boundary(circle, transform=ax1.transAxes)"
   ]
  },
  {
   "cell_type": "code",
   "execution_count": null,
   "id": "cdaecdf8-3ef5-40d7-8d74-ddfec6396e2d",
   "metadata": {},
   "outputs": [],
   "source": [
    "ref = cellarea_closed.where(mask_land_closed > 0)\n",
    "\n",
    "lon = ref.nav_lon\n",
    "lat = ref.nav_lat\n",
    "\n",
    "proj = ccrs.SouthPolarStereo(central_longitude=0)\n",
    "wrap_ref, wrap_lon = ref, lon #add_cyclic_point(ref.values,coord=lon,axis=1)\n",
    "\n",
    "theta = np.linspace(0, 2*np.pi, 100)\n",
    "center, radius = [0.5, 0.5], 0.5\n",
    "verts = np.vstack([np.sin(theta), np.cos(theta)]).T\n",
    "circle = mpl.path.Path(verts * radius + center)   \n",
    "\n",
    "ax1 = plt.subplot(1, 1, 1, projection=proj)\n",
    "abso0 = ax1.pcolormesh(wrap_lon,lat,wrap_ref,transform=ccrs.PlateCarree(),rasterized=True)\n",
    "ax1.coastlines(resolution='110m', linewidth=0.5)\n",
    "ax1.set_extent([-180, 180, -90, -20], crs=ccrs.PlateCarree())\n",
    "ax1.set_boundary(circle, transform=ax1.transAxes)"
   ]
  },
  {
   "cell_type": "code",
   "execution_count": null,
   "id": "325e4e77-eb48-43bc-86f7-ed8b3d57f59b",
   "metadata": {},
   "outputs": [],
   "source": [
    "ref = cellarea_open.max('deptht')\n",
    "plt.figure()\n",
    "\n",
    "lon = ref.nav_lon\n",
    "lat = ref.nav_lat\n",
    "\n",
    "proj = ccrs.SouthPolarStereo(central_longitude=0)\n",
    "wrap_ref, wrap_lon = ref, lon #add_cyclic_point(ref.values,coord=lon,axis=1)\n",
    "\n",
    "theta = np.linspace(0, 2*np.pi, 100)\n",
    "center, radius = [0.5, 0.5], 0.5\n",
    "verts = np.vstack([np.sin(theta), np.cos(theta)]).T\n",
    "circle = mpl.path.Path(verts * radius + center)   \n",
    "\n",
    "ax1 = plt.subplot(1, 1, 1, projection=proj)\n",
    "abso0 = ax1.pcolormesh(wrap_lon,lat,wrap_ref,transform=ccrs.PlateCarree(),rasterized=True)\n",
    "ax1.coastlines(resolution='110m', linewidth=0.5)\n",
    "ax1.set_extent([-180, 180, -90, -50], crs=ccrs.PlateCarree())\n",
    "ax1.set_boundary(circle, transform=ax1.transAxes)"
   ]
  },
  {
   "cell_type": "code",
   "execution_count": null,
   "id": "f50c0094-fda8-454f-9427-7e65727d0453",
   "metadata": {},
   "outputs": [],
   "source": [
    "ref = cellarea_closed.where(mask_land_closed > 0)\n",
    "\n",
    "lon = ref.nav_lon\n",
    "lat = ref.nav_lat\n",
    "\n",
    "proj = ccrs.NorthPolarStereo(central_longitude=0)\n",
    "wrap_ref, wrap_lon = ref, lon #add_cyclic_point(ref.values,coord=lon,axis=1)\n",
    "\n",
    "theta = np.linspace(0, 2*np.pi, 100)\n",
    "center, radius = [0.5, 0.5], 0.5\n",
    "verts = np.vstack([np.sin(theta), np.cos(theta)]).T\n",
    "circle = mpl.path.Path(verts * radius + center)   \n",
    "\n",
    "ax1 = plt.subplot(1, 1, 1, projection=proj)\n",
    "abso0 = ax1.pcolormesh(wrap_lon,lat,wrap_ref,transform=ccrs.PlateCarree(),rasterized=True)\n",
    "ax1.coastlines(resolution='110m', linewidth=0.5)\n",
    "ax1.set_extent([-180, 180, 20, 90], crs=ccrs.PlateCarree())\n",
    "ax1.set_boundary(circle, transform=ax1.transAxes)"
   ]
  },
  {
   "cell_type": "code",
   "execution_count": null,
   "id": "423c9d6a-1887-40ed-8be5-d2db464cbb96",
   "metadata": {},
   "outputs": [],
   "source": [
    "ref = cellarea_open.isel(deptht=0)\n",
    "plt.figure()\n",
    "\n",
    "lon = ref.nav_lon\n",
    "lat = ref.nav_lat\n",
    "\n",
    "proj = ccrs.NorthPolarStereo(central_longitude=0)\n",
    "wrap_ref, wrap_lon = ref, lon #add_cyclic_point(ref.values,coord=lon,axis=1)\n",
    "\n",
    "theta = np.linspace(0, 2*np.pi, 100)\n",
    "center, radius = [0.5, 0.5], 0.5\n",
    "verts = np.vstack([np.sin(theta), np.cos(theta)]).T\n",
    "circle = mpl.path.Path(verts * radius + center)   \n",
    "\n",
    "ax1 = plt.subplot(1, 1, 1, projection=proj)\n",
    "abso0 = ax1.pcolormesh(wrap_lon,lat,wrap_ref,transform=ccrs.PlateCarree(),rasterized=True)\n",
    "ax1.coastlines(resolution='110m', linewidth=0.5)\n",
    "ax1.set_extent([-180, 180, 20, 90], crs=ccrs.PlateCarree())\n",
    "ax1.set_boundary(circle, transform=ax1.transAxes)"
   ]
  },
  {
   "cell_type": "code",
   "execution_count": null,
   "id": "46192208-49d4-49cf-9454-c5976e553192",
   "metadata": {},
   "outputs": [],
   "source": [
    "ref = mask_regions['WROSS']\n",
    "plt.figure()\n",
    "\n",
    "lon = ref.nav_lon\n",
    "lat = ref.nav_lat\n",
    "\n",
    "proj = ccrs.SouthPolarStereo(central_longitude=0)\n",
    "wrap_ref, wrap_lon = ref, lon #add_cyclic_point(ref.values,coord=lon,axis=1)\n",
    "\n",
    "theta = np.linspace(0, 2*np.pi, 100)\n",
    "center, radius = [0.5, 0.5], 0.5\n",
    "verts = np.vstack([np.sin(theta), np.cos(theta)]).T\n",
    "circle = mpl.path.Path(verts * radius + center)   \n",
    "\n",
    "ax1 = plt.subplot(1, 1, 1, projection=proj)\n",
    "abso0 = ax1.pcolormesh(wrap_lon,lat,wrap_ref,transform=ccrs.PlateCarree(),rasterized=True)\n",
    "ax1.coastlines(resolution='110m', linewidth=0.5)\n",
    "ax1.set_extent([-180, 180, -90, -50], crs=ccrs.PlateCarree())\n",
    "ax1.set_boundary(circle, transform=ax1.transAxes)"
   ]
  },
  {
   "cell_type": "code",
   "execution_count": null,
   "id": "451fec7b-c8bc-44f7-b4a5-c86258719f8e",
   "metadata": {},
   "outputs": [],
   "source": [
    "u_open['uocetr_eff'].sel(x=range(220,221),y=range(79,107)).isel(time_counter=0)"
   ]
  },
  {
   "cell_type": "code",
   "execution_count": null,
   "id": "c68d5023-591c-4b05-8cf9-f93e1ee056c9",
   "metadata": {},
   "outputs": [],
   "source": [
    "\n",
    "ref = T_grid_vars_closed_mean10['thetao'].isel(deptht=0).where(mask_land_closed > 0)\n",
    "\n",
    "lon = ref.nav_lon\n",
    "lat = ref.nav_lat\n",
    "\n",
    "proj = ccrs.PlateCarree(central_longitude=0.0, globe=None)\n",
    "#wrap_ref, wrap_lon = ref, lon #add_cyclic_point(ref.values,coord=lon,axis=1)\n",
    "\n",
    "#theta = np.linspace(0, 2*np.pi, 100)\n",
    "#center, radius = [0.5, 0.5], 0.5\n",
    "#verts = np.vstack([np.sin(theta), np.cos(theta)]).T\n",
    "#circle = mpl.path.Path(verts * radius + center)   \n",
    "\n",
    "ax1 = plt.subplot(1, 1, 1, projection=proj)\n",
    "abso0 = ax1.pcolormesh(lon,lat,ref,transform=ccrs.PlateCarree(),rasterized=True)\n",
    "ax1.coastlines(resolution='110m', linewidth=0.5)\n",
    "#ax1.set_extent([-180, 180, -90, -50], crs=ccrs.PlateCarree())\n",
    "#ax1.set_boundary(circle, transform=ax1.transAxes)"
   ]
  },
  {
   "cell_type": "code",
   "execution_count": null,
   "id": "8a621a8e-6d24-4c41-948e-9db0555f1eea",
   "metadata": {},
   "outputs": [],
   "source": [
    "T_grid_vars_closed_mean10['so'].isel(deptht=0).plot()"
   ]
  },
  {
   "cell_type": "code",
   "execution_count": null,
   "id": "195b06c2-15c0-49c8-8b90-ce04b1767b3f",
   "metadata": {},
   "outputs": [],
   "source": [
    "mask_land_closed = T_grid_vars_closed_mean10['so'].isel(deptht=0)"
   ]
  },
  {
   "cell_type": "code",
   "execution_count": null,
   "id": "0b015006-5750-4223-90a5-07ff42a1f44b",
   "metadata": {},
   "outputs": [],
   "source": [
    "mask_land_closed.plot()"
   ]
  },
  {
   "cell_type": "code",
   "execution_count": null,
   "id": "b6414fd4-dc46-4b67-ae6d-4c2daaeb0392",
   "metadata": {},
   "outputs": [],
   "source": [
    "cellarea_closed.where(mask_land_closed)"
   ]
  },
  {
   "cell_type": "code",
   "execution_count": null,
   "id": "d4c8ba62-c892-4d64-94fc-8ff09a0abf11",
   "metadata": {},
   "outputs": [],
   "source": []
  }
 ],
 "metadata": {
  "kernelspec": {
   "display_name": "py38",
   "language": "python",
   "name": "py38"
  },
  "language_info": {
   "codemirror_mode": {
    "name": "ipython",
    "version": 3
   },
   "file_extension": ".py",
   "mimetype": "text/x-python",
   "name": "python",
   "nbconvert_exporter": "python",
   "pygments_lexer": "ipython3",
   "version": "3.8.18"
  }
 },
 "nbformat": 4,
 "nbformat_minor": 5
}
