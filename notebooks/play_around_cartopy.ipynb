{
 "cells": [
  {
   "cell_type": "code",
   "execution_count": null,
   "id": "6953d344-f298-4cb4-acdc-1de8bd1355c6",
   "metadata": {},
   "outputs": [],
   "source": [
    "\"\"\"\n",
    "Test Georgia files\n",
    "\"\"\""
   ]
  },
  {
   "cell_type": "code",
   "execution_count": 30,
   "id": "18658f01-0f23-45be-9702-f17e18b762f5",
   "metadata": {},
   "outputs": [],
   "source": [
    "import os\n",
    "import xarray as xr\n",
    "import numpy as np\n",
    "\n",
    "import matplotlib.pyplot as plt\n",
    "import matplotlib as mpl\n",
    "import cmocean\n",
    "\n",
    "import cartopy.crs as ccrs\n",
    "import cartopy.feature\n",
    "from cartopy.util import add_cyclic_point\n",
    "import seaborn as sns\n",
    "import cartopy\n",
    "import matplotlib.colors as colors\n",
    "from matplotlib.colors import Normalize\n",
    "from cartopy.feature import LAND"
   ]
  },
  {
   "cell_type": "code",
   "execution_count": 21,
   "id": "54496e3b-3968-48a1-9d0a-a21fc791b1f0",
   "metadata": {},
   "outputs": [
    {
     "name": "stderr",
     "output_type": "stream",
     "text": [
      "QStandardPaths: error creating runtime directory '/run/user/2784' (Permission denied)\n"
     ]
    }
   ],
   "source": [
    "%matplotlib qt5"
   ]
  },
  {
   "cell_type": "code",
   "execution_count": 3,
   "id": "9127ad08-489b-4536-b2d0-e3f3be830dd6",
   "metadata": {},
   "outputs": [],
   "source": [
    "inputpath = '/data/cburgard/FOR_GEORGIA/NEMO_1degree/'"
   ]
  },
  {
   "cell_type": "code",
   "execution_count": 4,
   "id": "3aa529f6-43d1-4c17-83ea-de2f96616120",
   "metadata": {},
   "outputs": [],
   "source": [
    "data_T = xr.open_dataset(inputpath + 'n42openc_00910101_01001231_1Y_grid_T.nc')"
   ]
  },
  {
   "cell_type": "code",
   "execution_count": 6,
   "id": "859618b9-438a-4fa2-976d-e7c46ce762e7",
   "metadata": {},
   "outputs": [],
   "source": [
    "data_T_timmean = data_T.mean('time_counter')"
   ]
  },
  {
   "cell_type": "code",
   "execution_count": 10,
   "id": "5a4a0bb4-a6e7-4984-bd5d-9f4a6d602e82",
   "metadata": {},
   "outputs": [],
   "source": [
    "SST = data_T_timmean['thetao'].isel(deptht=0)"
   ]
  },
  {
   "cell_type": "code",
   "execution_count": 11,
   "id": "46a334a9-f474-42ce-b237-ca07abe941b8",
   "metadata": {},
   "outputs": [],
   "source": [
    "lon = SST.nav_lon\n",
    "lat = SST.nav_lat"
   ]
  },
  {
   "cell_type": "code",
   "execution_count": 58,
   "id": "c3379ed4-76b3-423f-a188-2aa01d200531",
   "metadata": {},
   "outputs": [],
   "source": [
    "plt.figure()\n",
    "ax = plt.subplot(1,1,1,projection=ccrs.SouthPolarStereo(central_longitude=0)) #\n",
    "abso0 = ax.pcolormesh(lon,lat,SST,transform=ccrs.PlateCarree(central_longitude=0)) #,vmin=0,vmax=30\n",
    "ax.coastlines(resolution='110m',linewidth=0.5)\n",
    "ax.set_extent([-180,180,-90,-60], crs=ccrs.PlateCarree())"
   ]
  },
  {
   "cell_type": "code",
   "execution_count": 28,
   "id": "2ed827bb-8b0f-4f78-920d-09227648ac44",
   "metadata": {},
   "outputs": [
    {
     "data": {
      "text/plain": [
       "<matplotlib.collections.QuadMesh at 0x150d14ed7400>"
      ]
     },
     "execution_count": 28,
     "metadata": {},
     "output_type": "execute_result"
    }
   ],
   "source": [
    "SST.plot()"
   ]
  },
  {
   "cell_type": "code",
   "execution_count": 31,
   "id": "3754d6e2-0b9c-4a3a-96eb-3130500b2a61",
   "metadata": {},
   "outputs": [],
   "source": [
    "def z_masked_overlap(axe, X, Y, Z, source_projection=None):\n",
    "    \"\"\"\n",
    "    for data in projection axe.projection\n",
    "    find and mask the overlaps (more 1/2 the axe.projection range)\n",
    "\n",
    "    X, Y either the coordinates in axe.projection or longitudes latitudes\n",
    "    Z the data\n",
    "    operation one of 'pcorlor', 'pcolormesh', 'countour', 'countourf'\n",
    "\n",
    "    if source_projection is a geodetic CRS data is in geodetic coordinates\n",
    "    and should first be projected in axe.projection\n",
    "\n",
    "    X, Y are 2D same dimension as Z for contour and contourf\n",
    "    same dimension as Z or with an extra row and column for pcolor\n",
    "    and pcolormesh\n",
    "\n",
    "    return ptx, pty, Z\n",
    "    \"\"\"\n",
    "    if not hasattr(axe, 'projection'):\n",
    "        return X, Y, Z\n",
    "\n",
    "    if not isinstance(axe.projection, ccrs.Projection):\n",
    "        return X, Y, Z\n",
    "\n",
    "    if len(X.shape) != 2 or len(Y.shape) != 2:\n",
    "        return X, Y, Z\n",
    "\n",
    "    if (source_projection is not None and\n",
    "        isinstance(source_projection, ccrs.Geodetic)):\n",
    "        transformed_pts = axe.projection.transform_points(\n",
    "            source_projection, X, Y)\n",
    "        ptx, pty = transformed_pts[..., 0], transformed_pts[..., 1]\n",
    "    else:\n",
    "        ptx, pty = X, Y\n",
    "\n",
    "    with np.errstate(invalid='ignore'):\n",
    "        # diagonals have one less row and one less columns\n",
    "        diagonal0_lengths = np.hypot(\n",
    "            ptx[1:, 1:] - ptx[:-1, :-1],\n",
    "            pty[1:, 1:] - pty[:-1, :-1]\n",
    "        )\n",
    "\n",
    "        diagonal1_lengths = np.hypot(\n",
    "            ptx[1:, :-1] - ptx[:-1, 1:],\n",
    "            pty[1:, :-1] - pty[:-1, 1:]\n",
    "        )\n",
    "\n",
    "        to_mask = (\n",
    "            (diagonal0_lengths > (\n",
    "                abs(axe.projection.x_limits[1]\n",
    "                    - axe.projection.x_limits[0])) / 2) |\n",
    "            np.isnan(diagonal0_lengths) |\n",
    "            (diagonal1_lengths > (\n",
    "                abs(axe.projection.x_limits[1]\n",
    "                    - axe.projection.x_limits[0])) / 2) |\n",
    "            np.isnan(diagonal1_lengths)\n",
    "        )\n",
    "\n",
    "        # TODO check if we need to do something about surrounding vertices\n",
    "        # add one extra colum and row for contour and contourf\n",
    "\n",
    "        if (to_mask.shape[0] == Z.shape[0] - 1 and\n",
    "                to_mask.shape[1] == Z.shape[1] - 1):\n",
    "            to_mask_extended = np.zeros(Z.shape, dtype=bool)\n",
    "            to_mask_extended[:-1, :-1] = to_mask\n",
    "            to_mask_extended[-1, :] = to_mask_extended[-2, :]\n",
    "            to_mask_extended[:, -1] = to_mask_extended[:, -2]\n",
    "            to_mask = to_mask_extended\n",
    "\n",
    "        if np.any(to_mask):\n",
    "            Z_mask = getattr(Z, 'mask', None)\n",
    "            to_mask = to_mask if Z_mask is None else to_mask | Z_mask\n",
    "            Z = np.ma.masked_where(to_mask, Z)\n",
    "\n",
    "        return ptx, pty, Z\n"
   ]
  },
  {
   "cell_type": "code",
   "execution_count": 32,
   "id": "d3bab15e-1bd8-4391-8b66-3db38759fd84",
   "metadata": {},
   "outputs": [],
   "source": [
    "SST_new = SST[:-1, :-1]"
   ]
  },
  {
   "cell_type": "code",
   "execution_count": 67,
   "id": "2340364e-42d5-4936-b35d-c3f08922fd4d",
   "metadata": {},
   "outputs": [
    {
     "data": {
      "text/plain": [
       "<matplotlib.colorbar.Colorbar at 0x150d1503e700>"
      ]
     },
     "execution_count": 67,
     "metadata": {},
     "output_type": "execute_result"
    }
   ],
   "source": [
    "plt.figure()\n",
    "ax1 = plt.subplot(1,1,1,projection=ccrs.PlateCarree(central_longitude=0)) #\n",
    "\n",
    "\n",
    "#-- Compute the corrected data to prevent line wrapping. Use the dataset\n",
    "#-- coordinates and variable.\n",
    "X, Y, maskedZ = z_masked_overlap(ax1,\n",
    "                                 lon.data,\n",
    "                                 lat.data,\n",
    "                                 SST)\n",
    "cmap='YlGnBu'\n",
    "\n",
    "plot = ax1.contourf(X, Y, maskedZ, levels=np.arange(-4,34),cmap=cmap,vmin=0,vmax=30)\n",
    "plt.colorbar(plot, ax=ax1, shrink=0.6, pad=0.09)"
   ]
  },
  {
   "cell_type": "code",
   "execution_count": 54,
   "id": "2d09defb-266a-41fa-98a6-b7c436113f15",
   "metadata": {},
   "outputs": [
    {
     "data": {
      "text/plain": [
       "<matplotlib.colorbar.Colorbar at 0x150d1a78b580>"
      ]
     },
     "execution_count": 54,
     "metadata": {},
     "output_type": "execute_result"
    }
   ],
   "source": []
  },
  {
   "cell_type": "code",
   "execution_count": 48,
   "id": "5619edb4-824a-4dac-848f-629f81d403a1",
   "metadata": {},
   "outputs": [
    {
     "data": {
      "text/plain": [
       "masked_array(\n",
       "  data=[[0.0, 0.0, 0.0, ..., --, --, --],\n",
       "        [0.0, 0.0, 0.0, ..., --, --, --],\n",
       "        [0.0, 0.0, 0.0, ..., --, --, --],\n",
       "        ...,\n",
       "        [--, --, --, ..., --, --, --],\n",
       "        [--, --, --, ..., --, --, --],\n",
       "        [--, --, --, ..., --, --, --]],\n",
       "  mask=[[False, False, False, ...,  True,  True,  True],\n",
       "        [False, False, False, ...,  True,  True,  True],\n",
       "        [False, False, False, ...,  True,  True,  True],\n",
       "        ...,\n",
       "        [ True,  True,  True, ...,  True,  True,  True],\n",
       "        [ True,  True,  True, ...,  True,  True,  True],\n",
       "        [ True,  True,  True, ...,  True,  True,  True]],\n",
       "  fill_value=1e+20,\n",
       "  dtype=float32)"
      ]
     },
     "execution_count": 48,
     "metadata": {},
     "output_type": "execute_result"
    }
   ],
   "source": [
    "maskedZ"
   ]
  },
  {
   "cell_type": "code",
   "execution_count": null,
   "id": "0c441c95-512c-4d11-af7d-161bdf615372",
   "metadata": {},
   "outputs": [],
   "source": []
  }
 ],
 "metadata": {
  "kernelspec": {
   "display_name": "py38",
   "language": "python",
   "name": "py38"
  },
  "language_info": {
   "codemirror_mode": {
    "name": "ipython",
    "version": 3
   },
   "file_extension": ".py",
   "mimetype": "text/x-python",
   "name": "python",
   "nbconvert_exporter": "python",
   "pygments_lexer": "ipython3",
   "version": "3.8.18"
  }
 },
 "nbformat": 4,
 "nbformat_minor": 5
}
