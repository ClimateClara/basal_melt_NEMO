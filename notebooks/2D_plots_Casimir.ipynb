{
 "cells": [
  {
   "cell_type": "code",
   "execution_count": null,
   "id": "3ed302ef-2eed-419f-b46f-d4ff2b892fa9",
   "metadata": {},
   "outputs": [],
   "source": [
    "\"\"\"\n",
    "Created on Thu Feb 08 10:42 2024\n",
    "\n",
    "Look at some 2D variables in the Casimir runs\n",
    "\n",
    "Author: @claraburgard\n",
    "\"\"\""
   ]
  },
  {
   "cell_type": "code",
   "execution_count": 1,
   "id": "7d6ac024-c931-455b-9cd1-e85d086ee871",
   "metadata": {},
   "outputs": [],
   "source": [
    "import xarray as xr\n",
    "import numpy as np\n",
    "\n",
    "import matplotlib.pyplot as plt\n",
    "import matplotlib as mpl\n",
    "import cmocean\n",
    "\n",
    "import cartopy.crs as ccrs\n",
    "import cartopy.feature\n",
    "from cartopy.util import add_cyclic_point\n",
    "import seaborn as sns\n",
    "import cartopy\n",
    "import matplotlib.colors as colors\n",
    "from matplotlib.colors import Normalize\n",
    "from cartopy.feature import LAND\n",
    "\n",
    "import gsw\n",
    "\n",
    "from basal_melt_NEMO.constants import *\n",
    "import basal_melt_NEMO.figure_functions as figf\n",
    "import basal_melt_NEMO.useful_functions as uf"
   ]
  },
  {
   "cell_type": "code",
   "execution_count": 2,
   "id": "3f88194a-cc9c-4f6c-af07-55e655d6b4fa",
   "metadata": {},
   "outputs": [],
   "source": [
    "sns.set_context('paper')"
   ]
  },
  {
   "cell_type": "code",
   "execution_count": 3,
   "id": "403fd40c-3339-403a-9f7f-bf6b043fd727",
   "metadata": {},
   "outputs": [
    {
     "name": "stderr",
     "output_type": "stream",
     "text": [
      "QStandardPaths: error creating runtime directory '/run/user/2784' (Permission denied)\n"
     ]
    }
   ],
   "source": [
    "%matplotlib qt5"
   ]
  },
  {
   "cell_type": "markdown",
   "id": "f9222194-85e7-4928-8b52-77cd6d8c69e1",
   "metadata": {},
   "source": [
    "READ IN DATA"
   ]
  },
  {
   "cell_type": "code",
   "execution_count": 4,
   "id": "d5621e53-ca67-4e7d-8b2a-e6aacb4dd8f6",
   "metadata": {},
   "outputs": [],
   "source": [
    "inputpath_closed='/data/cdelaver/n42tm21/'\n",
    "inputpath_open='/data/cdelaver/n42openc/'\n",
    "clara_path='/data/cburgard/CASIMIR_SIMU/interim/XR_PROCESSED/'\n",
    "plot_path = '/data/cburgard/PLOTS/first_plots/'\n",
    "mask_path = '/data/cburgard/TOOLS/'"
   ]
  },
  {
   "cell_type": "code",
   "execution_count": 5,
   "id": "a8ce0bc2-6a5a-4fb7-aaea-01a3461a2e9d",
   "metadata": {},
   "outputs": [],
   "source": [
    "ocean_masks = xr.open_dataset(mask_path + 'basin_masks_orca1_nemo4p2.nc')"
   ]
  },
  {
   "cell_type": "code",
   "execution_count": 6,
   "id": "29aa76ed-d86b-410e-aed7-7bf63196a7ce",
   "metadata": {},
   "outputs": [],
   "source": [
    "file_open_mean10 = xr.open_mfdataset(inputpath_open + 'n42openc_00910101_01001231_1Y_grid_T.nc').mean('time_counter')\n",
    "file_closed_mean10 = xr.open_mfdataset(inputpath_closed + 'n42tm21_00910101_01001231_1Y_grid_T.nc').mean('time_counter')\n",
    "\n",
    "file_open_V_mean10 = xr.open_mfdataset(inputpath_open + 'n42openc_00910101_01001231_1Y_grid_V.nc').mean('time_counter')\n",
    "file_closed_V_mean10 = xr.open_mfdataset(inputpath_closed + 'n42tm21_00910101_01001231_1Y_grid_V.nc').mean('time_counter')"
   ]
  },
  {
   "cell_type": "code",
   "execution_count": 7,
   "id": "6a559b5e-ac14-4082-9059-ea3de5ba2a58",
   "metadata": {},
   "outputs": [],
   "source": [
    "file_open_mean10 = file_open_mean10.where(file_open_mean10['so'] > 0)\n",
    "file_open_V_mean10 = file_open_V_mean10.where(file_open_mean10['so'].rename({'deptht':'depthv'}) > 0)"
   ]
  },
  {
   "cell_type": "code",
   "execution_count": 8,
   "id": "a1691e2c-08e6-4db9-a134-34e87fae3048",
   "metadata": {},
   "outputs": [],
   "source": [
    "lon = file_open_mean10.nav_lon\n",
    "lat = file_open_mean10.nav_lat"
   ]
  },
  {
   "cell_type": "code",
   "execution_count": 9,
   "id": "e202907d-e425-449c-acf2-6cd81be62c55",
   "metadata": {},
   "outputs": [],
   "source": [
    "T_30W_closed = file_closed_mean10['thetao'].where((lon > -31.) & (lon < -29.)).mean('x')\n",
    "T_30W_open = file_open_mean10['thetao'].where((lon > -31.) & (lon < -29.)).mean('x')"
   ]
  },
  {
   "cell_type": "code",
   "execution_count": 35,
   "id": "19362e53-3529-44ea-8749-ba7e4a7de013",
   "metadata": {},
   "outputs": [],
   "source": [
    "# checking if the line is right\n",
    "#ref = file_closed_mean10['thetao'].where((lon > -31.) & (lon < -29.)).isel(deptht=0)\n",
    "ref = ocean_masks['pacific']\n",
    "plt.figure()\n",
    "\n",
    "llon = lon\n",
    "llat = lat\n",
    "\n",
    "proj = ccrs.PlateCarree(central_longitude=0)\n",
    "wrap_ref, wrap_lon = ref, lon #add_cyclic_point(ref.values,coord=lon,axis=1)\n",
    "\n",
    "theta = np.linspace(0, 2*np.pi, 100)\n",
    "center, radius = [0.5, 0.5], 0.5\n",
    "verts = np.vstack([np.sin(theta), np.cos(theta)]).T\n",
    "circle = mpl.path.Path(verts * radius + center)   \n",
    "\n",
    "ax1 = plt.subplot(1, 1, 1, projection=proj)\n",
    "abso0 = ax1.pcolormesh(wrap_lon,lat,wrap_ref,transform=ccrs.PlateCarree(),rasterized=True)\n",
    "ax1.coastlines(resolution='110m', linewidth=0.5)\n",
    "ax1.set_extent([-180, 180, -90, 90], crs=ccrs.PlateCarree())\n",
    "ax1.set_boundary(circle, transform=ax1.transAxes)"
   ]
  },
  {
   "cell_type": "code",
   "execution_count": 10,
   "id": "3efe77b9-ee9b-4c6e-abde-052417151f4c",
   "metadata": {},
   "outputs": [],
   "source": [
    "def compute_density(da):\n",
    "    depth = da['e3t'].cumsum('deptht')\n",
    "    S = da['so']\n",
    "    T = da['thetao']\n",
    "    return gsw.rho(S,T,depth)"
   ]
  },
  {
   "cell_type": "code",
   "execution_count": 11,
   "id": "efd844e9-d3ef-4f56-80a0-2303ed5aad5a",
   "metadata": {},
   "outputs": [],
   "source": [
    "def compute_sigma2(da):\n",
    "    S = da['so']\n",
    "    T = da['thetao']\n",
    "    return gsw.density.sigma2(S, T)"
   ]
  },
  {
   "cell_type": "code",
   "execution_count": 28,
   "id": "113b270b-a8bb-45c6-b1a3-544122394a2b",
   "metadata": {},
   "outputs": [],
   "source": [
    "def transect_along_ocean(var, lon, lon_min, lon_max, lat, lat_max, cpalette, varname):\n",
    "\n",
    "    if lat_max == 90:\n",
    "        plot_var_closed = file_closed_mean10[var].where((lon > lon_min) & (lon < lon_max) & (lat <= lat_max)).mean('x')\n",
    "        plot_var_open = file_open_mean10[var].where((lon > lon_min) & (lon < lon_max) & (lat <= lat_max)).mean('x')\n",
    "    else:\n",
    "        plot_var_closed = file_closed_mean10[var].where((lon > lon_min) & (lon < lon_max) & (lat <= lat_max), drop=True).mean('x')\n",
    "        plot_var_open = file_open_mean10[var].where((lon > lon_min) & (lon < lon_max) & (lat <= lat_max), drop=True).mean('x')\n",
    "    \n",
    "    f, ax = plt.subplots(3, 1, sharex=True, sharey=True, figsize=(8.25,8.25*3))\n",
    "\n",
    "    abs1 = ax[0].contourf(plot_var_closed.y,-1*plot_var_closed.deptht, plot_var_closed, cmap=cpalette)\n",
    "    f.colorbar(abs1, ax=ax[0], orientation='vertical')\n",
    "    ax[0].set_title(varname)\n",
    "    \n",
    "    abs2 = ax[1].contourf(plot_var_open.y,-1*plot_var_open.deptht, plot_var_open, cmap=cpalette)\n",
    "    f.colorbar(abs2, ax=ax[1], orientation='vertical')\n",
    "    \n",
    "    ax_limit = (np.abs(plot_var_open - plot_var_closed)).max().values\n",
    "    abs3 = ax[2].contourf(plot_var_open.y,-1*plot_var_open.deptht, (plot_var_open - plot_var_closed), cmap=mpl.cm.coolwarm, vmin=-ax_limit, vmax=ax_limit)\n",
    "    f.colorbar(abs3, ax=ax[2], orientation='vertical')"
   ]
  },
  {
   "cell_type": "code",
   "execution_count": 13,
   "id": "246454c6-8446-49da-afe8-79626bfc08dd",
   "metadata": {},
   "outputs": [],
   "source": [
    "def streamfunction_along_ocean(vo_open, vo_closed, ocean, cpalette):\n",
    "    \n",
    "    vmass_sum_open = vo_open.where(np.isfinite(ocean_masks[ocean])).sum('x') / 10**6\n",
    "    vmass_sum_closed = vo_closed.where(np.isfinite(ocean_masks[ocean])).sum('x') / 10**6\n",
    "\n",
    "    vmass_sum_open = vmass_sum_open.assign_coords({'depthv': vmass_sum_open.depthv[::-1]})\n",
    "    vmass_sum_closed = vmass_sum_closed.assign_coords({'depthv': vmass_sum_closed.depthv[::-1]})\n",
    "\n",
    "    plot_var_open = vmass_sum_open.cumsum('depthv', skipna=True)\n",
    "    plot_var_closed = vmass_sum_closed.cumsum('depthv', skipna=True)\n",
    "    \n",
    "    f, ax = plt.subplots(3, 1, sharex=True, sharey=True, figsize=(8.25,8.25*3))\n",
    "\n",
    "    ax_limit0 = 20 #np.array([np.abs(plot_var_open),np.abs(plot_var_closed)]).max()\n",
    "    \n",
    "    abs1 = ax[0].contourf(plot_var_closed.y,-1*plot_var_closed.depthv, plot_var_closed, cmap=cpalette, vmin=-ax_limit0, vmax=ax_limit0)\n",
    "    f.colorbar(abs1, ax=ax[0], orientation='vertical')\n",
    "    ax[0].set_title('Streamfunction '+ocean)\n",
    "\n",
    "    abs2 = ax[1].contourf(plot_var_open.y,-1*plot_var_open.depthv, plot_var_open, cmap=cpalette, vmin=-ax_limit0, vmax=ax_limit0)\n",
    "    f.colorbar(abs2, ax=ax[1], orientation='vertical')\n",
    "    \n",
    "    ax_limit = (np.abs(plot_var_open - plot_var_closed)).max().values\n",
    "    abs3 = ax[2].contourf(plot_var_open.y,-1*plot_var_open.depthv, (plot_var_open - plot_var_closed), cmap=mpl.cm.coolwarm, vmin=-ax_limit, vmax=ax_limit)\n",
    "    f.colorbar(abs3, ax=ax[2], orientation='vertical')"
   ]
  },
  {
   "cell_type": "code",
   "execution_count": 13,
   "id": "d8722e45-e289-4de3-8468-7eb1c7d4ddae",
   "metadata": {},
   "outputs": [],
   "source": [
    "### ATLANTIC"
   ]
  },
  {
   "cell_type": "code",
   "execution_count": 26,
   "id": "6ed43712-e401-4c61-aad5-580ae9cded50",
   "metadata": {},
   "outputs": [],
   "source": [
    "f_temp = transect_along_ocean('thetao', lon, -31., -29., lat, 90, cmocean.cm.thermal,'Conservative Temperature [°C]')"
   ]
  },
  {
   "cell_type": "code",
   "execution_count": 15,
   "id": "fffbadaa-71c0-4659-9fbd-16288befdc9a",
   "metadata": {},
   "outputs": [],
   "source": [
    "f_sal = transect_along_ocean('so', lon, -31., -29., lat, 90,cmocean.cm.haline,'Absolute Salinity [g/kg]')"
   ]
  },
  {
   "cell_type": "code",
   "execution_count": 33,
   "id": "1de5cde3-06e5-4504-aa6c-3b8e6f1749f1",
   "metadata": {},
   "outputs": [],
   "source": [
    "file_closed_mean10['rho'] = compute_density(file_closed_mean10).load()\n",
    "file_open_mean10['rho'] = compute_density(file_open_mean10).load()"
   ]
  },
  {
   "cell_type": "code",
   "execution_count": 17,
   "id": "4fd2c60b-6be2-46ec-8b1f-12247081e77e",
   "metadata": {},
   "outputs": [],
   "source": [
    "f_rho = transect_along_ocean('rho', lon, -31., -29., lat, 90, cmocean.cm.dense,'In-situ density [kg/m3]')"
   ]
  },
  {
   "cell_type": "code",
   "execution_count": 34,
   "id": "fd477041-fa88-48f2-8360-de775242492e",
   "metadata": {},
   "outputs": [],
   "source": [
    "file_closed_mean10['sigma2'] = compute_sigma2(file_closed_mean10).load()\n",
    "file_open_mean10['sigma2'] = compute_sigma2(file_open_mean10).load()"
   ]
  },
  {
   "cell_type": "code",
   "execution_count": 20,
   "id": "60e388af-0d24-4b80-99cc-67899440ea06",
   "metadata": {},
   "outputs": [],
   "source": [
    "f_sigma2 = transect_along_ocean('sigma2', lon, -31., -29., lat, 90,cmocean.cm.dense,'Potential density anomaly with reference pressure of 2000 dbar [kg/m3]')"
   ]
  },
  {
   "cell_type": "code",
   "execution_count": null,
   "id": "af09917f-43cd-4c66-97c9-1469aebfe3ea",
   "metadata": {},
   "outputs": [],
   "source": [
    "### PACIFIC"
   ]
  },
  {
   "cell_type": "code",
   "execution_count": 22,
   "id": "8c5cd086-6a30-48a7-81ec-063269ed214e",
   "metadata": {},
   "outputs": [],
   "source": [
    "f_temp = transect_along_ocean('thetao', lon, -171, -169.,lat, 90,cmocean.cm.thermal,'Conservative Temperature [°C]')"
   ]
  },
  {
   "cell_type": "code",
   "execution_count": 23,
   "id": "fa7b0064-849a-433a-8ba4-5efcb09032e3",
   "metadata": {},
   "outputs": [],
   "source": [
    "f_sal = transect_along_ocean('so', lon,  -171, -169.,lat, 90,cmocean.cm.haline,'Absolute Salinity [g/kg]')"
   ]
  },
  {
   "cell_type": "code",
   "execution_count": 24,
   "id": "9f02f5d1-de24-43a9-89c7-dc25e95c337a",
   "metadata": {},
   "outputs": [],
   "source": [
    "f_rho = transect_along_ocean('rho', lon, -171, -169.,lat, 90,cmocean.cm.dense,'In-situ density [kg/m3]')"
   ]
  },
  {
   "cell_type": "code",
   "execution_count": 25,
   "id": "8971a8f7-5f46-43bf-aca0-18fafa1f93c5",
   "metadata": {},
   "outputs": [],
   "source": [
    "f_sigma2 = transect_along_ocean('sigma2', lon, -171, -169.,lat, 90,cmocean.cm.dense,'Potential density anomaly with reference pressure of 2000 dbar [kg/m3]')"
   ]
  },
  {
   "cell_type": "code",
   "execution_count": null,
   "id": "99a62124-e37a-4462-b3aa-181d381d940e",
   "metadata": {},
   "outputs": [],
   "source": [
    "### WEDDELL SEA"
   ]
  },
  {
   "cell_type": "code",
   "execution_count": 29,
   "id": "036ce605-6a7b-4273-baee-56ea1f3991d4",
   "metadata": {},
   "outputs": [],
   "source": [
    "f_temp = transect_along_ocean('thetao', lon, -51, -49,lat, -50,cmocean.cm.thermal,'Conservative Temperature [°C] Weddell Sea')"
   ]
  },
  {
   "cell_type": "code",
   "execution_count": 31,
   "id": "c479b2d2-378b-4bff-8d1f-0a35b64c88b0",
   "metadata": {},
   "outputs": [],
   "source": [
    "f_sal = transect_along_ocean('so', lon,  -51, -49,lat,  -50,cmocean.cm.haline,'Absolute Salinity [g/kg] Weddell Sea')"
   ]
  },
  {
   "cell_type": "code",
   "execution_count": 36,
   "id": "5d9a1ddd-8faf-4b5b-9e3c-f77385cd9d75",
   "metadata": {},
   "outputs": [],
   "source": [
    "f_sigma2 = transect_along_ocean('sigma2', lon, -51, -49,lat, -50,cmocean.cm.dense,'Potential density anomaly with reference pressure of 2000 dbar [kg/m3] Weddell Sea')"
   ]
  },
  {
   "cell_type": "code",
   "execution_count": null,
   "id": "948bf0bf-f08c-477d-95b5-a89595475837",
   "metadata": {},
   "outputs": [],
   "source": [
    "### ROSS SEA"
   ]
  },
  {
   "cell_type": "code",
   "execution_count": 37,
   "id": "01ee397b-12b1-4a02-99fb-ec567f5d11dd",
   "metadata": {},
   "outputs": [],
   "source": [
    "f_temp = transect_along_ocean('thetao', lon, -180, -179,lat, -50,cmocean.cm.thermal,'Conservative Temperature [°C] Ross Sea')"
   ]
  },
  {
   "cell_type": "code",
   "execution_count": 38,
   "id": "28faf6a3-3c6b-4443-9746-7f5118bd7f0a",
   "metadata": {},
   "outputs": [],
   "source": [
    "f_sal = transect_along_ocean('so', lon,  -180, -179,lat,  -50,cmocean.cm.haline,'Absolute Salinity [g/kg] Ross Sea')"
   ]
  },
  {
   "cell_type": "code",
   "execution_count": 39,
   "id": "7eeff906-89eb-43f2-9f75-05a49addb41e",
   "metadata": {},
   "outputs": [],
   "source": [
    "f_sigma2 = transect_along_ocean('sigma2', lon, -180, -179,lat, -50,cmocean.cm.dense,'Potential density anomaly with reference pressure of 2000 dbar [kg/m3] Ross Sea')"
   ]
  },
  {
   "cell_type": "code",
   "execution_count": null,
   "id": "7e99fc56-0922-4560-886a-8e71f2e442e2",
   "metadata": {},
   "outputs": [],
   "source": [
    "mask_Ross = ((lon <= -120) | (lon >= 150)) & (lat >= -87.) & (lat <= -65.)"
   ]
  },
  {
   "cell_type": "code",
   "execution_count": null,
   "id": "6a3dd2ab-56ea-4160-b70f-7ce47733cd98",
   "metadata": {},
   "outputs": [],
   "source": [
    "# STREAM FUNCTION"
   ]
  },
  {
   "cell_type": "code",
   "execution_count": 127,
   "id": "b7b9d130-a349-47d7-b6ac-5e195c34d2b2",
   "metadata": {},
   "outputs": [],
   "source": [
    "streamfunction_along_ocean(file_open_V_mean10['vocetr_eff'],file_closed_V_mean10['vocetr_eff'],'atlantic',mpl.cm.coolwarm)"
   ]
  },
  {
   "cell_type": "code",
   "execution_count": 14,
   "id": "209a5e49-81f5-4486-9f1d-d5d440599167",
   "metadata": {},
   "outputs": [],
   "source": [
    "v_atlsum_open = file_open_V_mean10['vocetr_eff'].where(np.isfinite(ocean_masks['atlantic'])).sum('x') / 10**6\n",
    "v_atlsum_closed = file_closed_V_mean10['vocetr_eff'].where(np.isfinite(ocean_masks['atlantic'])).sum('x') / 10**6"
   ]
  },
  {
   "cell_type": "code",
   "execution_count": 15,
   "id": "4189ccda-ff10-476e-aab6-7a4d9ea25177",
   "metadata": {},
   "outputs": [],
   "source": [
    "v_atlsum_open_rev = v_atlsum_open.assign_coords({'depthv': v_atlsum_open.depthv[::-1]})\n",
    "v_atlsum_closed_rev = v_atlsum_closed.assign_coords({'depthv': v_atlsum_closed.depthv[::-1]})"
   ]
  },
  {
   "cell_type": "code",
   "execution_count": 16,
   "id": "b14048ca-560e-4a94-a7bd-c020ec7b8cb1",
   "metadata": {},
   "outputs": [],
   "source": [
    "streamf_atl_open = v_atlsum_open.cumsum('depthv')\n",
    "streamf_atl_closed = v_atlsum_closed.cumsum('depthv')"
   ]
  },
  {
   "cell_type": "code",
   "execution_count": 17,
   "id": "01ad33ec-1347-4aee-b2e8-d9d022f2d0f5",
   "metadata": {},
   "outputs": [
    {
     "name": "stderr",
     "output_type": "stream",
     "text": [
      "libGL error: No matching fbConfigs or visuals found\n",
      "libGL error: failed to load driver: swrast\n"
     ]
    },
    {
     "data": {
      "text/plain": [
       "<matplotlib.collections.QuadMesh at 0x14a924f934f0>"
      ]
     },
     "execution_count": 17,
     "metadata": {},
     "output_type": "execute_result"
    }
   ],
   "source": [
    "streamf_atl_open.plot(vmax=20)"
   ]
  },
  {
   "cell_type": "code",
   "execution_count": 22,
   "id": "76e507f2-2e49-41fe-9703-91942151c1aa",
   "metadata": {},
   "outputs": [],
   "source": [
    "streamf_atl_open_rev = v_atlsum_open_rev.cumsum('depthv')\n",
    "streamf_atl_closed_rev = v_atlsum_closed_rev.cumsum('depthv').assign_coords({'depthv': -1*v_atlsum_closed_rev.depthv})\n"
   ]
  },
  {
   "cell_type": "code",
   "execution_count": 23,
   "id": "1d80632d-ad41-4e3f-9195-120b467fac21",
   "metadata": {},
   "outputs": [
    {
     "data": {
      "text/plain": [
       "<matplotlib.collections.QuadMesh at 0x14a924c7f790>"
      ]
     },
     "execution_count": 23,
     "metadata": {},
     "output_type": "execute_result"
    }
   ],
   "source": [
    "plt.figure()\n",
    "streamf_atl_closed_rev.plot(vmax=20)"
   ]
  },
  {
   "cell_type": "code",
   "execution_count": 86,
   "id": "b42f0d27-e891-461d-9b40-d14fe39a8181",
   "metadata": {},
   "outputs": [
    {
     "data": {
      "text/plain": [
       "<matplotlib.collections.QuadMesh at 0x14f004a63370>"
      ]
     },
     "execution_count": 86,
     "metadata": {},
     "output_type": "execute_result"
    }
   ],
   "source": [
    "streamf_atl_open.plot()"
   ]
  },
  {
   "cell_type": "code",
   "execution_count": 64,
   "id": "4036fc61-bb67-4cfe-a25a-b252dee52fa9",
   "metadata": {},
   "outputs": [
    {
     "data": {
      "text/plain": [
       "<matplotlib.collections.QuadMesh at 0x14f005b124f0>"
      ]
     },
     "execution_count": 64,
     "metadata": {},
     "output_type": "execute_result"
    }
   ],
   "source": [
    "file_open_V_mean10['vocetr_eff'].where(np.isfinite(ocean_masks['atlantic'])).isel(depthv=0).plot()"
   ]
  },
  {
   "cell_type": "code",
   "execution_count": 110,
   "id": "a2d8db11-4fe0-4f60-97e8-dc0ecde60009",
   "metadata": {},
   "outputs": [
    {
     "data": {
      "text/plain": [
       "<matplotlib.collections.QuadMesh at 0x14eff30c2a60>"
      ]
     },
     "execution_count": 110,
     "metadata": {},
     "output_type": "execute_result"
    }
   ],
   "source": [
    "v_atlsum_open.plot()"
   ]
  },
  {
   "cell_type": "code",
   "execution_count": 117,
   "id": "a8c88f6c-c57e-486d-953c-116fafc2ceb1",
   "metadata": {},
   "outputs": [
    {
     "data": {
      "text/plain": [
       "<matplotlib.collections.QuadMesh at 0x14eff2364340>"
      ]
     },
     "execution_count": 117,
     "metadata": {},
     "output_type": "execute_result"
    }
   ],
   "source": [
    "v_atlsum_open.cumsum('depthv').plot()"
   ]
  },
  {
   "cell_type": "code",
   "execution_count": null,
   "id": "34bbcc80-6639-4127-8cf6-74d353c90804",
   "metadata": {},
   "outputs": [],
   "source": [
    "plt.figure()\n",
    "v_atlsum_open_rev.cumsum('depthv').plot()"
   ]
  }
 ],
 "metadata": {
  "kernelspec": {
   "display_name": "py38",
   "language": "python",
   "name": "py38"
  },
  "language_info": {
   "codemirror_mode": {
    "name": "ipython",
    "version": 3
   },
   "file_extension": ".py",
   "mimetype": "text/x-python",
   "name": "python",
   "nbconvert_exporter": "python",
   "pygments_lexer": "ipython3",
   "version": "3.8.18"
  }
 },
 "nbformat": 4,
 "nbformat_minor": 5
}
