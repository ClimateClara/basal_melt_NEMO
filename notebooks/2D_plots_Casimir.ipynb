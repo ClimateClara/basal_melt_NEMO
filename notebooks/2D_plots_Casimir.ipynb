{
 "cells": [
  {
   "cell_type": "code",
   "execution_count": null,
   "id": "3ed302ef-2eed-419f-b46f-d4ff2b892fa9",
   "metadata": {},
   "outputs": [],
   "source": [
    "\"\"\"\n",
    "Created on Thu Feb 08 10:42 2024\n",
    "\n",
    "Look at some 2D variables in the Casimir runs\n",
    "\n",
    "Author: @claraburgard\n",
    "\"\"\""
   ]
  },
  {
   "cell_type": "code",
   "execution_count": 36,
   "id": "7d6ac024-c931-455b-9cd1-e85d086ee871",
   "metadata": {},
   "outputs": [],
   "source": [
    "import xarray as xr\n",
    "import numpy as np\n",
    "\n",
    "import matplotlib.pyplot as plt\n",
    "import matplotlib as mpl\n",
    "import cmocean\n",
    "\n",
    "import cartopy.crs as ccrs\n",
    "import cartopy.feature\n",
    "from cartopy.util import add_cyclic_point\n",
    "import seaborn as sns\n",
    "import cartopy\n",
    "import matplotlib.colors as colors\n",
    "from matplotlib.colors import Normalize\n",
    "from cartopy.feature import LAND\n",
    "\n",
    "import gsw\n",
    "\n",
    "from basal_melt_NEMO.constants import *\n",
    "import basal_melt_NEMO.figure_functions as figf\n",
    "import basal_melt_NEMO.useful_functions as uf"
   ]
  },
  {
   "cell_type": "code",
   "execution_count": 2,
   "id": "3f88194a-cc9c-4f6c-af07-55e655d6b4fa",
   "metadata": {},
   "outputs": [],
   "source": [
    "sns.set_context('paper')"
   ]
  },
  {
   "cell_type": "code",
   "execution_count": 3,
   "id": "403fd40c-3339-403a-9f7f-bf6b043fd727",
   "metadata": {},
   "outputs": [
    {
     "name": "stderr",
     "output_type": "stream",
     "text": [
      "QStandardPaths: error creating runtime directory '/run/user/2784' (Permission denied)\n"
     ]
    }
   ],
   "source": [
    "%matplotlib qt5"
   ]
  },
  {
   "cell_type": "markdown",
   "id": "f9222194-85e7-4928-8b52-77cd6d8c69e1",
   "metadata": {},
   "source": [
    "READ IN DATA"
   ]
  },
  {
   "cell_type": "code",
   "execution_count": 4,
   "id": "d5621e53-ca67-4e7d-8b2a-e6aacb4dd8f6",
   "metadata": {},
   "outputs": [],
   "source": [
    "inputpath_closed='/data/cdelaver/n42tm21/'\n",
    "inputpath_open='/data/cdelaver/n42openc/'\n",
    "clara_path='/data/cburgard/CASIMIR_SIMU/interim/XR_PROCESSED/'\n",
    "plot_path = '/data/cburgard/PLOTS/first_plots/'"
   ]
  },
  {
   "cell_type": "code",
   "execution_count": 6,
   "id": "29aa76ed-d86b-410e-aed7-7bf63196a7ce",
   "metadata": {},
   "outputs": [],
   "source": [
    "file_open_mean10 = xr.open_mfdataset(inputpath_open + 'n42openc_00910101_01001231_1Y_grid_T.nc').mean('time_counter')\n",
    "file_closed_mean10 = xr.open_mfdataset(inputpath_closed + 'n42tm21_00910101_01001231_1Y_grid_T.nc').mean('time_counter')"
   ]
  },
  {
   "cell_type": "code",
   "execution_count": 7,
   "id": "6a559b5e-ac14-4082-9059-ea3de5ba2a58",
   "metadata": {},
   "outputs": [],
   "source": [
    "file_open_mean10 = file_open_mean10.where(file_open_mean10['so'] > 0)\n"
   ]
  },
  {
   "cell_type": "code",
   "execution_count": 13,
   "id": "a1691e2c-08e6-4db9-a134-34e87fae3048",
   "metadata": {},
   "outputs": [],
   "source": [
    "lon = file_open_mean10.nav_lon\n",
    "lat = file_open_mean10.nav_lat"
   ]
  },
  {
   "cell_type": "code",
   "execution_count": 30,
   "id": "e202907d-e425-449c-acf2-6cd81be62c55",
   "metadata": {},
   "outputs": [],
   "source": [
    "T_30W_closed = file_closed_mean10['thetao'].where((lon > -31.) & (lon < -29.)).mean('x')\n",
    "T_30W_open = file_open_mean10['thetao'].where((lon > -31.) & (lon < -29.)).mean('x')"
   ]
  },
  {
   "cell_type": "code",
   "execution_count": 24,
   "id": "19362e53-3529-44ea-8749-ba7e4a7de013",
   "metadata": {},
   "outputs": [],
   "source": [
    "ref = file_closed_mean10 .where((lon > -31.) & (lon < -29.)).isel(deptht=0)\n",
    "plt.figure()\n",
    "\n",
    "llon = lon\n",
    "llat = lon\n",
    "\n",
    "proj = ccrs.PlateCarree(central_longitude=0)\n",
    "wrap_ref, wrap_lon = ref, lon #add_cyclic_point(ref.values,coord=lon,axis=1)\n",
    "\n",
    "theta = np.linspace(0, 2*np.pi, 100)\n",
    "center, radius = [0.5, 0.5], 0.5\n",
    "verts = np.vstack([np.sin(theta), np.cos(theta)]).T\n",
    "circle = mpl.path.Path(verts * radius + center)   \n",
    "\n",
    "ax1 = plt.subplot(1, 1, 1, projection=proj)\n",
    "abso0 = ax1.pcolormesh(wrap_lon,lat,wrap_ref,transform=ccrs.PlateCarree(),rasterized=True)\n",
    "ax1.coastlines(resolution='110m', linewidth=0.5)\n",
    "ax1.set_extent([-180, 180, 20, 90], crs=ccrs.PlateCarree())\n",
    "ax1.set_boundary(circle, transform=ax1.transAxes)"
   ]
  },
  {
   "cell_type": "code",
   "execution_count": 31,
   "id": "008ce956-7917-4706-ab21-6a8c4220ca4a",
   "metadata": {},
   "outputs": [
    {
     "data": {
      "text/plain": [
       "<matplotlib.collections.QuadMesh at 0x15052df6cd00>"
      ]
     },
     "execution_count": 31,
     "metadata": {},
     "output_type": "execute_result"
    }
   ],
   "source": [
    "(T_30W_closed - T_30W_open).plot()"
   ]
  },
  {
   "cell_type": "code",
   "execution_count": 33,
   "id": "141a35ea-59d0-414b-a504-a2fceaacf0e5",
   "metadata": {},
   "outputs": [],
   "source": [
    "S_30W_closed = file_closed_mean10['so'].where((lon > -31.) & (lon < -29.)).mean('x')\n",
    "S_30W_open = file_open_mean10['so'].where((lon > -31.) & (lon < -29.)).mean('x')"
   ]
  },
  {
   "cell_type": "code",
   "execution_count": 59,
   "id": "5cf9ccf6-bc19-4392-8b2c-9c32acd5f871",
   "metadata": {},
   "outputs": [],
   "source": [
    "depth_closed_30W = file_closed_mean10['e3t'].cumsum('deptht').where((lon > -31.) & (lon < -29.)).mean('x')\n",
    "depth_open_30W = file_open_mean10['e3t'].cumsum('deptht').where((lon > -31.) & (lon < -29.)).mean('x')"
   ]
  },
  {
   "cell_type": "code",
   "execution_count": 60,
   "id": "aa421851-e973-48b6-80bd-5d4f634e7547",
   "metadata": {},
   "outputs": [],
   "source": [
    "density_closed_30W = gsw.rho(S_30W_closed, T_30W_closed, depth_closed_30W)\n",
    "density_open_30W = gsw.rho(S_30W_open, T_30W_open, depth_open_30W)"
   ]
  },
  {
   "cell_type": "code",
   "execution_count": 61,
   "id": "8fb1a671-aa74-47af-b758-0ddee39b02ee",
   "metadata": {},
   "outputs": [
    {
     "data": {
      "text/plain": [
       "<matplotlib.collections.QuadMesh at 0x15052281e340>"
      ]
     },
     "execution_count": 61,
     "metadata": {},
     "output_type": "execute_result"
    }
   ],
   "source": [
    "(density_open_30W - density_closed_30W).plot()"
   ]
  },
  {
   "cell_type": "code",
   "execution_count": null,
   "id": "10555bd7-af7d-48cf-aa9e-23e4fa4a754b",
   "metadata": {},
   "outputs": [],
   "source": []
  }
 ],
 "metadata": {
  "kernelspec": {
   "display_name": "py38",
   "language": "python",
   "name": "py38"
  },
  "language_info": {
   "codemirror_mode": {
    "name": "ipython",
    "version": 3
   },
   "file_extension": ".py",
   "mimetype": "text/x-python",
   "name": "python",
   "nbconvert_exporter": "python",
   "pygments_lexer": "ipython3",
   "version": "3.8.18"
  }
 },
 "nbformat": 4,
 "nbformat_minor": 5
}
