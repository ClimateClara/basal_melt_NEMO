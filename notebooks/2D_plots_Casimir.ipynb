{
 "cells": [
  {
   "cell_type": "code",
   "execution_count": null,
   "id": "3ed302ef-2eed-419f-b46f-d4ff2b892fa9",
   "metadata": {},
   "outputs": [],
   "source": [
    "\"\"\"\n",
    "Created on Thu Feb 08 10:42 2024\n",
    "\n",
    "Look at some 2D variables in the Casimir runs\n",
    "\n",
    "Author: @claraburgard\n",
    "\"\"\""
   ]
  },
  {
   "cell_type": "code",
   "execution_count": 1,
   "id": "7d6ac024-c931-455b-9cd1-e85d086ee871",
   "metadata": {},
   "outputs": [],
   "source": [
    "import xarray as xr\n",
    "import numpy as np\n",
    "\n",
    "import matplotlib.pyplot as plt\n",
    "import matplotlib as mpl\n",
    "import cmocean\n",
    "\n",
    "import cartopy.crs as ccrs\n",
    "import cartopy.feature\n",
    "from cartopy.util import add_cyclic_point\n",
    "import seaborn as sns\n",
    "import cartopy\n",
    "import matplotlib.colors as colors\n",
    "from matplotlib.colors import Normalize\n",
    "from cartopy.feature import LAND\n",
    "\n",
    "import gsw\n",
    "\n",
    "from basal_melt_NEMO.constants import *\n",
    "import basal_melt_NEMO.figure_functions as figf\n",
    "import basal_melt_NEMO.useful_functions as uf"
   ]
  },
  {
   "cell_type": "code",
   "execution_count": 2,
   "id": "3f88194a-cc9c-4f6c-af07-55e655d6b4fa",
   "metadata": {},
   "outputs": [],
   "source": [
    "sns.set_context('paper')"
   ]
  },
  {
   "cell_type": "code",
   "execution_count": 3,
   "id": "403fd40c-3339-403a-9f7f-bf6b043fd727",
   "metadata": {},
   "outputs": [
    {
     "name": "stderr",
     "output_type": "stream",
     "text": [
      "QStandardPaths: error creating runtime directory '/run/user/2784' (Permission denied)\n"
     ]
    }
   ],
   "source": [
    "%matplotlib qt5"
   ]
  },
  {
   "cell_type": "markdown",
   "id": "f9222194-85e7-4928-8b52-77cd6d8c69e1",
   "metadata": {},
   "source": [
    "READ IN DATA"
   ]
  },
  {
   "cell_type": "code",
   "execution_count": 4,
   "id": "d5621e53-ca67-4e7d-8b2a-e6aacb4dd8f6",
   "metadata": {},
   "outputs": [],
   "source": [
    "inputpath_closed='/data/cdelaver/n42tm21/'\n",
    "inputpath_open='/data/cdelaver/n42openc/'\n",
    "clara_path='/data/cburgard/CASIMIR_SIMU/interim/XR_PROCESSED/'\n",
    "plot_path = '/data/cburgard/PLOTS/first_plots/'\n",
    "mask_path = '/data/cburgard/TOOLS/'"
   ]
  },
  {
   "cell_type": "code",
   "execution_count": 5,
   "id": "a8ce0bc2-6a5a-4fb7-aaea-01a3461a2e9d",
   "metadata": {},
   "outputs": [],
   "source": [
    "ocean_masks = xr.open_dataset(mask_path + 'basin_masks_orca1_nemo4p2.nc')"
   ]
  },
  {
   "cell_type": "code",
   "execution_count": 6,
   "id": "29aa76ed-d86b-410e-aed7-7bf63196a7ce",
   "metadata": {},
   "outputs": [],
   "source": [
    "file_open_mean10 = xr.open_mfdataset(inputpath_open + 'n42openc_00910101_01001231_1Y_grid_T.nc').mean('time_counter')\n",
    "file_closed_mean10 = xr.open_mfdataset(inputpath_closed + 'n42tm21_00910101_01001231_1Y_grid_T.nc').mean('time_counter')\n",
    "\n",
    "file_open_V_mean10 = xr.open_mfdataset(inputpath_open + 'n42openc_00910101_01001231_1Y_grid_V.nc').mean('time_counter')\n",
    "file_closed_V_mean10 = xr.open_mfdataset(inputpath_closed + 'n42tm21_00910101_01001231_1Y_grid_V.nc').mean('time_counter')"
   ]
  },
  {
   "cell_type": "code",
   "execution_count": 7,
   "id": "2c573fb6-461a-4f18-9fcf-161932b6ae36",
   "metadata": {},
   "outputs": [],
   "source": [
    "file_open_T = xr.open_mfdataset(inputpath_open + 'n42openc_00910101_01001231_1Y_grid_T.nc')\n",
    "file_closed_T = xr.open_mfdataset(inputpath_closed + 'n42tm21_00910101_01001231_1Y_grid_T.nc')\n",
    "\n",
    "file_open_V = xr.open_mfdataset(inputpath_open + 'n42openc_00910101_01001231_1Y_grid_V.nc')\n",
    "file_closed_V = xr.open_mfdataset(inputpath_closed + 'n42tm21_00910101_01001231_1Y_grid_V.nc')"
   ]
  },
  {
   "cell_type": "code",
   "execution_count": 8,
   "id": "6a559b5e-ac14-4082-9059-ea3de5ba2a58",
   "metadata": {},
   "outputs": [],
   "source": [
    "file_open_mean10 = file_open_mean10.where(file_open_mean10['so'] > 0)\n",
    "file_open_V_mean10 = file_open_V_mean10#.where(file_open_mean10['so'].rename({'deptht':'depthv'}) > 0)\n",
    "\n",
    "file_open_T = file_open_T.where(file_open_T['so'] > 0)"
   ]
  },
  {
   "cell_type": "code",
   "execution_count": 9,
   "id": "afd9ad2a-da4a-41fc-a381-d185a6f0bf88",
   "metadata": {},
   "outputs": [],
   "source": [
    "file_open_ice = xr.open_mfdataset(inputpath_open+'/n42openc_00910101_01001231_1M_icemod.nc')\n",
    "file_closed_ice = xr.open_mfdataset(inputpath_closed+'/n42tm21_00910101_01001231_1M_icemod.nc')"
   ]
  },
  {
   "cell_type": "code",
   "execution_count": 10,
   "id": "b1dd6fd8-c050-4b09-b948-6bf8e7301e16",
   "metadata": {},
   "outputs": [],
   "source": [
    "file_open_ice_02 = file_open_ice.where(file_open_ice['time_counter.month'] == 2, drop=True).mean('time_counter').load()\n",
    "file_open_ice_09 = file_open_ice.where(file_open_ice['time_counter.month'] == 9, drop=True).mean('time_counter').load()\n",
    "\n",
    "file_closed_ice_02 = file_closed_ice.where(file_closed_ice['time_counter.month'] == 2, drop=True).mean('time_counter').load()\n",
    "file_closed_ice_09 = file_closed_ice.where(file_closed_ice['time_counter.month'] == 9, drop=True).mean('time_counter').load()"
   ]
  },
  {
   "cell_type": "code",
   "execution_count": 11,
   "id": "a1691e2c-08e6-4db9-a134-34e87fae3048",
   "metadata": {},
   "outputs": [],
   "source": [
    "lon = file_open_mean10.nav_lon\n",
    "lat = file_open_mean10.nav_lat"
   ]
  },
  {
   "cell_type": "markdown",
   "id": "416a5799-ffbf-4f23-94e1-741dcfefde27",
   "metadata": {},
   "source": [
    "PLOTS"
   ]
  },
  {
   "cell_type": "code",
   "execution_count": null,
   "id": "e202907d-e425-449c-acf2-6cd81be62c55",
   "metadata": {},
   "outputs": [],
   "source": [
    "T_30W_closed = file_closed_mean10['thetao'].where((lon > -31.) & (lon < -29.)).mean('x')\n",
    "T_30W_open = file_open_mean10['thetao'].where((lon > -31.) & (lon < -29.)).mean('x')"
   ]
  },
  {
   "cell_type": "code",
   "execution_count": 12,
   "id": "19362e53-3529-44ea-8749-ba7e4a7de013",
   "metadata": {},
   "outputs": [
    {
     "name": "stderr",
     "output_type": "stream",
     "text": [
      "libGL error: No matching fbConfigs or visuals found\n",
      "libGL error: failed to load driver: swrast\n"
     ]
    }
   ],
   "source": [
    "# checking if the line is right\n",
    "#ref = file_closed_mean10['thetao'].where((lon > -31.) & (lon < -29.)).isel(deptht=0)\n",
    "ref = ocean_masks['pacific']\n",
    "plt.figure()\n",
    "\n",
    "llon = lon\n",
    "llat = lat\n",
    "\n",
    "proj = ccrs.PlateCarree(central_longitude=0)\n",
    "wrap_ref, wrap_lon = ref, lon #add_cyclic_point(ref.values,coord=lon,axis=1)\n",
    "\n",
    "theta = np.linspace(0, 2*np.pi, 100)\n",
    "center, radius = [0.5, 0.5], 0.5\n",
    "verts = np.vstack([np.sin(theta), np.cos(theta)]).T\n",
    "circle = mpl.path.Path(verts * radius + center)   \n",
    "\n",
    "ax1 = plt.subplot(1, 1, 1, projection=proj)\n",
    "abso0 = ax1.pcolormesh(wrap_lon,lat,wrap_ref,transform=ccrs.PlateCarree(),rasterized=True)\n",
    "ax1.coastlines(resolution='110m', linewidth=0.5)\n",
    "ax1.set_extent([-180, 180, -90, 90], crs=ccrs.PlateCarree())\n",
    "ax1.set_boundary(circle, transform=ax1.transAxes)"
   ]
  },
  {
   "cell_type": "code",
   "execution_count": 13,
   "id": "3efe77b9-ee9b-4c6e-abde-052417151f4c",
   "metadata": {},
   "outputs": [],
   "source": [
    "def compute_density(da):\n",
    "    depth = da['e3t'].cumsum('deptht')\n",
    "    S = da['so']\n",
    "    T = da['thetao']\n",
    "    return gsw.rho(S,T,depth)"
   ]
  },
  {
   "cell_type": "code",
   "execution_count": 14,
   "id": "efd844e9-d3ef-4f56-80a0-2303ed5aad5a",
   "metadata": {},
   "outputs": [],
   "source": [
    "def compute_sigma2(da):\n",
    "    S = da['so']\n",
    "    T = da['thetao']\n",
    "    return gsw.density.sigma2(S, T)"
   ]
  },
  {
   "cell_type": "code",
   "execution_count": 15,
   "id": "113b270b-a8bb-45c6-b1a3-544122394a2b",
   "metadata": {},
   "outputs": [],
   "source": [
    "def transect_along_ocean(var, lon, lon_min, lon_max, lat, lat_max, cpalette, varname):\n",
    "\n",
    "    if lat_max == 90:\n",
    "        plot_var_closed = file_closed_mean10[var].where((lon > lon_min) & (lon < lon_max) & (lat <= lat_max)).mean('x')\n",
    "        plot_var_open = file_open_mean10[var].where((lon > lon_min) & (lon < lon_max) & (lat <= lat_max)).mean('x')\n",
    "    else:\n",
    "        plot_var_closed = file_closed_mean10[var].where((lon > lon_min) & (lon < lon_max) & (lat <= lat_max), drop=True).mean('x')\n",
    "        plot_var_open = file_open_mean10[var].where((lon > lon_min) & (lon < lon_max) & (lat <= lat_max), drop=True).mean('x')\n",
    "    \n",
    "    f, ax = plt.subplots(3, 1, sharex=True, sharey=True, figsize=(8.25,8.25*1.5))\n",
    "\n",
    "    abs1 = ax[0].contourf(plot_var_closed.y,-1*plot_var_closed.deptht, plot_var_closed, cmap=cpalette)\n",
    "    f.colorbar(abs1, ax=ax[0], orientation='vertical')\n",
    "    ax[0].set_title(varname)\n",
    "    \n",
    "    abs2 = ax[1].contourf(plot_var_open.y,-1*plot_var_open.deptht, plot_var_open, cmap=cpalette)\n",
    "    f.colorbar(abs2, ax=ax[1], orientation='vertical')\n",
    "    \n",
    "    ax_limit = (np.abs(plot_var_open - plot_var_closed)).max().values\n",
    "    abs3 = ax[2].contourf(plot_var_open.y,-1*plot_var_open.deptht, (plot_var_open - plot_var_closed), cmap=mpl.cm.coolwarm, vmin=-ax_limit, vmax=ax_limit)\n",
    "    f.colorbar(abs3, ax=ax[2], orientation='vertical')\n",
    "\n",
    "    plt.tight_layout()\n",
    "    return f"
   ]
  },
  {
   "cell_type": "code",
   "execution_count": 16,
   "id": "246454c6-8446-49da-afe8-79626bfc08dd",
   "metadata": {},
   "outputs": [],
   "source": [
    "def streamfunction_along_ocean(vo_open, vo_closed, ocean, cpalette):\n",
    "\n",
    "    if ocean == 'indo-pacific':\n",
    "        vmass_sum_open = vo_open.where(np.isfinite(ocean_masks['indian']) | np.isfinite(ocean_masks['pacific'])).sum('x') / 10**6\n",
    "        vmass_sum_closed = vo_closed.where(np.isfinite(ocean_masks['indian']) | np.isfinite(ocean_masks['pacific'])).sum('x') / 10**6\n",
    "    else:\n",
    "        vmass_sum_open = vo_open.where(np.isfinite(ocean_masks[ocean])).sum('x') / 10**6\n",
    "        vmass_sum_closed = vo_closed.where(np.isfinite(ocean_masks[ocean])).sum('x') / 10**6\n",
    "\n",
    "    vmass_sum_open = vmass_sum_open.sel(depthv=vmass_sum_open.depthv[::-1])\n",
    "    vmass_sum_closed = vmass_sum_closed.sel(depthv=vmass_sum_closed.depthv[::-1])\n",
    "\n",
    "    plot_var_open = -1*vmass_sum_open.cumsum('depthv')\n",
    "    plot_var_closed = -1*vmass_sum_closed.cumsum('depthv')\n",
    "    \n",
    "    f, ax = plt.subplots(3, 1, sharex=True, sharey=True, figsize=(8.25,8.25*1.5))\n",
    "\n",
    "    ax_limit0 = 20 #np.quantile(np.array([np.abs(plot_var_open),np.abs(plot_var_closed)]), 0.99)\n",
    "    \n",
    "    abs1 = ax[0].pcolormesh(plot_var_closed.y,-1*plot_var_closed.depthv, plot_var_closed, cmap=cpalette, vmin=-ax_limit0, vmax=ax_limit0)\n",
    "    f.colorbar(abs1, ax=ax[0], orientation='vertical')\n",
    "    ax[0].set_title('Streamfunction '+ocean)\n",
    "\n",
    "    abs2 = ax[1].pcolormesh(plot_var_open.y,-1*plot_var_open.depthv, plot_var_open, cmap=cpalette, vmin=-ax_limit0, vmax=ax_limit0)\n",
    "    f.colorbar(abs2, ax=ax[1], orientation='vertical')\n",
    "    \n",
    "    ax_limit = (np.abs(plot_var_open - plot_var_closed)).max().values\n",
    "    abs3 = ax[2].pcolormesh(plot_var_open.y,-1*plot_var_open.depthv, (plot_var_open - plot_var_closed), cmap=mpl.cm.coolwarm, vmin=-ax_limit, vmax=ax_limit)\n",
    "    f.colorbar(abs3, ax=ax[2], orientation='vertical')\n",
    "\n",
    "    plt.tight_layout()\n",
    "    return f"
   ]
  },
  {
   "cell_type": "code",
   "execution_count": 17,
   "id": "5a56f158-f47f-4535-9754-e7f73ccdd82a",
   "metadata": {},
   "outputs": [],
   "source": [
    "def maps_compare3(lon,lat,ref,modif,name,cmap,region,legend,lat_lim=-50):\n",
    "    \n",
    "    f = plt.figure(figsize=(8.25*1.5,8.25/1.5))\n",
    "    #f = plt.figure()\n",
    "    #f.suptitle(str(time_in.values)[0:16],fontsize=22)\n",
    "\n",
    "    if region == 'global':\n",
    "        proj = ccrs.Mollweide(central_longitude=0)\n",
    "        wrap_ref = ref\n",
    "        wrap_lon = lon\n",
    "        wrap_modif = modif\n",
    "    elif region == 'Ant':\n",
    "        proj = ccrs.SouthPolarStereo(central_longitude=0)\n",
    "        wrap_ref, wrap_lon = ref, lon #add_cyclic_point(ref.values,coord=lon,axis=1)\n",
    "        wrap_modif, wrap_lon = modif, lon #add_cyclic_point(modif.values,coord=lon,axis=1)\n",
    "\n",
    "        theta = np.linspace(0, 2*np.pi, 100)\n",
    "        center, radius = [0.5, 0.5], 0.5\n",
    "        verts = np.vstack([np.sin(theta), np.cos(theta)]).T\n",
    "        circle = mpl.path.Path(verts * radius + center)        \n",
    "\n",
    "    #### REFERENCE\n",
    "    ax1 = plt.subplot(1, 3, 1, projection=proj)\n",
    "    abso0 = ax1.pcolormesh(wrap_lon,lat,wrap_ref,transform=ccrs.PlateCarree(),cmap=cmap,rasterized=True)\n",
    "    ax1.coastlines(resolution='110m', linewidth=0.5)\n",
    "    \n",
    "    if region == 'global':\n",
    "        ax1.add_feature(cartopy.feature.LAND, zorder=100, edgecolor='black')\n",
    "    elif region == 'Ant':\n",
    "        ax1.set_extent([-180, 180, -90, -50], crs=ccrs.PlateCarree())\n",
    "        ax1.set_boundary(circle, transform=ax1.transAxes)\n",
    "\n",
    "    if legend=='yes':\n",
    "        cbar = f.colorbar(abso0, ax=ax1, shrink=0.3,orientation='vertical',extend='both')\n",
    "        cbar.set_label(name,rotation=90)  \n",
    "\n",
    "    #### MODIFICATION\n",
    "    ax2 = plt.subplot(1, 3, 2, projection=proj)\n",
    "    ax2.coastlines(resolution='110m', linewidth=0.5)\n",
    "    abso = ax2.pcolormesh(wrap_lon,lat,wrap_modif,transform=ccrs.PlateCarree(),cmap=cmap,rasterized=True)\n",
    "\n",
    "    if region == 'global':\n",
    "        ax2.add_feature(cartopy.feature.LAND, zorder=100, edgecolor='black')\n",
    "    elif region == 'Ant':\n",
    "        ax2.set_extent([-180, 180, -90, -50], crs=ccrs.PlateCarree())\n",
    "        ax2.set_boundary(circle, transform=ax2.transAxes)\n",
    "\n",
    "    if legend=='yes':\n",
    "        cbar = f.colorbar(abso0, ax=ax2, shrink=0.3,orientation='vertical',extend='both')\n",
    "        cbar.set_label(name,rotation=90)    \n",
    "\n",
    "    #### DIFFERENCE\n",
    "    abs_lim = abs(modif - ref).quantile(0.99)\n",
    "    ax3 = plt.subplot(1, 3, 3, projection=proj)\n",
    "    ax3.coastlines(resolution='110m', linewidth=0.5)\n",
    "    diff1 = ax3.pcolormesh(wrap_lon,lat,wrap_modif - wrap_ref,transform=ccrs.PlateCarree(),cmap=mpl.cm.coolwarm,rasterized=True,vmin=-abs_lim,vmax=abs_lim)\n",
    "    \n",
    "    if region == 'global':\n",
    "        ax3.add_feature(cartopy.feature.LAND, zorder=100, edgecolor='black')\n",
    "    elif region == 'Ant':\n",
    "        ax3.set_extent([-180, 180, -90, -50], crs=ccrs.PlateCarree())\n",
    "        ax3.set_boundary(circle, transform=ax3.transAxes)\n",
    "\n",
    "    if legend=='yes':\n",
    "        cbar = f.colorbar(diff1, ax=ax3, shrink=0.3,orientation='vertical',extend='both')\n",
    "        cbar.set_label('Modif - ref '+name,rotation=90)    \n",
    "\n",
    "\n",
    "    \n",
    "    f.tight_layout()\n",
    "    \n",
    "    return f\n",
    "    "
   ]
  },
  {
   "cell_type": "code",
   "execution_count": null,
   "id": "d8722e45-e289-4de3-8468-7eb1c7d4ddae",
   "metadata": {},
   "outputs": [],
   "source": [
    "### ATLANTIC"
   ]
  },
  {
   "cell_type": "code",
   "execution_count": null,
   "id": "6ed43712-e401-4c61-aad5-580ae9cded50",
   "metadata": {},
   "outputs": [],
   "source": [
    "f_temp = transect_along_ocean('thetao', lon, -31., -29., lat, 90, cmocean.cm.thermal,'Conservative Temperature [°C]')\n",
    "f_temp.savefig(plot_path + 'transect_temp_Atl.pdf')"
   ]
  },
  {
   "cell_type": "code",
   "execution_count": null,
   "id": "fffbadaa-71c0-4659-9fbd-16288befdc9a",
   "metadata": {},
   "outputs": [],
   "source": [
    "f_sal = transect_along_ocean('so', lon, -31., -29., lat, 90,cmocean.cm.haline,'Absolute Salinity [g/kg]')\n",
    "f_sal.savefig(plot_path + 'transect_sal_Atl.pdf')"
   ]
  },
  {
   "cell_type": "code",
   "execution_count": null,
   "id": "1de5cde3-06e5-4504-aa6c-3b8e6f1749f1",
   "metadata": {},
   "outputs": [],
   "source": [
    "file_closed_mean10['rho'] = compute_density(file_closed_mean10).load()\n",
    "file_open_mean10['rho'] = compute_density(file_open_mean10).load()"
   ]
  },
  {
   "cell_type": "code",
   "execution_count": null,
   "id": "4fd2c60b-6be2-46ec-8b1f-12247081e77e",
   "metadata": {},
   "outputs": [],
   "source": [
    "f_rho = transect_along_ocean('rho', lon, -31., -29., lat, 90, cmocean.cm.dense,'In-situ density [kg/m3]')"
   ]
  },
  {
   "cell_type": "code",
   "execution_count": 18,
   "id": "fd477041-fa88-48f2-8360-de775242492e",
   "metadata": {},
   "outputs": [],
   "source": [
    "file_closed_mean10['sigma2'] = compute_sigma2(file_closed_mean10).load()\n",
    "file_open_mean10['sigma2'] = compute_sigma2(file_open_mean10).load()"
   ]
  },
  {
   "cell_type": "code",
   "execution_count": null,
   "id": "60e388af-0d24-4b80-99cc-67899440ea06",
   "metadata": {},
   "outputs": [],
   "source": [
    "f_sigma2 = transect_along_ocean('sigma2', lon, -31., -29., lat, 90,cmocean.cm.dense,'Potential density anomaly with reference pressure of 2000 dbar [kg/m3]')\n",
    "f_sigma2.savefig(plot_path + 'transect_sigma2_Atl.pdf')"
   ]
  },
  {
   "cell_type": "code",
   "execution_count": null,
   "id": "af09917f-43cd-4c66-97c9-1469aebfe3ea",
   "metadata": {},
   "outputs": [],
   "source": [
    "### PACIFIC"
   ]
  },
  {
   "cell_type": "code",
   "execution_count": null,
   "id": "8c5cd086-6a30-48a7-81ec-063269ed214e",
   "metadata": {},
   "outputs": [],
   "source": [
    "f_temp = transect_along_ocean('thetao', lon, -171, -169.,lat, 90,cmocean.cm.thermal,'Conservative Temperature [°C]')\n",
    "f_temp.savefig(plot_path + 'transect_temp_Pac.pdf')"
   ]
  },
  {
   "cell_type": "code",
   "execution_count": null,
   "id": "fa7b0064-849a-433a-8ba4-5efcb09032e3",
   "metadata": {},
   "outputs": [],
   "source": [
    "f_sal = transect_along_ocean('so', lon,  -171, -169.,lat, 90,cmocean.cm.haline,'Absolute Salinity [g/kg]')\n",
    "f_sal.savefig(plot_path + 'transect_sal_Pac.pdf')"
   ]
  },
  {
   "cell_type": "code",
   "execution_count": null,
   "id": "9f02f5d1-de24-43a9-89c7-dc25e95c337a",
   "metadata": {},
   "outputs": [],
   "source": [
    "f_rho = transect_along_ocean('rho', lon, -171, -169.,lat, 90,cmocean.cm.dense,'In-situ density [kg/m3]')"
   ]
  },
  {
   "cell_type": "code",
   "execution_count": null,
   "id": "8971a8f7-5f46-43bf-aca0-18fafa1f93c5",
   "metadata": {},
   "outputs": [],
   "source": [
    "f_sigma2 = transect_along_ocean('sigma2', lon, -171, -169.,lat, 90,cmocean.cm.dense,'Potential density anomaly with reference pressure of 2000 dbar [kg/m3]')\n",
    "f_sigma2.savefig(plot_path + 'transect_sigma2_Pac.pdf')"
   ]
  },
  {
   "cell_type": "code",
   "execution_count": null,
   "id": "99a62124-e37a-4462-b3aa-181d381d940e",
   "metadata": {},
   "outputs": [],
   "source": [
    "### WEDDELL SEA"
   ]
  },
  {
   "cell_type": "code",
   "execution_count": null,
   "id": "036ce605-6a7b-4273-baee-56ea1f3991d4",
   "metadata": {},
   "outputs": [],
   "source": [
    "f_temp = transect_along_ocean('thetao', lon, -51, -49,lat, -50,cmocean.cm.thermal,'Conservative Temperature [°C] Weddell Sea')\n",
    "f_temp.savefig(plot_path + 'transect_temp_Wed.pdf')"
   ]
  },
  {
   "cell_type": "code",
   "execution_count": null,
   "id": "c479b2d2-378b-4bff-8d1f-0a35b64c88b0",
   "metadata": {},
   "outputs": [],
   "source": [
    "f_sal = transect_along_ocean('so', lon,  -51, -49,lat,  -50,cmocean.cm.haline,'Absolute Salinity [g/kg] Weddell Sea')\n",
    "f_sal.savefig(plot_path + 'transect_sal_Wed.pdf')"
   ]
  },
  {
   "cell_type": "code",
   "execution_count": null,
   "id": "5d9a1ddd-8faf-4b5b-9e3c-f77385cd9d75",
   "metadata": {},
   "outputs": [],
   "source": [
    "f_sigma2 = transect_along_ocean('sigma2', lon, -51, -49,lat, -50,cmocean.cm.dense,'Potential density anomaly with reference pressure of 2000 dbar [kg/m3] Weddell Sea')\n",
    "f_sigma2.savefig(plot_path + 'transect_sigma2_Wed.pdf')"
   ]
  },
  {
   "cell_type": "code",
   "execution_count": null,
   "id": "948bf0bf-f08c-477d-95b5-a89595475837",
   "metadata": {},
   "outputs": [],
   "source": [
    "### ROSS SEA"
   ]
  },
  {
   "cell_type": "code",
   "execution_count": null,
   "id": "01ee397b-12b1-4a02-99fb-ec567f5d11dd",
   "metadata": {},
   "outputs": [],
   "source": [
    "f_temp = transect_along_ocean('thetao', lon, -180, -179,lat, -50,cmocean.cm.thermal,'Conservative Temperature [°C] Ross Sea')\n",
    "f_temp.savefig(plot_path + 'transect_temp_Ross.pdf')"
   ]
  },
  {
   "cell_type": "code",
   "execution_count": null,
   "id": "28faf6a3-3c6b-4443-9746-7f5118bd7f0a",
   "metadata": {},
   "outputs": [],
   "source": [
    "f_sal = transect_along_ocean('so', lon,  -180, -179,lat,  -50,cmocean.cm.haline,'Absolute Salinity [g/kg] Ross Sea')\n",
    "f_sal.savefig(plot_path + 'transect_sal_Ross.pdf')"
   ]
  },
  {
   "cell_type": "code",
   "execution_count": null,
   "id": "7eeff906-89eb-43f2-9f75-05a49addb41e",
   "metadata": {},
   "outputs": [],
   "source": [
    "f_sigma2 = transect_along_ocean('sigma2', lon, -180, -179,lat, -50,cmocean.cm.dense,'Potential density anomaly with reference pressure of 2000 dbar [kg/m3] Ross Sea')\n",
    "f_sigma2.savefig(plot_path + 'transect_sigma2_Ross.pdf')"
   ]
  },
  {
   "cell_type": "code",
   "execution_count": null,
   "id": "7e99fc56-0922-4560-886a-8e71f2e442e2",
   "metadata": {},
   "outputs": [],
   "source": [
    "mask_Ross = ((lon <= -120) | (lon >= 150)) & (lat >= -87.) & (lat <= -65.)"
   ]
  },
  {
   "cell_type": "code",
   "execution_count": null,
   "id": "6a3dd2ab-56ea-4160-b70f-7ce47733cd98",
   "metadata": {},
   "outputs": [],
   "source": [
    "### STREAM FUNCTION"
   ]
  },
  {
   "cell_type": "code",
   "execution_count": null,
   "id": "cdf1b8af-d968-4655-abae-006eff3cc87d",
   "metadata": {},
   "outputs": [],
   "source": [
    "f_stream_indopac = streamfunction_along_ocean(file_open_V_mean10['vocetr_eff'],file_closed_V_mean10['vocetr_eff'],'indo-pacific',mpl.cm.coolwarm)\n",
    "f_stream_indopac.savefig(plot_path + 'streamfunction_indopac.png')"
   ]
  },
  {
   "cell_type": "code",
   "execution_count": null,
   "id": "0cd0fd6b-89a8-49c1-aa27-cb0650d80d42",
   "metadata": {},
   "outputs": [],
   "source": [
    "f_stream_atl = streamfunction_along_ocean(file_open_V_mean10['vocetr_eff'],file_closed_V_mean10['vocetr_eff'],'atlantic',mpl.cm.coolwarm)\n",
    "f_stream_atl.savefig(plot_path + 'streamfunction_atl.png')"
   ]
  },
  {
   "cell_type": "code",
   "execution_count": null,
   "id": "b7b9d130-a349-47d7-b6ac-5e195c34d2b2",
   "metadata": {},
   "outputs": [],
   "source": [
    "f_stream_glob = streamfunction_along_ocean(file_open_V_mean10['vocetr_eff'],file_closed_V_mean10['vocetr_eff'],'global',mpl.cm.coolwarm)\n",
    "f_stream_glob.savefig(plot_path + 'streamfunction_glob.png')"
   ]
  },
  {
   "cell_type": "code",
   "execution_count": null,
   "id": "95d6d998-e230-451e-9288-9ffe290cb562",
   "metadata": {},
   "outputs": [],
   "source": [
    "plt.close('all')"
   ]
  },
  {
   "cell_type": "code",
   "execution_count": null,
   "id": "0359e85f-2332-440a-a13f-0b11798f6032",
   "metadata": {},
   "outputs": [],
   "source": [
    "### MAPS"
   ]
  },
  {
   "cell_type": "code",
   "execution_count": 19,
   "id": "47e497c3-4794-4f4a-b96e-c0c353ecd51e",
   "metadata": {},
   "outputs": [],
   "source": [
    "f_sic_09 = figf.maps_compare3(lon,lat,file_closed_ice_09['siconc'],file_open_ice_09['siconc'],'September sea-ice concentration',cmocean.cm.ice,'Ant','yes',lat_lim=-50)\n",
    "f_sic_09.savefig(plot_path + 'sic_09_Ant.pdf')"
   ]
  },
  {
   "cell_type": "code",
   "execution_count": 20,
   "id": "171f421a-99a9-425e-a551-096334adb3f1",
   "metadata": {},
   "outputs": [],
   "source": [
    "f_sic_02 = figf.maps_compare3(lon,lat,file_closed_ice_02['siconc'],file_open_ice_02['siconc'],'February sea-ice concentration',cmocean.cm.ice,'Ant','yes',lat_lim=-50)\n",
    "f_sic_02.savefig(plot_path + 'sic_02_Ant.pdf')"
   ]
  },
  {
   "cell_type": "code",
   "execution_count": 21,
   "id": "ee95c518-abd8-4130-9d4e-f29f8bd11b71",
   "metadata": {},
   "outputs": [],
   "source": [
    "f_sit_09 = figf.maps_compare3(lon,lat,file_closed_ice_09['sivolu'],file_open_ice_09['sivolu'],'September sea-ice volume',cmocean.cm.ice,'Ant','yes',lat_lim=-50)\n",
    "f_sit_09.savefig(plot_path + 'sit_09_Ant.pdf')"
   ]
  },
  {
   "cell_type": "code",
   "execution_count": 22,
   "id": "1adaf666-e532-4d52-864c-8c2526213639",
   "metadata": {},
   "outputs": [],
   "source": [
    "f_sit_02 = figf.maps_compare3(lon,lat,file_closed_ice_02['sivolu'],file_open_ice_02['sivolu'],'February sea-ice volume',cmocean.cm.ice,'Ant','yes',lat_lim=-50)\n",
    "f_sit_02.savefig(plot_path + 'sit_02_Ant.pdf')"
   ]
  },
  {
   "cell_type": "code",
   "execution_count": 23,
   "id": "598efb95-a8e6-44ba-9027-d4706127c11a",
   "metadata": {},
   "outputs": [],
   "source": [
    "fig_mld = figf.maps_compare3(lon,lat,file_closed_mean10['mldr10_1'].load(),file_open_mean10['mldr10_1'].mean('deptht').load(),'Mixed layer depth',cmocean.cm.deep,'Ant','yes',lat_lim=-50)\n",
    "fig_mld.savefig(plot_path + 'MLD_Ant.pdf')"
   ]
  },
  {
   "cell_type": "code",
   "execution_count": 24,
   "id": "9b7c6559-bbdc-4ca0-8c0c-29e0a67c1cdd",
   "metadata": {},
   "outputs": [],
   "source": [
    "mask_cells = (file_closed_mean10['so'] > 0).load()\n",
    "bottom_open = mask_cells.sum('deptht') - 1\n",
    "\n",
    "mask_cells = (file_open_mean10['so'] > 0).load()\n",
    "bottom_closed = mask_cells.sum('deptht') - 1"
   ]
  },
  {
   "cell_type": "code",
   "execution_count": 28,
   "id": "5fa3a87c-affc-4821-abb0-f07d62da712b",
   "metadata": {},
   "outputs": [],
   "source": [
    "fig_T_bot = figf.maps_compare3(lon,lat,file_closed_mean10['thetao'].isel(deptht=bottom_closed).load(),file_open_mean10['thetao'].isel(deptht=bottom_open).load(),'Conservative bottom temperature [°C]',cmocean.cm.thermal,'Ant','yes',lat_lim=-50)\n",
    "fig_T_bot.savefig(plot_path+'T_bottom_Ant.png')"
   ]
  },
  {
   "cell_type": "code",
   "execution_count": 29,
   "id": "3f2a5e61-36a9-47cb-87c6-356c1528d43e",
   "metadata": {},
   "outputs": [],
   "source": [
    "fig_S_bot = figf.maps_compare3(lon,lat,file_closed_mean10['so'].isel(deptht=bottom_closed).load(),file_open_mean10['so'].isel(deptht=bottom_open).load(),'Absolute salinity [g/kg]',cmocean.cm.haline,'Ant','yes',lat_lim=-50)\n",
    "fig_S_bot.savefig(plot_path+'S_bottom_Ant.png')"
   ]
  },
  {
   "cell_type": "code",
   "execution_count": 30,
   "id": "e0b1dee1-56b7-4b4d-ace4-cd5d160efc30",
   "metadata": {},
   "outputs": [],
   "source": [
    "fig_sigma2_bot = figf.maps_compare3(lon,lat,file_closed_mean10['sigma2'].isel(deptht=bottom_closed),file_open_mean10['sigma2'].isel(deptht=bottom_open),'Potential density anomaly with reference pressure of 2000 dbar [kg/m3]',cmocean.cm.dense,'Ant','yes',lat_lim=-50)\n",
    "fig_sigma2_bot.savefig(plot_path+'sigma2_bottom_Ant.png')"
   ]
  },
  {
   "cell_type": "code",
   "execution_count": null,
   "id": "ce144e9b-78bb-4213-b8ae-e1d7ab4a3ed4",
   "metadata": {},
   "outputs": [],
   "source": [
    "#### BINNED STREAM FUNCTION"
   ]
  },
  {
   "cell_type": "code",
   "execution_count": null,
   "id": "d2d24d72-4a33-47c8-a57a-5c91cb05a3b3",
   "metadata": {},
   "outputs": [],
   "source": [
    "### Compute potential density anomaly with reference pressure of 2000 dbar"
   ]
  },
  {
   "cell_type": "code",
   "execution_count": null,
   "id": "12c99d7e-f76e-4867-b203-0cbc15f3e4b1",
   "metadata": {},
   "outputs": [],
   "source": [
    "file_closed_T['sigma2'] = compute_sigma2(file_closed_T)\n",
    "file_open_T['sigma2'] = compute_sigma2(file_open_T)"
   ]
  },
  {
   "cell_type": "code",
   "execution_count": null,
   "id": "7dadb632-228a-493a-9a74-0194ccf8ef20",
   "metadata": {},
   "outputs": [],
   "source": [
    "print(file_closed_T['sigma2'].max().load()) #37.8069389\n",
    "print(file_closed_T['sigma2'].min().load()) #10.16092161"
   ]
  },
  {
   "cell_type": "code",
   "execution_count": null,
   "id": "bc07d31e-7473-4b34-8591-144a6ec38fd1",
   "metadata": {},
   "outputs": [],
   "source": [
    "print(file_open_T['sigma2'].max().load()) #37.80702688\n",
    "print(file_open_T['sigma2'].min().load()) #9.813129"
   ]
  },
  {
   "cell_type": "code",
   "execution_count": null,
   "id": "6984c5b7-f48a-4ba2-8909-e603a5edf10d",
   "metadata": {},
   "outputs": [],
   "source": [
    "### Interpolate from V to T grid"
   ]
  },
  {
   "cell_type": "code",
   "execution_count": null,
   "id": "ca86fa12-a500-4821-b0de-9611b1b77fb4",
   "metadata": {},
   "outputs": [],
   "source": [
    "sigma2_V_closed = (file_closed_T['sigma2'] + file_closed_T['sigma2'].shift(y=-1)) / 2\n",
    "sigma2_V_closed.loc[{'y': sigma2_V_closed.y.max()}] = file_closed_T['sigma2'].sel(y=sigma2_V_closed.y.max())\n",
    "\n",
    "sigma2_V_open = (file_open_T['sigma2'] + file_open_T['sigma2'].shift(y=-1)) / 2\n",
    "sigma2_V_open.loc[{'y': sigma2_V_open.y.max()}] = file_open_T['sigma2'].sel(y=sigma2_V_open.y.max())"
   ]
  },
  {
   "cell_type": "code",
   "execution_count": null,
   "id": "aa6cf906-72ef-438a-8174-fa5ce544e63c",
   "metadata": {},
   "outputs": [],
   "source": [
    "vtra_closed = file_closed_V['vocetr_eff']\n",
    "sigma2_V_closed = sigma2_V_closed.rename({'deptht': 'depthv'}).where(np.isfinite(vtra_closed))\n",
    "\n",
    "vtra_open = file_open_V['vocetr_eff']\n",
    "sigma2_V_open = sigma2_V_open.rename({'deptht': 'depthv'}).where(np.isfinite(vtra_open))"
   ]
  },
  {
   "cell_type": "code",
   "execution_count": null,
   "id": "0a0f8189-5f6b-4d0c-9e0f-ce0ec2273b47",
   "metadata": {},
   "outputs": [],
   "source": [
    "print(sigma2_V_closed.max().load()) #37.80693871\n",
    "print(sigma2_V_closed.min().load()) #10.23064935"
   ]
  },
  {
   "cell_type": "code",
   "execution_count": null,
   "id": "c38f771f-9fb3-4a11-a3e0-b3a528ea0668",
   "metadata": {},
   "outputs": [],
   "source": [
    "print(sigma2_V_open.max().load()) #37.80702652\n",
    "print(sigma2_V_open.min().load()) #9.82776096"
   ]
  },
  {
   "cell_type": "code",
   "execution_count": null,
   "id": "f4c10757-1b3c-4120-aa6e-2898a57a11fb",
   "metadata": {},
   "outputs": [],
   "source": [
    "### Compute cell volume, depth, bathy"
   ]
  },
  {
   "cell_type": "code",
   "execution_count": null,
   "id": "08ae4cbf-b27f-4a7a-9057-f7f53567355e",
   "metadata": {},
   "outputs": [],
   "source": [
    "volu_closed = file_closed_V.e3v * file_closed_V.area\n",
    "volu_open = file_open_V.e3v * file_open_V.area\n"
   ]
  },
  {
   "cell_type": "code",
   "execution_count": null,
   "id": "938ce813-94fd-4873-9eca-6a58b4d20a35",
   "metadata": {},
   "outputs": [],
   "source": [
    "print((volu_closed.sum()/10).load()) #1.363346e+18\n",
    "print((volu_open.sum()/10).load()) #2.6498255e+18"
   ]
  },
  {
   "cell_type": "code",
   "execution_count": null,
   "id": "c0725b24-ca99-4415-8d69-461c418160b0",
   "metadata": {},
   "outputs": [],
   "source": [
    "e3v_closed = file_closed_V.e3v.where(np.isfinite(vtra_closed))\n",
    "e3v_open = file_open_V.e3v.where(np.isfinite(vtra_open))"
   ]
  },
  {
   "cell_type": "code",
   "execution_count": null,
   "id": "65f21fec-82c2-407f-ae99-741cb429e36a",
   "metadata": {},
   "outputs": [],
   "source": [
    "e3v_closed"
   ]
  },
  {
   "cell_type": "code",
   "execution_count": null,
   "id": "c9a9a229-a417-4827-b169-f6dc9e0c52e9",
   "metadata": {},
   "outputs": [],
   "source": [
    "depth_closed = xr.concat([xr.DataArray(data=np.zeros((len(e3v_closed.time_counter),len(e3v_closed.y),len(e3v_closed.x))), dims=['time_counter','y','x']).assign_coords(\n",
    "    {'time_counter': e3v_closed.time_counter, 'y': e3v_closed.y, 'x': e3v_closed.x, 'depthv': 0}),\n",
    "    e3v_closed.cumsum('depthv')], dim='depthv')\n",
    "depth_closed = depth_closed.where(np.isfinite(e3v_closed))\n",
    "\n",
    "depth_open = xr.concat([xr.DataArray(data=np.zeros((len(e3v_open.time_counter),len(e3v_open.y),len(e3v_open.x))), dims=['time_counter','y','x']).assign_coords(\n",
    "    {'time_counter': e3v_open.time_counter, 'y': e3v_open.y, 'x': e3v_open.x, 'depthv': 0}),\n",
    "    e3v_open.cumsum('depthv')], dim='depthv')\n",
    "depth_open = depth_open.where(np.isfinite(e3v_open))"
   ]
  },
  {
   "cell_type": "code",
   "execution_count": null,
   "id": "c6c70e89-1e0b-466f-a39f-aefcc5e92cd8",
   "metadata": {},
   "outputs": [],
   "source": [
    "depth_mid_closed = (depth_closed + depth_closed .shift(depthv=-1)) / 2\n",
    "depth_mid_open = (depth_open + depth_open .shift(depthv=-1)) / 2"
   ]
  },
  {
   "cell_type": "code",
   "execution_count": null,
   "id": "3e70957a-c57e-4622-901c-2f08b7416b49",
   "metadata": {},
   "outputs": [],
   "source": [
    "bathy_closed = depth_closed.isel(time_counter=9).max('depthv')\n",
    "bathy_open = depth_open.isel(time_counter=9).max('depthv')"
   ]
  },
  {
   "cell_type": "code",
   "execution_count": null,
   "id": "e300c0e9-e4dd-42b1-acbd-8a227f038ef9",
   "metadata": {},
   "outputs": [],
   "source": [
    "### double check on the open stuff => needs a mask I guess!\n",
    "\n",
    "bathy_open.plot()"
   ]
  },
  {
   "cell_type": "code",
   "execution_count": null,
   "id": "c3fedbc4-78ff-4640-86e4-e9f196168700",
   "metadata": {},
   "outputs": [],
   "source": [
    "bathy = np.isfinite(depth_closed)"
   ]
  },
  {
   "cell_type": "code",
   "execution_count": null,
   "id": "80a53902-3928-42f2-a661-0aa136899d96",
   "metadata": {},
   "outputs": [],
   "source": [
    "depth_open.isel(time_counter=0,y=100,x=100).load()"
   ]
  },
  {
   "cell_type": "code",
   "execution_count": null,
   "id": "f29de2f9-d4d2-4859-8762-ccf43759b484",
   "metadata": {},
   "outputs": [],
   "source": [
    "print((volu_closed.sum()/10).load()) #1.363346e+18\n",
    "print((volu_open.sum()/10).load()) #2.6498255e+18"
   ]
  },
  {
   "cell_type": "code",
   "execution_count": null,
   "id": "5737bf69-30f1-4b32-8459-0d425b9ff96a",
   "metadata": {},
   "outputs": [],
   "source": [
    "file_open_V_mean10['vocetr_eff'].sum('x').plot()"
   ]
  },
  {
   "cell_type": "code",
   "execution_count": null,
   "id": "209a5e49-81f5-4486-9f1d-d5d440599167",
   "metadata": {},
   "outputs": [],
   "source": [
    "v_atlsum_open = file_open_V_mean10['vocetr_eff'].where(np.isfinite(ocean_masks['global'])).sum('x') / 10**6\n",
    "v_atlsum_closed = file_closed_V_mean10['vocetr_eff'].where(np.isfinite(ocean_masks['global'])).sum('x') / 10**6"
   ]
  },
  {
   "cell_type": "code",
   "execution_count": null,
   "id": "4189ccda-ff10-476e-aab6-7a4d9ea25177",
   "metadata": {},
   "outputs": [],
   "source": [
    "v_atlsum_open_rev = v_atlsum_open.sel(depthv=v_atlsum_open.depthv[::-1])\n",
    "v_atlsum_closed_rev = v_atlsum_closed.sel(depthv=v_atlsum_closed.depthv[::-1])"
   ]
  },
  {
   "cell_type": "code",
   "execution_count": null,
   "id": "51d1e369-f539-4bad-ae0b-17d847b55996",
   "metadata": {},
   "outputs": [],
   "source": [
    "v_atlsum_closed_rev.plot()"
   ]
  },
  {
   "cell_type": "code",
   "execution_count": null,
   "id": "b14048ca-560e-4a94-a7bd-c020ec7b8cb1",
   "metadata": {},
   "outputs": [],
   "source": [
    "streamf_atl_open = v_atlsum_open.sel(depthv=v_atlsum_open.depthv[::-1]).cumsum('depthv')\n",
    "streamf_atl_closed = v_atlsum_closed.sel(depthv=v_atlsum_closed.depthv[::-1]).cumsum('depthv')"
   ]
  },
  {
   "cell_type": "code",
   "execution_count": null,
   "id": "1b23f50d-2cb8-4bee-acc0-4fe820606945",
   "metadata": {},
   "outputs": [],
   "source": [
    "streamf_atl_closed.plot()"
   ]
  },
  {
   "cell_type": "code",
   "execution_count": null,
   "id": "01ad33ec-1347-4aee-b2e8-d9d022f2d0f5",
   "metadata": {},
   "outputs": [],
   "source": [
    "streamf_atl_closed.plot(vmax=20)"
   ]
  },
  {
   "cell_type": "code",
   "execution_count": null,
   "id": "76e507f2-2e49-41fe-9703-91942151c1aa",
   "metadata": {},
   "outputs": [],
   "source": [
    "streamf_atl_open_rev = v_atlsum_open_rev.cumsum('depthv')\n",
    "streamf_atl_closed_rev = v_atlsum_closed_rev.cumsum('depthv').assign_coords({'depthv': -1*v_atlsum_closed_rev.depthv})\n"
   ]
  },
  {
   "cell_type": "code",
   "execution_count": null,
   "id": "1d80632d-ad41-4e3f-9195-120b467fac21",
   "metadata": {},
   "outputs": [],
   "source": [
    "plt.figure()\n",
    "streamf_atl_closed_rev.plot(vmax=20)"
   ]
  },
  {
   "cell_type": "code",
   "execution_count": null,
   "id": "b42f0d27-e891-461d-9b40-d14fe39a8181",
   "metadata": {},
   "outputs": [],
   "source": [
    "streamf_atl_open.plot()"
   ]
  },
  {
   "cell_type": "code",
   "execution_count": null,
   "id": "4036fc61-bb67-4cfe-a25a-b252dee52fa9",
   "metadata": {},
   "outputs": [],
   "source": [
    "file_open_V_mean10['vocetr_eff'].where(np.isfinite(ocean_masks['atlantic'])).isel(depthv=0).plot()"
   ]
  },
  {
   "cell_type": "code",
   "execution_count": null,
   "id": "a2d8db11-4fe0-4f60-97e8-dc0ecde60009",
   "metadata": {},
   "outputs": [],
   "source": [
    "v_atlsum_open.plot()"
   ]
  },
  {
   "cell_type": "code",
   "execution_count": null,
   "id": "a8c88f6c-c57e-486d-953c-116fafc2ceb1",
   "metadata": {},
   "outputs": [],
   "source": [
    "v_atlsum_open.cumsum('depthv').plot()"
   ]
  },
  {
   "cell_type": "code",
   "execution_count": null,
   "id": "34bbcc80-6639-4127-8cf6-74d353c90804",
   "metadata": {},
   "outputs": [],
   "source": [
    "plt.figure()\n",
    "v_atlsum_open_rev.cumsum('depthv').plot()"
   ]
  }
 ],
 "metadata": {
  "kernelspec": {
   "display_name": "py38",
   "language": "python",
   "name": "py38"
  },
  "language_info": {
   "codemirror_mode": {
    "name": "ipython",
    "version": 3
   },
   "file_extension": ".py",
   "mimetype": "text/x-python",
   "name": "python",
   "nbconvert_exporter": "python",
   "pygments_lexer": "ipython3",
   "version": "3.8.18"
  }
 },
 "nbformat": 4,
 "nbformat_minor": 5
}
