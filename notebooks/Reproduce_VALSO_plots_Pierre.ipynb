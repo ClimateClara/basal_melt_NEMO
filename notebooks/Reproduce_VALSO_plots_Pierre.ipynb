{
 "cells": [
  {
   "cell_type": "code",
   "execution_count": null,
   "id": "0d1d63f5-4aa0-4a0f-9099-d768f7923d10",
   "metadata": {},
   "outputs": [],
   "source": [
    "\"\"\"\n",
    "Created on Thu Jan 16 14:55 2023\n",
    "\n",
    "Trying to do overview plots like Pierre\n",
    "\n",
    "Author: @claraburgard\n",
    "\"\"\""
   ]
  },
  {
   "cell_type": "code",
   "execution_count": 1,
   "id": "ff120c24-66b8-4552-a25c-4709d5935b45",
   "metadata": {},
   "outputs": [],
   "source": [
    "import xarray as xr\n",
    "import numpy as np\n",
    "\n",
    "import matplotlib.pyplot as plt\n",
    "import matplotlib as mpl\n",
    "import cmocean\n",
    "\n",
    "import cartopy.crs as ccrs\n",
    "import cartopy.feature\n",
    "from cartopy.util import add_cyclic_point\n",
    "import seaborn as sns\n",
    "\n",
    "from basal_melt_NEMO.constants import *\n",
    "import basal_melt_NEMO.figure_functions as figf"
   ]
  },
  {
   "cell_type": "code",
   "execution_count": 2,
   "id": "23fdcde6-7460-419d-a430-26298e7ecf18",
   "metadata": {},
   "outputs": [],
   "source": [
    "sns.set_context('paper')"
   ]
  },
  {
   "cell_type": "code",
   "execution_count": 3,
   "id": "0ee91924-85f9-4a9e-9d2c-ae16df0276cf",
   "metadata": {},
   "outputs": [
    {
     "name": "stderr",
     "output_type": "stream",
     "text": [
      "QStandardPaths: error creating runtime directory '/run/user/2784' (Permission denied)\n"
     ]
    }
   ],
   "source": [
    "%matplotlib qt5"
   ]
  },
  {
   "cell_type": "markdown",
   "id": "bfdce31b-0f0a-4328-868d-8ed49d375f47",
   "metadata": {},
   "source": [
    "READ IN DATA"
   ]
  },
  {
   "cell_type": "code",
   "execution_count": 4,
   "id": "41e2ef0a-5667-45b5-bb3e-5d8ea3477628",
   "metadata": {},
   "outputs": [],
   "source": [
    "inputpath_closed='/data/cdelaver/n42tm21/'\n",
    "inputpath_open='/data/cdelaver/n42openc/'\n",
    "clara_path='/data/cburgard/CASIMIR_SIMU/interim/CDO_PROCESSED/'"
   ]
  },
  {
   "cell_type": "code",
   "execution_count": 5,
   "id": "56756de3-984d-4418-8614-97a8a54098b0",
   "metadata": {},
   "outputs": [],
   "source": [
    "T_grid_vars_closed_mean10 = xr.open_dataset(inputpath_closed + 'n42tm21_00910101_01001231_1Y_grid_T.nc').mean('time_counter')\n",
    "T_grid_vars_open_mean10 = xr.open_dataset(inputpath_open + 'n42openc_00910101_01001231_1Y_grid_T.nc').mean('time_counter')\n",
    "T_grid_vars_open_mean10 = T_grid_vars_open_mean10.where(T_grid_vars_open_mean10['so'] > 0)"
   ]
  },
  {
   "cell_type": "code",
   "execution_count": 13,
   "id": "0ef3eade-673a-4080-8a55-54906c73788c",
   "metadata": {},
   "outputs": [],
   "source": [
    "cellarea_closed = T_grid_vars_closed_mean10['area']\n",
    "cellarea_open = T_grid_vars_open_mean10['area']"
   ]
  },
  {
   "cell_type": "code",
   "execution_count": 6,
   "id": "7ca50efd-6893-4bc7-98e7-a57963a77f30",
   "metadata": {},
   "outputs": [],
   "source": [
    "var_list = ['global_temp','wed_gyre','ross_gyre','ACC',\n",
    "            'FRIS_melt','Ross_melt','LarsenC_melt','total_melt',\n",
    "            'mar_sie_arc','sep_sie_arc','feb_sie_ant','sep_sie_ant',\n",
    "            'salbot_WW','salbot_EW','salbot_WR','salbot_ER',\n",
    "            'theta_WW','theta_EW','theta_WR','theta_ER']"
   ]
  },
  {
   "cell_type": "code",
   "execution_count": 7,
   "id": "2000bd1c-6a3e-42a7-82ca-00f85d30d42a",
   "metadata": {},
   "outputs": [],
   "source": [
    "var_obs_mean = xr.DataArray(data=np.array([15.0, 56.0, 20.0, 136.7, \n",
    "               155.4, 47.7, 20.7, 1500,\n",
    "               15.3, 6.3, 3.3, 19.8, \n",
    "               34.9, np.nan, 35.0, np.nan, \n",
    "               np.nan, -1.95, -1.9, -1.7]), dims='var').assign_coords({'var': var_list})"
   ]
  },
  {
   "cell_type": "code",
   "execution_count": 8,
   "id": "8ae019b9-f22b-48ea-9103-cae1fe4fbc2c",
   "metadata": {},
   "outputs": [],
   "source": [
    "var_obs_std = xr.DataArray(data=np.array([0, 8.0, 5.0, 7.8, \n",
    "              45.0, 34.0, 67.0, 237,\n",
    "              1.0, 1.0, 0.5, 0.5, \n",
    "              0.0, np.nan, 0.0, np.nan,\n",
    "              np.nan, 0.2, 0.4, 0.4]), dims='var').assign_coords({'var': var_list})"
   ]
  },
  {
   "cell_type": "code",
   "execution_count": 9,
   "id": "8a974c34-2a67-4019-b64d-5c8374befd1c",
   "metadata": {},
   "outputs": [],
   "source": [
    "var_to_plot = xr.Dataset()\n",
    "\n",
    "### GLOBAL SST\n",
    "temp_open = xr.open_dataset(clara_path+'n42openc/n42openc_01-100_1Y_thetao_fldmean.nc').isel(deptht=0).squeeze()\n",
    "temp_closed = xr.open_dataset(clara_path+'n42tm21/n42tm21_01-100_1Y_thetao_fldmean.nc').isel(deptht=0).squeeze()\n",
    "var_to_plot['global_temp'] = xr.concat([temp_open['thetao'].assign_coords({'cav':'open'}),temp_closed['thetao'].assign_coords({'cav':'closed'})], dim='cav')\n",
    "\n",
    "### ACC\n",
    "u_open = xr.open_dataset(clara_path+'n42openc/n42openc_0-100_1Y_uo_vertsum.nc').squeeze()\n",
    "u_closed = xr.open_dataset(clara_path+'n42tm21/n42tm21_0-100_1Y_uo_vertsum.nc').squeeze()\n",
    "var_to_plot['ACC'] = xr.concat([u_open['uocetr_eff'].sel(x=220,y=range(79,107)).sum('y').assign_coords({'cav':'open'}),\n",
    "                                u_closed['uocetr_eff'].sel(x=220,y=range(79,107)).sum('y').assign_coords({'cav':'closed'})], dim='cav')"
   ]
  },
  {
   "cell_type": "code",
   "execution_count": 10,
   "id": "2f3201c6-6e88-496b-8a76-2820b6a0ae3e",
   "metadata": {},
   "outputs": [],
   "source": [
    "### Iceshelf melt\n",
    "#T_grid_vars_closed = xr.open_dataset(clara_path + 'n42tm21_00910101_01001231_1Y_grid_T.nc')\n",
    "T_grid_vars_open = xr.open_dataset(clara_path + 'n42openc/n42openc_0-100_1Y_grid_isfvars.nc')\n",
    "#T_grid_vars_open = T_grid_vars_open.where(T_grid_vars_open['so'] > 0)\n",
    "\n",
    "lon = T_grid_vars_open.nav_lon\n",
    "lat = T_grid_vars_open.nav_lat\n",
    "\n",
    "mask_FRIS = (lon <= -30) & (lon >= -80.) & (lat >= -84.) & (lat <= -74.)\n",
    "mask_Ross = ((lon <= -120) | (lon >= 150)) & (lat >= -87.) & (lat <= -65.)\n",
    "mask_LarsenC = (lon <= -58) & (lon >= -66) & (lat >= -71.) & (lat <= -64.)"
   ]
  },
  {
   "cell_type": "code",
   "execution_count": 11,
   "id": "95429f13-9105-4c42-a34d-54ffe26fdd51",
   "metadata": {},
   "outputs": [],
   "source": [
    "melt_all = (T_grid_vars_open['iceshelf_cav'] * T_grid_vars_open_mean10['area'].max('deptht') * yearinsec *10**(-12))\n",
    "FRIS_melt= melt_all.where(mask_FRIS).sum(['x','y'])\n",
    "Ross_melt = melt_all.where(mask_Ross).sum(['x','y'])\n",
    "LarsenC_melt = melt_all.where(mask_LarsenC).sum(['x','y'])\n",
    "\n",
    "var_to_plot['FRIS_melt'] = xr.concat([FRIS_melt.assign_coords({'cav':'open'}), FRIS_melt.assign_coords({'cav':'closed'}) * np.nan], dim='cav')\n",
    "var_to_plot['Ross_melt'] = xr.concat([Ross_melt.assign_coords({'cav':'open'}), Ross_melt.assign_coords({'cav':'closed'}) * np.nan], dim='cav')\n",
    "var_to_plot['LarsenC_melt'] = xr.concat([LarsenC_melt.assign_coords({'cav':'open'}), LarsenC_melt.assign_coords({'cav':'closed'}) * np.nan], dim='cav')\n",
    "\n",
    "var_to_plot['total_melt'] = var_to_plot['FRIS_melt'] + var_to_plot['Ross_melt'] + var_to_plot['LarsenC_melt'] + (T_grid_vars_open['iceshelf'] * T_grid_vars_open_mean10['area'].isel(deptht=0) * yearinsec * 10**(-12)).sum(['x','y'])\n"
   ]
  },
  {
   "cell_type": "code",
   "execution_count": 12,
   "id": "ada36616-a656-4a21-a124-d5afd53f5f77",
   "metadata": {},
   "outputs": [],
   "source": [
    "### Sea ice\n",
    "si_Ant_open = xr.open_dataset(clara_path+'n42openc/n42openc_01-100_1M_icemod_Ant_SIEmask.nc')\n",
    "si_Ant_closed = xr.open_dataset(clara_path+'n42tm21/n42tm21_01-100_1M_icemod_Ant_SIEmask.nc')\n",
    "\n",
    "si_Arc_open = xr.open_dataset(clara_path+'n42openc/n42openc_01-100_1M_icemod_Arc_SIEmask.nc')\n",
    "si_Arc_closed = xr.open_dataset(clara_path+'n42tm21/n42tm21_01-100_1M_icemod_Arc_SIEmask.nc')\n"
   ]
  },
  {
   "cell_type": "code",
   "execution_count": 43,
   "id": "8b158eb8-d701-42f5-be86-bec959bb86ef",
   "metadata": {},
   "outputs": [],
   "source": [
    "cellarea_Ant_closed = cellarea_closed.sel(x=si_Ant_closed.x, y=si_Ant_closed.y)\n",
    "cellarea_Arc_closed = cellarea_closed.sel(x=si_Arc_closed.x, y=si_Arc_closed.y)\n",
    "cellarea_Ant_open = cellarea_open.sel(x=si_Ant_open.x, y=si_Ant_open.y)\n",
    "cellarea_Arc_open = cellarea_open.sel(x=si_Arc_open.x, y=si_Arc_open.y)\n"
   ]
  },
  {
   "cell_type": "code",
   "execution_count": null,
   "id": "7d3fc437-8a5b-486c-871e-6eda59727d47",
   "metadata": {},
   "outputs": [],
   "source": [
    "sie_Ant_open = (si_Ant_open['siconc'] * cellarea_Ant_open).sum(['x','y'])\n",
    "sie_Ant_closed = (si_Ant_closed['siconc'] * cellarea_Ant_closed).sum(['x','y'])\n",
    "sie_Arc_open = (si_Arc_open['siconc'] * cellarea_Arc_open).sum(['x','y'])\n",
    "sie_Arc_closed = (si_Arc_closed['siconc'] * cellarea_Arc_closed).sum(['x','y'])\n"
   ]
  },
  {
   "cell_type": "code",
   "execution_count": 20,
   "id": "44e4d358-a11d-46ed-a8c8-5ff964d7301c",
   "metadata": {},
   "outputs": [],
   "source": [
    "var_to_plot['mar_sie_arc'] = xr.concat([sie_Arc_open.where(sie_Arc_open['time_counter.month'] == 3, drop=True).squeeze().assign_coords({'cav':'open'}),\n",
    "                                        sie_Arc_closed.where(sie_Arc_closed['time_counter.month'] == 3, drop=True).squeeze().assign_coords({'cav':'closed'})], dim='cav')\n",
    "var_to_plot['sep_sie_ant'] = xr.concat([sie_Ant_open.where(sie_Ant_open['time_counter.month'] == 9, drop=True).squeeze().assign_coords({'cav':'open'}),\n",
    "                                        sie_Ant_closed.where(sie_Ant_closed['time_counter.month'] == 9, drop=True).squeeze().assign_coords({'cav':'closed'})], dim='cav')\n",
    "var_to_plot['sep_sie_arc'] = xr.concat([sie_Arc_open.where(sie_Arc_open['time_counter.month'] == 9, drop=True).squeeze().assign_coords({'cav':'open'}),\n",
    "                                        sie_Arc_closed.where(sie_Arc_closed['time_counter.month'] == 9, drop=True).squeeze().assign_coords({'cav':'closed'})], dim='cav')\n",
    "var_to_plot['feb_sie_ant'] = xr.concat([sie_Ant_open.where(sie_Ant_open['time_counter.month'] == 2, drop=True).squeeze().assign_coords({'cav':'open'}),\n",
    "                                        sie_Ant_closed.where(sie_Ant_closed['time_counter.month'] == 2, drop=True).squeeze().assign_coords({'cav':'closed'})], dim='cav')\n",
    "\n",
    "\n",
    "    \n",
    "#'mar_sie_arc','sep_sie_arc','feb_sie_ant','sep_sie_ant'"
   ]
  },
  {
   "cell_type": "code",
   "execution_count": 27,
   "id": "552a3c3c-6c57-4995-a9d8-23a8d3d137b8",
   "metadata": {},
   "outputs": [
    {
     "data": {
      "text/plain": [
       "<matplotlib.collections.QuadMesh at 0x14cb077ad130>"
      ]
     },
     "execution_count": 27,
     "metadata": {},
     "output_type": "execute_result"
    }
   ],
   "source": [
    "si_Arc_closed['cell_area'].plot()"
   ]
  },
  {
   "cell_type": "code",
   "execution_count": null,
   "id": "a89dccf1-8fd5-4a98-b6df-133aa0c5ddfa",
   "metadata": {},
   "outputs": [],
   "source": [
    "sie_Arc_open['siconc'].where(sie_Arc_open['time_counter.month'] == 3, drop=True).squeeze()"
   ]
  },
  {
   "cell_type": "code",
   "execution_count": null,
   "id": "1725323f-c80c-4356-aa09-42af75d48704",
   "metadata": {},
   "outputs": [],
   "source": [
    "var_to_plot['total_melt']"
   ]
  },
  {
   "cell_type": "code",
   "execution_count": null,
   "id": "09d7d5d1-b4dd-4413-9c1b-a273ca220c43",
   "metadata": {},
   "outputs": [],
   "source": [
    "SIE_Arc_03_open = sie_Arc_open['siconc'].where(sie_Arc_open['time_counter.month'] == 3, drop=True).squeeze()\n",
    "SIE_Arc_03_open['time_counter'] = np.arange(len(SIE_Arc_03_open.time_counter))\n",
    "SIE_Arc_03_open"
   ]
  },
  {
   "cell_type": "code",
   "execution_count": null,
   "id": "86888838-e6d8-4d51-b1df-cf7adb7a1ab8",
   "metadata": {},
   "outputs": [],
   "source": [
    "SIE_Arc_03_open.plot()"
   ]
  },
  {
   "cell_type": "code",
   "execution_count": null,
   "id": "47914bec-9b61-427d-9ce5-d57ad1bd26c8",
   "metadata": {},
   "outputs": [],
   "source": [
    "f = plt.figure()\n",
    "f.set_size_inches(8.25*5, 8.25*5)\n",
    "\n",
    "ax={}\n",
    "\n",
    "leg_hdl = []\n",
    "\n",
    "i = 0\n",
    "\n",
    "\n",
    "for vv in var_list:\n",
    "    \n",
    "    ax[i] = f.add_subplot(5,5,i+1)\n",
    "\n",
    "    if vv in list(var_to_plot.keys()):\n",
    "        ax[i].plot(var_to_plot[vv].sel(cav='open'), color='deepskyblue')\n",
    "        ax[i].plot(var_to_plot[vv].sel(cav='closed'), color='royalblue')\n",
    "    \n",
    "    ax[i].axhline(y=var_obs_mean.sel(var=vv), color='black', linewidth=2)\n",
    "    ax[i].fill_between(x=np.arange(0,100),y1=var_obs_mean.sel(var=vv)-var_obs_std.sel(var=vv), y2=var_obs_mean.sel(var=vv)+var_obs_std.sel(var=vv), color='grey',alpha=0.2)\n",
    "\n",
    "    ax[i].set_title(vv)\n",
    "\n",
    "    i = i+1\n",
    "#f.legend()\n",
    "#f.subplots_adjust(bottom=0.05, wspace=0.1)\n",
    "\n",
    "f.tight_layout()\n",
    "sns.despine()\n"
   ]
  },
  {
   "cell_type": "code",
   "execution_count": null,
   "id": "2c2796bd-7c87-4828-b118-88267eb9086e",
   "metadata": {},
   "outputs": [],
   "source": []
  }
 ],
 "metadata": {
  "kernelspec": {
   "display_name": "py38",
   "language": "python",
   "name": "py38"
  },
  "language_info": {
   "codemirror_mode": {
    "name": "ipython",
    "version": 3
   },
   "file_extension": ".py",
   "mimetype": "text/x-python",
   "name": "python",
   "nbconvert_exporter": "python",
   "pygments_lexer": "ipython3",
   "version": "3.8.18"
  }
 },
 "nbformat": 4,
 "nbformat_minor": 5
}
