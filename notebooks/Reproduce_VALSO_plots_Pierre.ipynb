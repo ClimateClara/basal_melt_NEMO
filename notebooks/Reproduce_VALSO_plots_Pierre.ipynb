{
 "cells": [
  {
   "cell_type": "code",
   "execution_count": null,
   "id": "0d1d63f5-4aa0-4a0f-9099-d768f7923d10",
   "metadata": {},
   "outputs": [],
   "source": [
    "\"\"\"\n",
    "Created on Thu Jan 16 14:55 2023\n",
    "\n",
    "Trying to do overview plots like Pierre\n",
    "\n",
    "Author: @claraburgard\n",
    "\"\"\""
   ]
  },
  {
   "cell_type": "code",
   "execution_count": 1,
   "id": "ff120c24-66b8-4552-a25c-4709d5935b45",
   "metadata": {},
   "outputs": [],
   "source": [
    "import xarray as xr\n",
    "import numpy as np\n",
    "\n",
    "import matplotlib.pyplot as plt\n",
    "import matplotlib as mpl\n",
    "import cmocean\n",
    "\n",
    "import cartopy.crs as ccrs\n",
    "import cartopy.feature\n",
    "from cartopy.util import add_cyclic_point\n",
    "import seaborn as sns\n",
    "\n",
    "from basal_melt_NEMO.constants import *\n",
    "import basal_melt_NEMO.figure_functions as figf"
   ]
  },
  {
   "cell_type": "code",
   "execution_count": 2,
   "id": "23fdcde6-7460-419d-a430-26298e7ecf18",
   "metadata": {},
   "outputs": [],
   "source": [
    "sns.set_context('paper')"
   ]
  },
  {
   "cell_type": "code",
   "execution_count": 21,
   "id": "0ee91924-85f9-4a9e-9d2c-ae16df0276cf",
   "metadata": {},
   "outputs": [
    {
     "name": "stderr",
     "output_type": "stream",
     "text": [
      "QStandardPaths: error creating runtime directory '/run/user/2784' (Permission denied)\n"
     ]
    }
   ],
   "source": [
    "%matplotlib qt5"
   ]
  },
  {
   "cell_type": "markdown",
   "id": "bfdce31b-0f0a-4328-868d-8ed49d375f47",
   "metadata": {},
   "source": [
    "READ IN DATA"
   ]
  },
  {
   "cell_type": "code",
   "execution_count": 3,
   "id": "41e2ef0a-5667-45b5-bb3e-5d8ea3477628",
   "metadata": {},
   "outputs": [],
   "source": [
    "inputpath_closed='/data/cdelaver/n42tm21/'\n",
    "inputpath_open='/data/cdelaver/n42openc/'\n",
    "clara_path='/data/cburgard/CASIMIR_SIMU/interim/CDO_PROCESSED/'"
   ]
  },
  {
   "cell_type": "code",
   "execution_count": 4,
   "id": "56756de3-984d-4418-8614-97a8a54098b0",
   "metadata": {},
   "outputs": [],
   "source": [
    "T_grid_vars_closed = xr.open_dataset(inputpath_closed + 'n42tm21_00910101_01001231_1Y_grid_T.nc').mean('time_counter')\n",
    "T_grid_vars_open = xr.open_dataset(inputpath_open + 'n42openc_00910101_01001231_1Y_grid_T.nc').mean('time_counter')\n",
    "T_grid_vars_open = T_grid_vars_open.where(T_grid_vars_open['so'] > 0)"
   ]
  },
  {
   "cell_type": "code",
   "execution_count": 5,
   "id": "7ca50efd-6893-4bc7-98e7-a57963a77f30",
   "metadata": {},
   "outputs": [],
   "source": [
    "var_list = ['global_temp','wed_gyre','ross_gyre','ACC',\n",
    "            'FRIS_melt','Ross_melt','LarsenC_melt','total_melt',\n",
    "            'mar_sie_arc','sep_sie_arc','feb_sie_ant','sep_sie_ant',\n",
    "            'salbot_WW','salbot_EW','salbot_WR','salbot_ER',\n",
    "            'theta_WW','theta_EW','theta_WR','theta_ER']"
   ]
  },
  {
   "cell_type": "code",
   "execution_count": 17,
   "id": "2000bd1c-6a3e-42a7-82ca-00f85d30d42a",
   "metadata": {},
   "outputs": [],
   "source": [
    "var_obs_mean = xr.DataArray(data=np.array([15.0, 56.0, 20.0, 136.7, \n",
    "               155.4, 47.7, 20.7, 155.4 + 47.7 + 20.7,\n",
    "               15.3, 6.3, 3.3, 19.8, \n",
    "               34.9, np.nan, 35.0, np.nan, \n",
    "               np.nan, -1.95, -1.9, -1.7]), dims='var').assign_coords({'var': var_list})"
   ]
  },
  {
   "cell_type": "code",
   "execution_count": 18,
   "id": "8ae019b9-f22b-48ea-9103-cae1fe4fbc2c",
   "metadata": {},
   "outputs": [],
   "source": [
    "var_obs_std = xr.DataArray(data=np.array([0, 8.0, 5.0, 7.8, \n",
    "              45.0, 34.0, 67.0, 67.0,\n",
    "              1.0, 1.0, 0.5, 0.5, \n",
    "              0.0, np.nan, 0.0, np.nan,\n",
    "              np.nan, 0.2, 0.4, 0.4]), dims='var').assign_coords({'var': var_list})"
   ]
  },
  {
   "cell_type": "code",
   "execution_count": 24,
   "id": "c0c8f5b5-286d-42e9-89c9-0e5ae6e41e06",
   "metadata": {},
   "outputs": [],
   "source": [
    "u_open = xr.open_dataset(clara_path+'n42openc/n42openc_0-100_1Y_uo_vertsum.nc')"
   ]
  },
  {
   "cell_type": "code",
   "execution_count": 28,
   "id": "99000db5-7c6d-4cc3-ba82-5bc3e6afffe6",
   "metadata": {},
   "outputs": [
    {
     "data": {
      "text/plain": [
       "<matplotlib.collections.QuadMesh at 0x14616dccabb0>"
      ]
     },
     "execution_count": 28,
     "metadata": {},
     "output_type": "execute_result"
    }
   ],
   "source": [
    "u_open['uocetr_eff'].isel(time_counter=0) # TO BE CONTINUED HERE!!!!! (think about how to define the region, ideally with x and y)"
   ]
  },
  {
   "cell_type": "code",
   "execution_count": 22,
   "id": "47914bec-9b61-427d-9ce5-d57ad1bd26c8",
   "metadata": {},
   "outputs": [
    {
     "name": "stderr",
     "output_type": "stream",
     "text": [
      "libGL error: No matching fbConfigs or visuals found\n",
      "libGL error: failed to load driver: swrast\n"
     ]
    }
   ],
   "source": [
    "f = plt.figure()\n",
    "f.set_size_inches(8.25*5, 8.25*5)\n",
    "\n",
    "ax={}\n",
    "\n",
    "leg_hdl = []\n",
    "\n",
    "i = 0\n",
    "\n",
    "\n",
    "for vv in var_list:\n",
    "    \n",
    "    ax[i] = f.add_subplot(5,5,i+1)\n",
    "\n",
    "    if vv == 'global_temp':\n",
    "        temp_open = xr.open_dataset(clara_path+'n42openc/n42openc_01-100_1Y_thetao_fldmean.nc').isel(deptht=0).squeeze()\n",
    "        temp_closed = xr.open_dataset(clara_path+'n42tm21/n42tm21_01-100_1Y_thetao_fldmean.nc').isel(deptht=0).squeeze()\n",
    "        ax[i].plot(temp_open['thetao'], color='deepskyblue')\n",
    "        ax[i].plot(temp_closed['thetao'], color='royalblue')\n",
    "\n",
    "    elif vv == 'ACC':\n",
    "        u_open = xr.open_dataset(clara_path+'n42openc/n42openc/n42openc_0-100_1Y_uo_vertsum.nc').isel(deptht=0).squeeze()\n",
    "        u_closed = xr.open_dataset(clara_path+'n42tm21/n42tm21/n42tm21_0-100_1Y_uo_vertsum.nc').isel(deptht=0).squeeze()\n",
    "        ax[i].plot(temp_open['uocetr_eff'], color='deepskyblue')\n",
    "        ax[i].plot(temp_closed['uocetr_eff'], color='royalblue')\n",
    "    \n",
    "    ax[i].axhline(y=var_obs_mean.sel(var=vv), color='black', linewidth=2)\n",
    "    ax[i].fill_between(x=np.arange(0,100),y1=var_obs_mean.sel(var=vv)-var_obs_std.sel(var=vv), y2=var_obs_mean.sel(var=vv)+var_obs_std.sel(var=vv), color='grey',alpha=0.2)\n",
    "\n",
    "    ax[i].set_title(vv)\n",
    "\n",
    "    i = i+1\n",
    "#f.legend()\n",
    "#f.subplots_adjust(bottom=0.05, wspace=0.1)\n",
    "\n",
    "f.tight_layout()\n",
    "sns.despine()\n"
   ]
  },
  {
   "cell_type": "code",
   "execution_count": null,
   "id": "2c2796bd-7c87-4828-b118-88267eb9086e",
   "metadata": {},
   "outputs": [],
   "source": []
  }
 ],
 "metadata": {
  "kernelspec": {
   "display_name": "py38",
   "language": "python",
   "name": "py38"
  },
  "language_info": {
   "codemirror_mode": {
    "name": "ipython",
    "version": 3
   },
   "file_extension": ".py",
   "mimetype": "text/x-python",
   "name": "python",
   "nbconvert_exporter": "python",
   "pygments_lexer": "ipython3",
   "version": "3.8.18"
  }
 },
 "nbformat": 4,
 "nbformat_minor": 5
}
