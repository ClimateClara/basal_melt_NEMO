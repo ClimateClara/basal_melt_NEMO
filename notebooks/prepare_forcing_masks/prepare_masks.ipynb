{
 "cells": [
  {
   "cell_type": "code",
   "execution_count": null,
   "id": "94d2ba44-7ead-4250-97f2-4c7e34ecfcf1",
   "metadata": {},
   "outputs": [],
   "source": [
    "\"\"\"\n",
    "Prepare some masks for ORCA1\n",
    "\"\"\""
   ]
  },
  {
   "cell_type": "code",
   "execution_count": 94,
   "id": "ff2bf750-fb7f-419d-baff-0bff09f035a4",
   "metadata": {},
   "outputs": [],
   "source": [
    "import xarray as xr\n",
    "import matplotlib.pyplot as plt\n",
    "import numpy as np"
   ]
  },
  {
   "cell_type": "code",
   "execution_count": 15,
   "id": "09627545-4a1b-46d8-803f-4cd1f7b6298f",
   "metadata": {},
   "outputs": [
    {
     "name": "stderr",
     "output_type": "stream",
     "text": [
      "QStandardPaths: error creating runtime directory '/run/user/2784' (Permission denied)\n"
     ]
    }
   ],
   "source": [
    "%matplotlib qt5"
   ]
  },
  {
   "cell_type": "markdown",
   "id": "666e9cab-9561-459d-b481-48c1581ce680",
   "metadata": {},
   "source": [
    "READ IN DATA"
   ]
  },
  {
   "cell_type": "code",
   "execution_count": 2,
   "id": "a1fdecb2-39e2-4e93-8c0b-ddb19ed167ec",
   "metadata": {},
   "outputs": [],
   "source": [
    "inputpath = '/data/cburgard/PREPARE_FORCING/'"
   ]
  },
  {
   "cell_type": "code",
   "execution_count": 71,
   "id": "ed5b7c92-f3c8-4210-8df7-ee508db7b3c7",
   "metadata": {},
   "outputs": [],
   "source": [
    "data_bathy = xr.open_dataset(inputpath + 'eORCA1.4.2_ModifStraits_domain_ALLcav_KH.nc').squeeze()"
   ]
  },
  {
   "cell_type": "code",
   "execution_count": 70,
   "id": "f31a85a3-a5e3-40ef-bdde-12fe2cd864bf",
   "metadata": {},
   "outputs": [
    {
     "data": {
      "text/plain": [
       "<matplotlib.collections.QuadMesh at 0x14b94abcfa90>"
      ]
     },
     "execution_count": 70,
     "metadata": {},
     "output_type": "execute_result"
    }
   ],
   "source": [
    "data_bathy['bathymetry_isf'].squeeze().plot()"
   ]
  },
  {
   "cell_type": "code",
   "execution_count": 32,
   "id": "f76595ab-f5b9-45bf-b1b0-d03d327b4efe",
   "metadata": {},
   "outputs": [],
   "source": [
    "mask_on_NEMO_grid = xr.open_dataset(inputpath + 'Mask_Iceshelf_IMBIE_NEMO1.nc')\n",
    "mask_orig = xr.open_dataset(inputpath + 'Mask_Iceshelf_IMBIE.nc')"
   ]
  },
  {
   "cell_type": "code",
   "execution_count": 18,
   "id": "4a3a9668-65d3-454b-a057-95e98086a6ae",
   "metadata": {},
   "outputs": [],
   "source": [
    "isf_mask = mask_on_NEMO_grid['Iceshelf_extrap'].where(data_bathy['isf_draft'] > 0).squeeze()"
   ]
  },
  {
   "cell_type": "markdown",
   "id": "9c7db9cb-7366-4833-a798-6ac5ecdefb35",
   "metadata": {},
   "source": [
    "CHECK WHICH ICE SHELVES TO OPEN"
   ]
  },
  {
   "cell_type": "code",
   "execution_count": 64,
   "id": "79fa244c-bcb4-4e0e-9b45-2f9ae85884d9",
   "metadata": {},
   "outputs": [],
   "source": [
    "thres = 5\n",
    "isf_ok_list = []\n",
    "for kisf in range(1,134):\n",
    "    if (isf_mask == kisf).any():\n",
    "        kisf_mask = isf_mask.where(isf_mask == kisf, drop=True)\n",
    "\n",
    "        kisf_x = len(kisf_mask.x)\n",
    "        kisf_y = len(kisf_mask.y)\n",
    "        if (kisf_x >= thres) & (kisf_y >= thres): # this could be improved as it favors also ice shelves that \"turn\" like George VI\n",
    "            isf_ok_list.append(kisf)\n",
    "        "
   ]
  },
  {
   "cell_type": "code",
   "execution_count": 65,
   "id": "ec79491a-87d5-4fdc-8a24-02f844a4a0c1",
   "metadata": {},
   "outputs": [
    {
     "name": "stdout",
     "output_type": "stream",
     "text": [
      "2 Fimbul\n",
      "9 Baudouin\n",
      "21 Amery\n",
      "66 Ross_East\n",
      "67 Ross_West\n",
      "75 Sulzberger\n",
      "82 Getz\n",
      "99 George_VI\n",
      "109 Wilkins\n",
      "117 LarsenC\n",
      "124 Ronne\n",
      "125 Filchner\n",
      "127 Brunt_Stancomb\n",
      "128 Riiser-Larsen\n"
     ]
    }
   ],
   "source": [
    "for kisf in isf_ok_list: \n",
    "    print(kisf, mask_orig['NAME'].sel(ID=kisf).values)"
   ]
  },
  {
   "cell_type": "code",
   "execution_count": 66,
   "id": "a8b5162c-05d8-424e-84d0-b25e2c31bdbc",
   "metadata": {},
   "outputs": [],
   "source": [
    "for kisf in isf_ok_list: \n",
    "    plt.figure()\n",
    "    (isf_mask == kisf).plot()\n",
    "    plt.title(mask_orig['NAME'].sel(ID=kisf).values)\n"
   ]
  },
  {
   "cell_type": "markdown",
   "id": "75639d37-c168-483a-a3cd-4ed82cbf603d",
   "metadata": {},
   "source": [
    "MAKE A CLEAN MASK"
   ]
  },
  {
   "cell_type": "code",
   "execution_count": 83,
   "id": "91f14fc2-cfdb-49f4-a74e-9289f86fd2fc",
   "metadata": {},
   "outputs": [],
   "source": [
    "mask_0_1_2 = isf_mask * 2\n",
    "mask_0_1_2 = mask_0_1_2.where(data_bathy['bathymetry_isf'] != 0, 400) # land\n",
    "mask_0_1_2 = mask_0_1_2.where(data_bathy['bathymetry_isf'] == 0, 0) # ocean\n",
    "mask_0_1_2 = mask_0_1_2.where(data_bathy['isf_draft'] == 0, 200) # ice shelf"
   ]
  },
  {
   "cell_type": "code",
   "execution_count": 137,
   "id": "f81b4d44-5558-4824-9930-55176d2d7c4a",
   "metadata": {},
   "outputs": [],
   "source": [
    "# mask putting the small ice shelves to land\n",
    "mask_open = isf_mask.copy()\n",
    "mask_0_1_2_corr = mask_0_1_2.copy()\n",
    "\n",
    "for kisf in range(1,134):\n",
    "    if kisf not in isf_ok_list:\n",
    "        mask_open = mask_open.where(isf_mask != kisf, np.nan)\n",
    "        mask_0_1_2_corr = mask_0_1_2_corr.where(isf_mask != kisf, 400)"
   ]
  },
  {
   "cell_type": "markdown",
   "id": "d6d71f56-70d6-4333-b58d-88290aec98de",
   "metadata": {},
   "source": [
    "DEFINE THE ZONE AT THE ICE SHELF FRONT"
   ]
  },
  {
   "cell_type": "code",
   "execution_count": 138,
   "id": "26810b43-4f44-487e-b868-f8792aa4bd8c",
   "metadata": {},
   "outputs": [],
   "source": [
    "mask_open2 = isf_mask.copy()\n",
    "mask_0_1_2_corr2 = mask_0_1_2.copy()\n",
    "\n",
    "for kisf in range(1,134):\n",
    "    if kisf in isf_ok_list:\n",
    "        mask_open2 = mask_open2.where(isf_mask != kisf, np.nan)\n",
    "        mask_0_1_2_corr2 = mask_0_1_2_corr2.where(isf_mask != kisf, 400)"
   ]
  },
  {
   "cell_type": "code",
   "execution_count": 139,
   "id": "464d765a-5520-4f0a-b905-c78ac86919f2",
   "metadata": {},
   "outputs": [],
   "source": [
    "is_mask0 = mask_open.where(np.isnan(mask_open)==False,0)\n",
    "# set all ice shelves to 3\n",
    "mask_front = mask_0_1_2_corr2.where((mask_0_1_2_corr2 == 0) | (mask_0_1_2_corr2 == 400), 300).copy()"
   ]
  },
  {
   "cell_type": "code",
   "execution_count": 140,
   "id": "ae93b804-9f61-45dd-af9d-0c6ab4e435c5",
   "metadata": {},
   "outputs": [],
   "source": [
    "# check all directions and set points at border between ocean and ice shelf (300-0) to 500\n",
    "mask_front = mask_front.where((mask_front.shift(x=-1)-mask_front)!=300,500)\n",
    "mask_front = mask_front.where((mask_front.shift(x=1)-mask_front)!=300,500)\n",
    "mask_front = mask_front.where((mask_front.shift(y=-1)-mask_front)!=300,500)\n",
    "mask_front = mask_front.where((mask_front.shift(y=1)-mask_front)!=300,500)\n",
    "# cut out all front points\n",
    "mask_front = mask_front.where(mask_front==500)\n",
    "# set the ice shelf number\n",
    "mask_front = mask_front.where(mask_front!=500,mask_on_NEMO_grid['Iceshelf_extrap'])"
   ]
  },
  {
   "cell_type": "code",
   "execution_count": 135,
   "id": "62a24534-7a90-4329-bfc7-4458973cbb4e",
   "metadata": {},
   "outputs": [
    {
     "name": "stdout",
     "output_type": "stream",
     "text": [
      "1 Jelbart\n",
      "4 Vigrid\n",
      "5 Nivl\n",
      "7 Lazarev\n",
      "8 Borchgrevink\n",
      "11 Prince_Harald\n",
      "24 West\n",
      "26 Shackleton\n",
      "27 Tracy_Tremenchus\n",
      "29 Conger_Glenzer\n",
      "33 Totten\n",
      "43 Mertz\n",
      "47 Cook\n",
      "53 Rennick\n",
      "59 Mariner\n",
      "63 Nansen\n",
      "64 Drygalski\n",
      "77 Nickerson\n",
      "83 Dotson/Philbin_Inlet\n",
      "85 Thwaites\n",
      "86 Pine_Island\n"
     ]
    },
    {
     "name": "stderr",
     "output_type": "stream",
     "text": [
      "/tmp/ipykernel_4043461/1867761176.py:6: RuntimeWarning: More than 20 figures have been opened. Figures created through the pyplot interface (`matplotlib.pyplot.figure`) are retained until explicitly closed and may consume too much memory. (To control this warning, see the rcParam `figure.max_open_warning`). Consider using `matplotlib.pyplot.close()`.\n",
      "  plt.figure()\n"
     ]
    },
    {
     "name": "stdout",
     "output_type": "stream",
     "text": [
      "87 Walgreen_Coast\n",
      "88 Cosgrove\n",
      "90 Abbot\n",
      "92 Venable\n",
      "98 Stange\n",
      "101 Bach\n",
      "116 LarsenB\n",
      "118 LarsenD\n",
      "130 Quar\n",
      "132 Ekstrom\n",
      "133 Atka\n"
     ]
    }
   ],
   "source": [
    "for kisf in range(1,134):\n",
    "    if kisf not in isf_ok_list:\n",
    "        if ((isf_mask == kisf).any()) & (kisf != 105):\n",
    "            print(kisf, mask_orig['NAME'].sel(ID=kisf).values)\n",
    "            all_mask = ((isf_mask == kisf).astype(int)*2) + ((mask_front == kisf).astype(int)*1)\n",
    "            plt.figure()\n",
    "            all_mask.where(all_mask > 0, drop=True).plot() "
   ]
  },
  {
   "cell_type": "code",
   "execution_count": null,
   "id": "b1a3d231-a1d0-4717-972f-9de553b4765b",
   "metadata": {},
   "outputs": [],
   "source": [
    "plt.close('all')"
   ]
  },
  {
   "cell_type": "markdown",
   "id": "4d07ef0f-7c3f-4b61-bd38-23953334a0b3",
   "metadata": {},
   "source": [
    "PUT IN ONE NETCDF"
   ]
  },
  {
   "cell_type": "code",
   "execution_count": 141,
   "id": "32f9915c-650b-4412-bc20-072a5b96c0aa",
   "metadata": {},
   "outputs": [],
   "source": [
    "final_ds = xr.merge([mask_0_1_2_corr.rename('mask_0_200_400'),\n",
    "             mask_open.rename('open_isf'),\n",
    "             mask_front.rename('front_closed_isf'),\n",
    "             mask_orig['NAME']])"
   ]
  },
  {
   "cell_type": "code",
   "execution_count": null,
   "id": "fd6091df-726b-455b-9438-b16e86aab440",
   "metadata": {},
   "outputs": [],
   "source": [
    "final_ds.to_dataset(to_be_filled)"
   ]
  }
 ],
 "metadata": {
  "kernelspec": {
   "display_name": "py38",
   "language": "python",
   "name": "py38"
  },
  "language_info": {
   "codemirror_mode": {
    "name": "ipython",
    "version": 3
   },
   "file_extension": ".py",
   "mimetype": "text/x-python",
   "name": "python",
   "nbconvert_exporter": "python",
   "pygments_lexer": "ipython3",
   "version": "3.8.18"
  }
 },
 "nbformat": 4,
 "nbformat_minor": 5
}
