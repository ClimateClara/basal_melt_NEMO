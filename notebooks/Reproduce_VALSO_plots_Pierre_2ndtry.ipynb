{
 "cells": [
  {
   "cell_type": "code",
   "execution_count": null,
   "id": "0d1d63f5-4aa0-4a0f-9099-d768f7923d10",
   "metadata": {},
   "outputs": [],
   "source": [
    "\"\"\"\n",
    "Created on Thu Jan 16 14:55 2023\n",
    "\n",
    "Trying to do overview plots like Pierre\n",
    "\n",
    "Author: @claraburgard\n",
    "\"\"\""
   ]
  },
  {
   "cell_type": "code",
   "execution_count": 1,
   "id": "ff120c24-66b8-4552-a25c-4709d5935b45",
   "metadata": {},
   "outputs": [],
   "source": [
    "import xarray as xr\n",
    "import numpy as np\n",
    "\n",
    "import matplotlib.pyplot as plt\n",
    "import matplotlib as mpl\n",
    "import cmocean\n",
    "\n",
    "import cartopy.crs as ccrs\n",
    "import cartopy.feature\n",
    "from cartopy.util import add_cyclic_point\n",
    "import seaborn as sns\n",
    "import cartopy\n",
    "import matplotlib.colors as colors\n",
    "from matplotlib.colors import Normalize\n",
    "from cartopy.feature import LAND\n",
    "\n",
    "from basal_melt_NEMO.constants import *\n",
    "import basal_melt_NEMO.figure_functions as figf\n",
    "import basal_melt_NEMO.useful_functions as uf"
   ]
  },
  {
   "cell_type": "code",
   "execution_count": 2,
   "id": "23fdcde6-7460-419d-a430-26298e7ecf18",
   "metadata": {},
   "outputs": [],
   "source": [
    "sns.set_context('paper')"
   ]
  },
  {
   "cell_type": "code",
   "execution_count": 3,
   "id": "0ee91924-85f9-4a9e-9d2c-ae16df0276cf",
   "metadata": {},
   "outputs": [
    {
     "name": "stderr",
     "output_type": "stream",
     "text": [
      "QStandardPaths: error creating runtime directory '/run/user/2784' (Permission denied)\n"
     ]
    }
   ],
   "source": [
    "%matplotlib qt5"
   ]
  },
  {
   "cell_type": "markdown",
   "id": "bfdce31b-0f0a-4328-868d-8ed49d375f47",
   "metadata": {},
   "source": [
    "READ IN DATA"
   ]
  },
  {
   "cell_type": "code",
   "execution_count": 4,
   "id": "41e2ef0a-5667-45b5-bb3e-5d8ea3477628",
   "metadata": {},
   "outputs": [],
   "source": [
    "inputpath_closed='/data/cdelaver/n42tm21/'\n",
    "inputpath_open='/data/cdelaver/n42openc/'\n",
    "clara_path='/data/cburgard/CASIMIR_SIMU/interim/XR_PROCESSED/'\n",
    "plot_path = '/data/cburgard/PLOTS/first_plots/'"
   ]
  },
  {
   "cell_type": "code",
   "execution_count": 5,
   "id": "674cbcff-85f4-4bd0-bd19-4cb0aa90d440",
   "metadata": {},
   "outputs": [],
   "source": [
    "### FILE T PREPARATION"
   ]
  },
  {
   "cell_type": "code",
   "execution_count": 6,
   "id": "c6cfda4b-47f9-407a-a473-35550078a970",
   "metadata": {},
   "outputs": [],
   "source": [
    "file_open_list = []\n",
    "file_closed_list = []\n",
    "\n",
    "for yy in range(9):\n",
    "    yy1=yy+1\n",
    "    file_open = xr.open_mfdataset(inputpath_open + 'n42openc_00'+str(yy)+'10101_00'+str(yy1)+'01231_1Y_grid_T.nc')\n",
    "    file_closed = xr.open_mfdataset(inputpath_closed + 'n42tm21_00'+str(yy)+'10101_00'+str(yy1)+'01231_1Y_grid_T.nc')\n",
    "    file_open_list.append(file_open)\n",
    "    file_closed_list.append(file_closed)\n",
    "file_T_open_all = xr.concat(file_open_list, dim='time_counter')\n",
    "file_T_closed_all = xr.concat(file_closed_list, dim='time_counter')\n"
   ]
  },
  {
   "cell_type": "code",
   "execution_count": 7,
   "id": "a1541a47-1f44-4d0c-a5e7-1dc17eb2554f",
   "metadata": {},
   "outputs": [],
   "source": [
    "file_T_open_all = file_T_open_all.rename({'time_counter':'time'}) \n",
    "file_T_open_all['time'] = file_T_open_all['time'].dt.year\n",
    "file_T_open_all = file_T_open_all.where(file_T_open_all['so'] > 0)\n",
    "\n",
    "file_T_closed_all = file_T_closed_all.rename({'time_counter':'time'}) \n",
    "file_T_closed_all['time'] = file_T_closed_all['time'].dt.year"
   ]
  },
  {
   "cell_type": "code",
   "execution_count": 8,
   "id": "27390288-83aa-437f-aa23-60c82a129d83",
   "metadata": {},
   "outputs": [],
   "source": [
    "mask_land_closed = file_T_closed_all['so'].isel(time=0,deptht=0)\n",
    "mask_land_open = file_T_open_all['so'].isel(time=0)"
   ]
  },
  {
   "cell_type": "code",
   "execution_count": 9,
   "id": "bfe1331a-0888-4cdc-8165-8e0f8cbf5421",
   "metadata": {},
   "outputs": [],
   "source": [
    "cellarea_open = file_T_open_all['area'].isel(time=0).where(mask_land_open > 0).drop('time')\n",
    "cellarea_closed = file_T_closed_all['area'].isel(time=0).where(mask_land_closed > 0).drop('time')"
   ]
  },
  {
   "cell_type": "code",
   "execution_count": 10,
   "id": "4a1dfa0d-1ca5-49de-83c0-7cdcdeff43bb",
   "metadata": {},
   "outputs": [],
   "source": [
    "### FILE U PREPARATION"
   ]
  },
  {
   "cell_type": "code",
   "execution_count": 11,
   "id": "a39a748f-a04e-4268-a7c4-38f741ba1ae6",
   "metadata": {},
   "outputs": [],
   "source": [
    "file_open_list = []\n",
    "file_closed_list = []\n",
    "\n",
    "for yy in range(9):\n",
    "    yy1=yy+1\n",
    "\n",
    "    file_open = xr.open_mfdataset(inputpath_open + 'n42openc_00'+str(yy)+'10101_00'+str(yy1)+'01231_1Y_grid_U.nc')\n",
    "    file_closed = xr.open_mfdataset(inputpath_closed + 'n42tm21_00'+str(yy)+'10101_00'+str(yy1)+'01231_1Y_grid_U.nc')\n",
    "    file_open_list.append(file_open)\n",
    "    file_closed_list.append(file_closed)\n",
    "    \n",
    "file_U_open_all = xr.concat(file_open_list, dim='time_counter')\n",
    "file_U_closed_all = xr.concat(file_closed_list, dim='time_counter')\n",
    "\n",
    "file_U_open_all = file_U_open_all.rename({'time_counter':'time'}) \n",
    "file_U_open_all['time'] = file_U_open_all['time'].dt.year\n",
    "\n",
    "file_U_closed_all = file_U_closed_all.rename({'time_counter':'time'}) \n",
    "file_U_closed_all['time'] = file_U_closed_all['time'].dt.year"
   ]
  },
  {
   "cell_type": "code",
   "execution_count": 12,
   "id": "8f337a85-5e90-442f-8a2e-8829935090f4",
   "metadata": {},
   "outputs": [],
   "source": [
    "u_vertsum_open = (file_U_open_all['uocetr_eff'] * (mask_land_open.rename({'deptht':'depthu'}) > 0)).sum('depthu')\n",
    "u_vertsum_closed = (file_U_closed_all['uocetr_eff'] * (mask_land_closed.rename({'deptht':'depthu'}) > 0)).sum('depthu')"
   ]
  },
  {
   "cell_type": "code",
   "execution_count": 13,
   "id": "c23e61bd-7256-46b3-99e4-4d8df7736366",
   "metadata": {},
   "outputs": [],
   "source": [
    "### VAR LIST"
   ]
  },
  {
   "cell_type": "code",
   "execution_count": 14,
   "id": "7ca50efd-6893-4bc7-98e7-a57963a77f30",
   "metadata": {},
   "outputs": [],
   "source": [
    "var_list = ['global_temp','wed_gyre','ross_gyre','ACC',\n",
    "            'FRIS_melt','Ross_melt','LarsenC_melt','total_melt',\n",
    "            'mar_sie_arc','sep_sie_arc','feb_sie_ant','sep_sie_ant',\n",
    "            'Sbot_WWED','Sbot_EWED','Sbot_WROSS','Sbot_EROSS','Sbot_AMU',\n",
    "            'Tbot_WWED','Tbot_EWED','Tbot_WROSS','Tbot_EROSS','Tbot_AMU']\n",
    "\n"
   ]
  },
  {
   "cell_type": "code",
   "execution_count": 15,
   "id": "2000bd1c-6a3e-42a7-82ca-00f85d30d42a",
   "metadata": {},
   "outputs": [],
   "source": [
    "var_obs_mean = xr.DataArray(data=np.array([15.0, 56.0, 20.0, 136.7, \n",
    "               155.4, 47.7, 20.7, 1500,\n",
    "               15.3, 6.3, 3.3, 19.8, \n",
    "               34.9, np.nan, 35.0, np.nan, np.nan, \n",
    "               np.nan, -1.95, -1.9, -1.7, np.nan]), dims='var').assign_coords({'var': var_list})"
   ]
  },
  {
   "cell_type": "code",
   "execution_count": 16,
   "id": "8ae019b9-f22b-48ea-9103-cae1fe4fbc2c",
   "metadata": {},
   "outputs": [],
   "source": [
    "var_obs_std = xr.DataArray(data=np.array([0, 8.0, 5.0, 7.8, \n",
    "              45.0, 34.0, 67.0, 237,\n",
    "              1.0, 1.0, 0.5, 0.5, \n",
    "              0.0, np.nan, 0.0, np.nan, np.nan,\n",
    "              np.nan, 0.2, 0.4, 0.4, np.nan]), dims='var').assign_coords({'var': var_list})"
   ]
  },
  {
   "cell_type": "code",
   "execution_count": 17,
   "id": "3dd961d3-40b9-4856-ac30-f5efca7a8fcb",
   "metadata": {},
   "outputs": [],
   "source": [
    "var_to_plot = xr.Dataset()"
   ]
  },
  {
   "cell_type": "code",
   "execution_count": 19,
   "id": "9f0a84e4-a220-4277-92aa-d83c5d2c403d",
   "metadata": {},
   "outputs": [],
   "source": [
    "### GLOBAL TEMP\n",
    "var_to_plot['global_temp'] = xr.concat([uf.weighted_mean(file_T_open_all['thetao'].isel(deptht=0),['x','y'],cellarea_open.isel(deptht=0)).assign_coords({'cav':'open'}),\n",
    "                                        uf.weighted_mean(file_T_closed_all['thetao'].isel(deptht=0),['x','y'],cellarea_closed).assign_coords({'cav':'closed'})], \n",
    "                                       dim='cav').load()"
   ]
  },
  {
   "cell_type": "code",
   "execution_count": 20,
   "id": "4b2f06fa-1d36-4704-ad1b-79d5ae6ffc50",
   "metadata": {},
   "outputs": [],
   "source": [
    "### ACC\n",
    "var_to_plot['ACC'] = xr.concat([u_vertsum_open.sel(x=220,y=range(79,107)).sum('y').assign_coords({'cav':'open'}),\n",
    "                                u_vertsum_closed.sel(x=220,y=range(79,107)).sum('y').assign_coords({'cav':'closed'})], dim='cav')\n",
    "var_to_plot['ACC'] = var_to_plot['ACC']/10**6"
   ]
  },
  {
   "cell_type": "code",
   "execution_count": 21,
   "id": "07cdb1a6-1f62-476c-ada6-602b98d07291",
   "metadata": {},
   "outputs": [],
   "source": [
    "### GYRES\n",
    "map_var = cellarea_closed\n",
    "\n",
    "uocetr_Wed_open = u_vertsum_open.where(uf.in_range(map_var.nav_lat,[-66.50,-60.40]) & uf.in_range(map_var.nav_lon,[-31.25,37.50]), drop=True)\n",
    "uocetr_Wed_closed = u_vertsum_closed.where(uf.in_range(map_var.nav_lat,[-66.50,-60.40]) & uf.in_range(map_var.nav_lon,[-31.25,37.50]), drop=True)\n",
    "\n",
    "uocetr_Ross_open = u_vertsum_open.where(uf.in_range(map_var.nav_lat,[-72.650,-61.600]) & ((map_var.nav_lon <= -135.75) | (map_var.nav_lon >= 360-168.500)), drop=True)\n",
    "uocetr_Ross_closed = u_vertsum_closed.where(uf.in_range(map_var.nav_lat,[-72.650,-61.600]) & ((map_var.nav_lon <= -135.75) | (map_var.nav_lon >= 360-168.500)), drop=True)\n"
   ]
  },
  {
   "cell_type": "code",
   "execution_count": 22,
   "id": "07698cc8-7d25-485e-8915-987faa76dd33",
   "metadata": {},
   "outputs": [],
   "source": [
    "var_to_plot['ross_gyre'] = xr.concat([uocetr_Ross_open.cumsum('y').max(['y','x']).assign_coords({'cav':'open'}), uocetr_Ross_closed.cumsum('y').max(['y','x']).assign_coords({'cav':'closed'})], dim='cav')/10**6\n",
    "var_to_plot['wed_gyre'] = xr.concat([uocetr_Wed_open.cumsum('y').max(['y','x']).assign_coords({'cav':'open'}), uocetr_Wed_closed.cumsum('y').max(['y','x']).assign_coords({'cav':'closed'})], dim='cav')/10**6\n"
   ]
  },
  {
   "cell_type": "code",
   "execution_count": 23,
   "id": "2f3201c6-6e88-496b-8a76-2820b6a0ae3e",
   "metadata": {},
   "outputs": [],
   "source": [
    "### ICE SHELF MELT\n",
    "T_grid_vars_open = xr.open_dataset('/data/cburgard/CASIMIR_SIMU/interim/CDO_PROCESSED/n42openc/n42openc_0-100_1Y_grid_isfvars.nc')\n",
    "\n",
    "lon = T_grid_vars_open.nav_lon\n",
    "lat = T_grid_vars_open.nav_lat\n",
    "\n",
    "T_grid_vars_open = T_grid_vars_open.rename({'time_counter':'time'}) \n",
    "T_grid_vars_open['time'] = T_grid_vars_open['time'].dt.year\n",
    "\n",
    "mask_FRIS = (lon <= -30) & (lon >= -80.) & (lat >= -84.) & (lat <= -74.)\n",
    "mask_Ross = ((lon <= -120) | (lon >= 150)) & (lat >= -87.) & (lat <= -65.)\n",
    "mask_LarsenC = (lon <= -58) & (lon >= -66) & (lat >= -71.) & (lat <= -64.)"
   ]
  },
  {
   "cell_type": "code",
   "execution_count": 24,
   "id": "95429f13-9105-4c42-a34d-54ffe26fdd51",
   "metadata": {},
   "outputs": [],
   "source": [
    "melt_all = (T_grid_vars_open['iceshelf_cav'] * cellarea_open.max('deptht') * yearinsec *10**(-12))\n",
    "FRIS_melt= melt_all.where(mask_FRIS).sum(['x','y'])\n",
    "Ross_melt = melt_all.where(mask_Ross).sum(['x','y'])\n",
    "LarsenC_melt = melt_all.where(mask_LarsenC).sum(['x','y'])\n",
    "\n",
    "var_to_plot['FRIS_melt'] = xr.concat([FRIS_melt.assign_coords({'cav':'open'}), FRIS_melt.assign_coords({'cav':'closed'}) * np.nan], dim='cav')\n",
    "var_to_plot['Ross_melt'] = xr.concat([Ross_melt.assign_coords({'cav':'open'}), Ross_melt.assign_coords({'cav':'closed'}) * np.nan], dim='cav')\n",
    "var_to_plot['LarsenC_melt'] = xr.concat([LarsenC_melt.assign_coords({'cav':'open'}), LarsenC_melt.assign_coords({'cav':'closed'}) * np.nan], dim='cav')\n",
    "\n",
    "var_to_plot['total_melt'] = var_to_plot['FRIS_melt'] + var_to_plot['Ross_melt'] + var_to_plot['LarsenC_melt'] + (T_grid_vars_open['iceshelf'] * cellarea_open.max('deptht') * yearinsec * 10**(-12)).sum(['x','y'])\n"
   ]
  },
  {
   "cell_type": "code",
   "execution_count": 25,
   "id": "ec3696d8-9150-440d-8175-57012014736b",
   "metadata": {},
   "outputs": [],
   "source": [
    "### SEA ICE\n",
    "\n",
    "file_open_list = []\n",
    "file_closed_list = []\n",
    "\n",
    "for yy in range(9):\n",
    "\n",
    "    file_open = xr.open_mfdataset(inputpath_open+'/n42openc_00'+str(yy)+'10101_00'+str(yy+1)+'01231_1M_icemod.nc')\n",
    "    file_closed = xr.open_mfdataset(inputpath_closed+'/n42tm21_00'+str(yy)+'10101_00'+str(yy+1)+'01231_1M_icemod.nc')\n",
    "    file_open_list.append(file_open)\n",
    "    file_closed_list.append(file_closed)\n",
    "\n",
    "file_ice_open_all = xr.concat(file_open_list, dim='time_counter')\n",
    "file_ice_closed_all = xr.concat(file_closed_list, dim='time_counter')\n"
   ]
  },
  {
   "cell_type": "code",
   "execution_count": 26,
   "id": "8685c5cc-d4fc-4ebc-a5ed-974efbea4f57",
   "metadata": {},
   "outputs": [],
   "source": [
    "file_ice_open_15 = file_ice_open_all['siconc'] > 0.15\n",
    "file_ice_closed_15 = file_ice_closed_all['siconc'] > 0.15"
   ]
  },
  {
   "cell_type": "code",
   "execution_count": 31,
   "id": "51f900e9-b033-4f4e-8d41-902db8cf6857",
   "metadata": {},
   "outputs": [],
   "source": [
    "lon = file_ice_open_all.nav_lon\n",
    "lat = file_ice_open_all.nav_lat\n",
    "\n",
    "mask_Arc = (lat >= 50) \n",
    "mask_Ant = (lat <= -50) "
   ]
  },
  {
   "cell_type": "code",
   "execution_count": 32,
   "id": "d390425f-acf3-4838-99ba-32e3d846ea94",
   "metadata": {},
   "outputs": [],
   "source": [
    "sie_Ant_open = (file_ice_open_15.where(mask_Ant) * cellarea_open.isel(deptht=0).drop('deptht')).sum(['x','y']).rename({'time_counter':'time'}).load()\n",
    "sie_Ant_closed = (file_ice_closed_15.where(mask_Ant) * cellarea_open.isel(deptht=0).drop('deptht')).sum(['x','y']).rename({'time_counter':'time'}).load()\n",
    "sie_Arc_open = (file_ice_open_15.where(mask_Arc) * cellarea_open.isel(deptht=0).drop('deptht')).sum(['x','y']).rename({'time_counter':'time'}).load()\n",
    "sie_Arc_closed = (file_ice_closed_15.where(mask_Arc) * cellarea_open.isel(deptht=0).drop('deptht')).sum(['x','y']).rename({'time_counter':'time'}).load()"
   ]
  },
  {
   "cell_type": "code",
   "execution_count": 33,
   "id": "44e4d358-a11d-46ed-a8c8-5ff964d7301c",
   "metadata": {},
   "outputs": [],
   "source": [
    "var_to_plot['mar_sie_arc'] = xr.concat([sie_Arc_open.where(sie_Arc_open['time.month'] == 3, drop=True).squeeze().assign_coords({'cav':'open'}),\n",
    "                                        sie_Arc_closed.where(sie_Arc_closed['time.month'] == 3, drop=True).squeeze().assign_coords({'cav':'closed'})], dim='cav').assign_coords({'time': var_to_plot.time})/10**12\n",
    "var_to_plot['sep_sie_ant'] = xr.concat([sie_Ant_open.where(sie_Ant_open['time.month'] == 9, drop=True).squeeze().assign_coords({'cav':'open'}),\n",
    "                                        sie_Ant_closed.where(sie_Ant_closed['time.month'] == 9, drop=True).squeeze().assign_coords({'cav':'closed'})], dim='cav').assign_coords({'time': var_to_plot.time})/10**12\n",
    "var_to_plot['sep_sie_arc'] = xr.concat([sie_Arc_open.where(sie_Arc_open['time.month'] == 9, drop=True).squeeze().assign_coords({'cav':'open'}),\n",
    "                                        sie_Arc_closed.where(sie_Arc_closed['time.month'] == 9, drop=True).squeeze().assign_coords({'cav':'closed'})], dim='cav').assign_coords({'time': var_to_plot.time})/10**12\n",
    "var_to_plot['feb_sie_ant'] = xr.concat([sie_Ant_open.where(sie_Ant_open['time.month'] == 2, drop=True).squeeze().assign_coords({'cav':'open'}),\n",
    "                                        sie_Ant_closed.where(sie_Ant_closed['time.month'] == 2, drop=True).squeeze().assign_coords({'cav':'closed'})], dim='cav').assign_coords({'time': var_to_plot.time})/10**12\n"
   ]
  },
  {
   "cell_type": "code",
   "execution_count": 34,
   "id": "005cd0dc-7b18-4915-922f-71084152601f",
   "metadata": {},
   "outputs": [],
   "source": [
    "lon = file_T_open_all.nav_lon\n",
    "lat = file_T_open_all.nav_lat\n",
    "\n",
    "mask_regions = xr.Dataset()\n",
    "mask_regions['AMU'] = (lon >= -109.64) & (lon <= -102.23) & (lat >= -75.80) & (lat <= -71.66)\n",
    "mask_regions['WROSS'] = (lon >= 157.100) & (lon <= 173.333) & (lat >= -78.130) & (lat <= -74.040)\n",
    "mask_regions['EROSS'] = (lon >= -176.790) & (lon <= -157.820) & (lat >= -78.870) & (lat <= -77.520)\n",
    "mask_regions['WWED'] = (lon >= -65.130) & (lon <= -53.020) & (lat >= -75.950) & (lat <= -72.340)\n",
    "mask_regions['EWED'] = (lon >= -45.647) & (lon <= -32.253) & (lat >= -78.632) & (lat <= -76.899)"
   ]
  },
  {
   "cell_type": "code",
   "execution_count": null,
   "id": "13df8d8e-e7a7-4c73-a1d4-f59cbcf7fc9d",
   "metadata": {},
   "outputs": [],
   "source": [
    "### Bottom properties\n",
    "\n",
    "mask_cells = (file_T_closed_all['so'] > 0).isel(time=0).drop('time').drop('time_centered').load()\n",
    "bottom_open = mask_cells.sum('deptht') - 1\n",
    "\n",
    "mask_cells = (file_T_closed_all['so'] > 0).isel(time=0).drop('time').drop('time_centered').load()\n",
    "bottom_closed = mask_cells.sum('deptht') - 1\n",
    "\n",
    "for reg in ['AMU','WROSS','EROSS','WWED','EWED']:    \n",
    "    print(reg)\n",
    "    \n",
    "    var_to_plot['Tbot_'+reg] = xr.concat([file_T_closed_all['thetao'].isel(deptht=bottom_closed).where(mask_regions[reg], drop=True).mean(['x','y']).assign_coords({'cav': 'closed'}),\n",
    "                                           file_T_open_all['thetao'].isel(deptht=bottom_open).where(mask_regions[reg], drop=True).mean(['x','y']).assign_coords({'cav': 'open'})], dim='cav')\n",
    "    \n",
    "    var_to_plot['Sbot_'+reg] = xr.concat([file_T_closed_all['so'].isel(deptht=bottom_closed).where(mask_regions[reg], drop=True).mean(['x','y']).assign_coords({'cav': 'closed'}),\n",
    "                                           file_T_open_all['so'].isel(deptht=bottom_open).where(mask_regions[reg], drop=True).mean(['x','y']).assign_coords({'cav': 'open'})], dim='cav')"
   ]
  },
  {
   "cell_type": "code",
   "execution_count": 147,
   "id": "693bf15c-d935-4d3c-ad98-90c690ca2ad5",
   "metadata": {},
   "outputs": [
    {
     "data": {
      "text/plain": [
       "<matplotlib.collections.QuadMesh at 0x14a28e7c6d90>"
      ]
     },
     "execution_count": 147,
     "metadata": {},
     "output_type": "execute_result"
    }
   ],
   "source": [
    "plt.figure()\n",
    "file_T_open_all['thetao'].isel(deptht=bottom_closed).where(mask_regions[reg], drop=True).isel(time=0).plot()"
   ]
  },
  {
   "cell_type": "code",
   "execution_count": 183,
   "id": "fed54457-92df-4dfc-af28-4654e8b0e278",
   "metadata": {},
   "outputs": [],
   "source": [
    "var_to_plot = var_to_plot.load()"
   ]
  },
  {
   "cell_type": "code",
   "execution_count": 191,
   "id": "47914bec-9b61-427d-9ce5-d57ad1bd26c8",
   "metadata": {},
   "outputs": [],
   "source": [
    "f = plt.figure()\n",
    "f.set_size_inches(8.25*2, 8.25*2)\n",
    "\n",
    "ax={}\n",
    "\n",
    "leg_hdl = []\n",
    "\n",
    "i = 0\n",
    "\n",
    "\n",
    "for vv in var_list:\n",
    "    \n",
    "    ax[i] = f.add_subplot(5,5,i+1)\n",
    "\n",
    "    if vv in list(var_to_plot.keys()):\n",
    "        ax[i].plot(var_to_plot[vv].sel(cav='open'), color='deepskyblue')\n",
    "        ax[i].plot(var_to_plot[vv].sel(cav='closed'), color='royalblue')\n",
    "    \n",
    "    ax[i].axhline(y=var_obs_mean.sel(var=vv), color='black', linewidth=2)\n",
    "    ax[i].fill_between(x=np.arange(0,100),y1=var_obs_mean.sel(var=vv)-var_obs_std.sel(var=vv), y2=var_obs_mean.sel(var=vv)+var_obs_std.sel(var=vv), color='grey',alpha=0.2)\n",
    "\n",
    "    ax[i].set_title(vv)\n",
    "\n",
    "    i = i+1\n",
    "#f.legend()\n",
    "#f.subplots_adjust(bottom=0.05, wspace=0.1)\n",
    "\n",
    "f.tight_layout()\n",
    "sns.despine()\n",
    "plt.savefig(plot_path + 'VALSO_comparison_plot.pdf')\n"
   ]
  },
  {
   "cell_type": "code",
   "execution_count": null,
   "id": "c5c80583-24b0-4e9c-9df6-f2617379dcd3",
   "metadata": {},
   "outputs": [],
   "source": [
    "T_grid_vars_closed['thetao'].isel(deptht=bottom_closed).isel(time_counter=0).plot()"
   ]
  },
  {
   "cell_type": "code",
   "execution_count": null,
   "id": "b9f62453-98a7-4e57-b339-655e48b6f481",
   "metadata": {},
   "outputs": [],
   "source": [
    "uocetr_Ross_open = u_open['uocetr_eff'].where(uf.in_range(u_open.nav_lat,[-72.650,-61.600]) & ((u_open.nav_lon <= -135.75) | (u_open.nav_lon >= 360-168.500)), drop=True)\n"
   ]
  },
  {
   "cell_type": "code",
   "execution_count": null,
   "id": "9c6a44ab-2567-4318-b90f-2830577c8c2d",
   "metadata": {},
   "outputs": [],
   "source": [
    "uocetr_Ross_open.nav_lat.max()"
   ]
  },
  {
   "cell_type": "markdown",
   "id": "ed6f6197-5d90-4c21-a682-d4b8bbb0e54d",
   "metadata": {},
   "source": [
    "CHECK THAT I AM LOOKING AT THE RIGHT REGIONS FOR THE GYRES"
   ]
  },
  {
   "cell_type": "code",
   "execution_count": null,
   "id": "2c2796bd-7c87-4828-b118-88267eb9086e",
   "metadata": {},
   "outputs": [],
   "source": [
    "ref = uocetr_Ross_open.isel(time_counter=0)\n",
    "\n",
    "lon = ref.nav_lon\n",
    "lat = ref.nav_lat\n",
    "\n",
    "proj = ccrs.SouthPolarStereo(central_longitude=0)\n",
    "wrap_ref, wrap_lon = ref, lon #add_cyclic_point(ref.values,coord=lon,axis=1)\n",
    "\n",
    "theta = np.linspace(0, 2*np.pi, 100)\n",
    "center, radius = [0.5, 0.5], 0.5\n",
    "verts = np.vstack([np.sin(theta), np.cos(theta)]).T\n",
    "circle = mpl.path.Path(verts * radius + center)   \n",
    "\n",
    "ax1 = plt.subplot(1, 1, 1, projection=proj)\n",
    "abso0 = ax1.pcolormesh(wrap_lon,lat,wrap_ref,transform=ccrs.PlateCarree(),rasterized=True)\n",
    "ax1.coastlines(resolution='110m', linewidth=0.5)\n",
    "ax1.set_extent([-180, 180, -90, -50], crs=ccrs.PlateCarree())\n",
    "ax1.set_boundary(circle, transform=ax1.transAxes)"
   ]
  },
  {
   "cell_type": "code",
   "execution_count": null,
   "id": "cdaecdf8-3ef5-40d7-8d74-ddfec6396e2d",
   "metadata": {},
   "outputs": [],
   "source": [
    "ref = cellarea_closed.where(mask_land_closed > 0)\n",
    "\n",
    "lon = ref.nav_lon\n",
    "lat = ref.nav_lat\n",
    "\n",
    "proj = ccrs.SouthPolarStereo(central_longitude=0)\n",
    "wrap_ref, wrap_lon = ref, lon #add_cyclic_point(ref.values,coord=lon,axis=1)\n",
    "\n",
    "theta = np.linspace(0, 2*np.pi, 100)\n",
    "center, radius = [0.5, 0.5], 0.5\n",
    "verts = np.vstack([np.sin(theta), np.cos(theta)]).T\n",
    "circle = mpl.path.Path(verts * radius + center)   \n",
    "\n",
    "ax1 = plt.subplot(1, 1, 1, projection=proj)\n",
    "abso0 = ax1.pcolormesh(wrap_lon,lat,wrap_ref,transform=ccrs.PlateCarree(),rasterized=True)\n",
    "ax1.coastlines(resolution='110m', linewidth=0.5)\n",
    "ax1.set_extent([-180, 180, -90, -20], crs=ccrs.PlateCarree())\n",
    "ax1.set_boundary(circle, transform=ax1.transAxes)"
   ]
  },
  {
   "cell_type": "code",
   "execution_count": null,
   "id": "325e4e77-eb48-43bc-86f7-ed8b3d57f59b",
   "metadata": {},
   "outputs": [],
   "source": [
    "ref = cellarea_open.max('deptht')\n",
    "plt.figure()\n",
    "\n",
    "lon = ref.nav_lon\n",
    "lat = ref.nav_lat\n",
    "\n",
    "proj = ccrs.SouthPolarStereo(central_longitude=0)\n",
    "wrap_ref, wrap_lon = ref, lon #add_cyclic_point(ref.values,coord=lon,axis=1)\n",
    "\n",
    "theta = np.linspace(0, 2*np.pi, 100)\n",
    "center, radius = [0.5, 0.5], 0.5\n",
    "verts = np.vstack([np.sin(theta), np.cos(theta)]).T\n",
    "circle = mpl.path.Path(verts * radius + center)   \n",
    "\n",
    "ax1 = plt.subplot(1, 1, 1, projection=proj)\n",
    "abso0 = ax1.pcolormesh(wrap_lon,lat,wrap_ref,transform=ccrs.PlateCarree(),rasterized=True)\n",
    "ax1.coastlines(resolution='110m', linewidth=0.5)\n",
    "ax1.set_extent([-180, 180, -90, -50], crs=ccrs.PlateCarree())\n",
    "ax1.set_boundary(circle, transform=ax1.transAxes)"
   ]
  },
  {
   "cell_type": "code",
   "execution_count": null,
   "id": "f50c0094-fda8-454f-9427-7e65727d0453",
   "metadata": {},
   "outputs": [],
   "source": [
    "ref = cellarea_closed.where(mask_land_closed > 0)\n",
    "\n",
    "lon = ref.nav_lon\n",
    "lat = ref.nav_lat\n",
    "\n",
    "proj = ccrs.NorthPolarStereo(central_longitude=0)\n",
    "wrap_ref, wrap_lon = ref, lon #add_cyclic_point(ref.values,coord=lon,axis=1)\n",
    "\n",
    "theta = np.linspace(0, 2*np.pi, 100)\n",
    "center, radius = [0.5, 0.5], 0.5\n",
    "verts = np.vstack([np.sin(theta), np.cos(theta)]).T\n",
    "circle = mpl.path.Path(verts * radius + center)   \n",
    "\n",
    "ax1 = plt.subplot(1, 1, 1, projection=proj)\n",
    "abso0 = ax1.pcolormesh(wrap_lon,lat,wrap_ref,transform=ccrs.PlateCarree(),rasterized=True)\n",
    "ax1.coastlines(resolution='110m', linewidth=0.5)\n",
    "ax1.set_extent([-180, 180, 20, 90], crs=ccrs.PlateCarree())\n",
    "ax1.set_boundary(circle, transform=ax1.transAxes)"
   ]
  },
  {
   "cell_type": "code",
   "execution_count": null,
   "id": "423c9d6a-1887-40ed-8be5-d2db464cbb96",
   "metadata": {},
   "outputs": [],
   "source": [
    "ref = cellarea_open.isel(deptht=0)\n",
    "plt.figure()\n",
    "\n",
    "lon = ref.nav_lon\n",
    "lat = ref.nav_lat\n",
    "\n",
    "proj = ccrs.NorthPolarStereo(central_longitude=0)\n",
    "wrap_ref, wrap_lon = ref, lon #add_cyclic_point(ref.values,coord=lon,axis=1)\n",
    "\n",
    "theta = np.linspace(0, 2*np.pi, 100)\n",
    "center, radius = [0.5, 0.5], 0.5\n",
    "verts = np.vstack([np.sin(theta), np.cos(theta)]).T\n",
    "circle = mpl.path.Path(verts * radius + center)   \n",
    "\n",
    "ax1 = plt.subplot(1, 1, 1, projection=proj)\n",
    "abso0 = ax1.pcolormesh(wrap_lon,lat,wrap_ref,transform=ccrs.PlateCarree(),rasterized=True)\n",
    "ax1.coastlines(resolution='110m', linewidth=0.5)\n",
    "ax1.set_extent([-180, 180, 20, 90], crs=ccrs.PlateCarree())\n",
    "ax1.set_boundary(circle, transform=ax1.transAxes)"
   ]
  },
  {
   "cell_type": "code",
   "execution_count": 141,
   "id": "46192208-49d4-49cf-9454-c5976e553192",
   "metadata": {},
   "outputs": [],
   "source": [
    "ref = mask_regions['WROSS']\n",
    "plt.figure()\n",
    "\n",
    "lon = ref.nav_lon\n",
    "lat = ref.nav_lat\n",
    "\n",
    "proj = ccrs.SouthPolarStereo(central_longitude=0)\n",
    "wrap_ref, wrap_lon = ref, lon #add_cyclic_point(ref.values,coord=lon,axis=1)\n",
    "\n",
    "theta = np.linspace(0, 2*np.pi, 100)\n",
    "center, radius = [0.5, 0.5], 0.5\n",
    "verts = np.vstack([np.sin(theta), np.cos(theta)]).T\n",
    "circle = mpl.path.Path(verts * radius + center)   \n",
    "\n",
    "ax1 = plt.subplot(1, 1, 1, projection=proj)\n",
    "abso0 = ax1.pcolormesh(wrap_lon,lat,wrap_ref,transform=ccrs.PlateCarree(),rasterized=True)\n",
    "ax1.coastlines(resolution='110m', linewidth=0.5)\n",
    "ax1.set_extent([-180, 180, -90, -50], crs=ccrs.PlateCarree())\n",
    "ax1.set_boundary(circle, transform=ax1.transAxes)"
   ]
  },
  {
   "cell_type": "code",
   "execution_count": null,
   "id": "451fec7b-c8bc-44f7-b4a5-c86258719f8e",
   "metadata": {},
   "outputs": [],
   "source": [
    "u_open['uocetr_eff'].sel(x=range(220,221),y=range(79,107)).isel(time_counter=0)"
   ]
  },
  {
   "cell_type": "code",
   "execution_count": null,
   "id": "c68d5023-591c-4b05-8cf9-f93e1ee056c9",
   "metadata": {},
   "outputs": [],
   "source": [
    "\n",
    "ref = T_grid_vars_closed_mean10['thetao'].isel(deptht=0).where(mask_land_closed > 0)\n",
    "\n",
    "lon = ref.nav_lon\n",
    "lat = ref.nav_lat\n",
    "\n",
    "proj = ccrs.PlateCarree(central_longitude=0.0, globe=None)\n",
    "#wrap_ref, wrap_lon = ref, lon #add_cyclic_point(ref.values,coord=lon,axis=1)\n",
    "\n",
    "#theta = np.linspace(0, 2*np.pi, 100)\n",
    "#center, radius = [0.5, 0.5], 0.5\n",
    "#verts = np.vstack([np.sin(theta), np.cos(theta)]).T\n",
    "#circle = mpl.path.Path(verts * radius + center)   \n",
    "\n",
    "ax1 = plt.subplot(1, 1, 1, projection=proj)\n",
    "abso0 = ax1.pcolormesh(lon,lat,ref,transform=ccrs.PlateCarree(),rasterized=True)\n",
    "ax1.coastlines(resolution='110m', linewidth=0.5)\n",
    "#ax1.set_extent([-180, 180, -90, -50], crs=ccrs.PlateCarree())\n",
    "#ax1.set_boundary(circle, transform=ax1.transAxes)"
   ]
  },
  {
   "cell_type": "code",
   "execution_count": null,
   "id": "8a621a8e-6d24-4c41-948e-9db0555f1eea",
   "metadata": {},
   "outputs": [],
   "source": [
    "T_grid_vars_closed_mean10['so'].isel(deptht=0).plot()"
   ]
  },
  {
   "cell_type": "code",
   "execution_count": null,
   "id": "195b06c2-15c0-49c8-8b90-ce04b1767b3f",
   "metadata": {},
   "outputs": [],
   "source": [
    "mask_land_closed = T_grid_vars_closed_mean10['so'].isel(deptht=0)"
   ]
  },
  {
   "cell_type": "code",
   "execution_count": null,
   "id": "0b015006-5750-4223-90a5-07ff42a1f44b",
   "metadata": {},
   "outputs": [],
   "source": [
    "mask_land_closed.plot()"
   ]
  },
  {
   "cell_type": "code",
   "execution_count": null,
   "id": "b6414fd4-dc46-4b67-ae6d-4c2daaeb0392",
   "metadata": {},
   "outputs": [],
   "source": [
    "cellarea_closed.where(mask_land_closed)"
   ]
  },
  {
   "cell_type": "code",
   "execution_count": null,
   "id": "d4c8ba62-c892-4d64-94fc-8ff09a0abf11",
   "metadata": {},
   "outputs": [],
   "source": []
  }
 ],
 "metadata": {
  "kernelspec": {
   "display_name": "py38",
   "language": "python",
   "name": "py38"
  },
  "language_info": {
   "codemirror_mode": {
    "name": "ipython",
    "version": 3
   },
   "file_extension": ".py",
   "mimetype": "text/x-python",
   "name": "python",
   "nbconvert_exporter": "python",
   "pygments_lexer": "ipython3",
   "version": "3.8.18"
  }
 },
 "nbformat": 4,
 "nbformat_minor": 5
}
